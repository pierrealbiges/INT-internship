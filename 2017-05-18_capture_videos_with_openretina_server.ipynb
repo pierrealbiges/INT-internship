{
 "cells": [
  {
   "cell_type": "code",
   "execution_count": 1,
   "metadata": {},
   "outputs": [],
   "source": [
    "%load_ext autoreload\n",
    "%autoreload 2"
   ]
  },
  {
   "cell_type": "code",
   "execution_count": 90,
   "metadata": {},
   "outputs": [
    {
     "name": "stdout",
     "output_type": "stream",
     "text": [
      "Overwriting 2017-05-18_capture_videos_with_openretina_server.py\n"
     ]
    }
   ],
   "source": [
    "%%writefile 2017-05-18_capture_videos_with_openretina_server.py\n",
    "\"\"\" Computer side \"\"\"\n",
    "\n",
    "import zmq\n",
    "\n",
    "try: \n",
    "    context = zmq.Context()\n",
    "    print('Connecting to Pi...')\n",
    "    dealer = context.socket(zmq.DEALER)\n",
    "    dealer.connect('tcp://10.164.7.213:5555')\n",
    "    print('Connected')\n",
    "    \n",
    "    print('Sending request...')\n",
    "    dealer.send(b'fetch')\n",
    "    \n",
    "    total = 0\n",
    "    chunks = 0\n",
    "    \n",
    "    while True:\n",
    "        chunk = dealer.recv()\n",
    "        chunk_str = str(chunk) \n",
    "        print(type(chunk), type(chunk_str))\n",
    "        chunks += 1\n",
    "        size = len(chunk)\n",
    "        total += size\n",
    "        \n",
    "        print('Chunk %i received, %i bytes' % (chunks, size))\n",
    "        with open(\"video_picam\", \"wb\") as video:\n",
    "            video.write(chunk)\n",
    "    \n",
    "        if size == 0:\n",
    "            break #Whole file received\n",
    "            \n",
    "    print('%i chunks received, %i bytes' % (chunks, total))\n",
    "\n",
    "finally: \n",
    "    video.close()\n",
    "    dealer.close()\n",
    "    context.term()\n",
    "    print('\\nConnection closed')"
   ]
  },
  {
   "cell_type": "code",
   "execution_count": 91,
   "metadata": {
    "scrolled": true
   },
   "outputs": [
    {
     "name": "stdout",
     "output_type": "stream",
     "text": [
      "\u001b]0;IPython: Documents/Intership\u0007Connecting to Pi...\n",
      "Connected\n",
      "Sending request...\n",
      "<class 'bytes'> <class 'str'>\n",
      "Chunk 1 received, 250000 bytes\n",
      "<class 'bytes'> <class 'str'>\n",
      "Chunk 2 received, 168001 bytes\n",
      "<class 'bytes'> <class 'str'>\n",
      "Chunk 3 received, 0 bytes\n",
      "3 chunks received, 418001 bytes\n",
      "\n",
      "Connection closed\n"
     ]
    }
   ],
   "source": [
    "!ipython 2017-05-18_capture_videos_with_openretina_server.py"
   ]
  },
  {
   "cell_type": "code",
   "execution_count": 92,
   "metadata": {},
   "outputs": [
    {
     "name": "stdout",
     "output_type": "stream",
     "text": [
      "File opened\n",
      "File readed\n",
      "b''\n",
      "File closed\n"
     ]
    }
   ],
   "source": [
    "try:\n",
    "    video = open(\"video_picam\", \"rb\")\n",
    "    print('File opened')\n",
    "    vid = video.read()\n",
    "    print('File readed')\n",
    "    print(vid)\n",
    "finally:\n",
    "    video.close()\n",
    "    print('File closed')"
   ]
  },
  {
   "cell_type": "code",
   "execution_count": null,
   "metadata": {
    "collapsed": true
   },
   "outputs": [],
   "source": []
  }
 ],
 "metadata": {
  "kernelspec": {
   "display_name": "Python 3",
   "language": "python",
   "name": "python3"
  },
  "language_info": {
   "codemirror_mode": {
    "name": "ipython",
    "version": 3
   },
   "file_extension": ".py",
   "mimetype": "text/x-python",
   "name": "python",
   "nbconvert_exporter": "python",
   "pygments_lexer": "ipython3",
   "version": "3.5.2+"
  }
 },
 "nbformat": 4,
 "nbformat_minor": 2
}
