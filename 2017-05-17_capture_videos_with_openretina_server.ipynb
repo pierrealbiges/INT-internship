{
 "cells": [
  {
   "cell_type": "code",
   "execution_count": 16,
   "metadata": {},
   "outputs": [
    {
     "name": "stdout",
     "output_type": "stream",
     "text": [
      "The autoreload extension is already loaded. To reload it, use:\n",
      "  %reload_ext autoreload\n"
     ]
    }
   ],
   "source": [
    "%load_ext autoreload\n",
    "%autoreload 2"
   ]
  },
  {
   "cell_type": "code",
   "execution_count": 34,
   "metadata": {},
   "outputs": [
    {
     "name": "stdout",
     "output_type": "stream",
     "text": [
      "Overwriting 2017-05-17_capture_videos_with_openretina_server.py\n"
     ]
    }
   ],
   "source": [
    "%%writefile 2017-05-17_capture_videos_with_openretina_server.py\n",
    "\"\"\" Computer side \"\"\"\n",
    "\n",
    "import zmq\n",
    "\n",
    "try: \n",
    "    context = zmq.Context()\n",
    "    print('Connecting to Pi...')\n",
    "    dealer = context.socket(zmq.DEALER)\n",
    "    dealer.connect('tcp://10.164.7.213:5555')\n",
    "    print('Connected')\n",
    "    \n",
    "    CHUNCK_SIZE = 250000\n",
    "    print('Sending request')\n",
    "    dealer.send(b'fetch')\n",
    "    \n",
    "    total = 0\n",
    "    chuncks = 0\n",
    "    \n",
    "    while True:\n",
    "        chunck = dealer.recv()\n",
    "        chuncks += 1\n",
    "        size = len(chunck)\n",
    "        total += size\n",
    "    \n",
    "        if size == 0:\n",
    "            break #Whole file received\n",
    "            \n",
    "    print('%i chuncks received, %i bytes' % (chuncks, total))\n",
    "\n",
    "finally: \n",
    "    dealer.close()\n",
    "    context.term()\n",
    "    print('\\nConnection closed')"
   ]
  },
  {
   "cell_type": "code",
   "execution_count": 36,
   "metadata": {
    "scrolled": true
   },
   "outputs": [
    {
     "name": "stdout",
     "output_type": "stream",
     "text": [
      "\u001b]0;IPython: Documents/Intership\u0007Connecting to Pi...\n",
      "Connected\n",
      "Sending request\n",
      "3 chuncks received, 418001 bytes\n",
      "\n",
      "Connection closed\n"
     ]
    }
   ],
   "source": [
    "!ipython 2017-05-17_capture_videos_with_openretina_server.py"
   ]
  },
  {
   "cell_type": "code",
   "execution_count": null,
   "metadata": {
    "collapsed": true
   },
   "outputs": [],
   "source": []
  },
  {
   "cell_type": "code",
   "execution_count": null,
   "metadata": {
    "collapsed": true
   },
   "outputs": [],
   "source": []
  }
 ],
 "metadata": {
  "kernelspec": {
   "display_name": "Python 3",
   "language": "python",
   "name": "python3"
  },
  "language_info": {
   "codemirror_mode": {
    "name": "ipython",
    "version": 3
   },
   "file_extension": ".py",
   "mimetype": "text/x-python",
   "name": "python",
   "nbconvert_exporter": "python",
   "pygments_lexer": "ipython3",
   "version": "3.5.2+"
  }
 },
 "nbformat": 4,
 "nbformat_minor": 2
}
