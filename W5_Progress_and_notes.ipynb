{
 "cells": [
  {
   "cell_type": "markdown",
   "metadata": {},
   "source": [
    "# 2017-05-22\n",
    "---\n",
    "I still have the connection problems I have every morning. Need to restart my computer a couple time until it works again. Always around 9."
   ]
  },
  {
   "cell_type": "markdown",
   "metadata": {},
   "source": [
    "# Outline\n",
    "---\n",
    "- [ ] Run a display of the video file\n",
    "    - [X] Write an openCV script to run the video file\n",
    "    - [X] Convert the h264 format file to one readable by openCV\n",
    "    - [ ] Make openCV read the video file\n",
    "- [ ] Find a way to separate frames of the video\n",
    "- [ ] Introduce comparaisons between frames to only code moving pixels (see openRetina way)\n",
    "- [ ] Capture a video with a stable background and moving object\n",
    "- [ ] Implement the scripts into OpenRetina\n",
    "- [ ] Make the Pi do the GC layer work \n",
    "- [ ] [OPT] Add a way to delete the video file on the Pi after sending and processing are done.\n",
    "- [ ] [OPT] Try to find the optimal chunk size for a faster file transfer.\n",
    "- [ ] [OPT] Rewrite the scripts to introduce classes"
   ]
  }
 ],
 "metadata": {
  "kernelspec": {
   "display_name": "Python 3",
   "language": "python",
   "name": "python3"
  },
  "language_info": {
   "codemirror_mode": {
    "name": "ipython",
    "version": 3
   },
   "file_extension": ".py",
   "mimetype": "text/x-python",
   "name": "python",
   "nbconvert_exporter": "python",
   "pygments_lexer": "ipython3",
   "version": "3.5.2+"
  }
 },
 "nbformat": 4,
 "nbformat_minor": 2
}
