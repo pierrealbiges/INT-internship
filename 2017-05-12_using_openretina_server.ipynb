{
 "cells": [
  {
   "cell_type": "raw",
   "metadata": {},
   "source": [
    "git clone https://github.com/laurentperrinet/openRetina\n",
    "cd openRetina\n",
    "!pip3 install -e ."
   ]
  },
  {
   "cell_type": "code",
   "execution_count": null,
   "metadata": {
    "collapsed": true
   },
   "outputs": [],
   "source": []
  },
  {
   "cell_type": "code",
   "execution_count": 1,
   "metadata": {
    "collapsed": true
   },
   "outputs": [],
   "source": [
    "%load_ext autoreload\n",
    "%autoreload 2"
   ]
  },
  {
   "cell_type": "code",
   "execution_count": 2,
   "metadata": {},
   "outputs": [
    {
     "name": "stdout",
     "output_type": "stream",
     "text": [
      "Overwriting 2017-05-12_using_openretina_srv.py\n"
     ]
    }
   ],
   "source": [
    "%%writefile 2017-05-12_using_openretina_srv.py\n",
    "\"\"\"\n",
    "openRetina : a basic thalamic layer\n",
    "See https://github.com/laurentperrinet/openRetina\n",
    "\"\"\"\n",
    "__author__ = \"(c) Victor Boutin & Laurent Perrinet INT - CNRS\"\n",
    "\n",
    "from openRetina import openRetina\n",
    "thalamus = openRetina(model=dict(layer='thalamus', # label for this layer\n",
    "                                 ip='10.164.7.213',\n",
    "                                 input=['stream'], # input: can be the camera, noise, a movie (TODO)\n",
    "                                 output=['display'], # output: can be stream, display, capture,...\n",
    "                                 T_SIM=20))\n",
    "thalamus.run()\n"
   ]
  },
  {
   "cell_type": "code",
   "execution_count": 6,
   "metadata": {},
   "outputs": [
    {
     "name": "stdout",
     "output_type": "stream",
     "text": [
      "\u001b]0;IPython: research/PA_INT-internship\u0007Connecting to retina with port 5566\n",
      "2017-05-11 15:50:57.711 Python[56131:4783266] ApplePersistenceIgnoreState: Existing state will not be touched. New state will be written to /var/folders/px/n031whw95_39ccwg0wqwt5jw0000gn/T/org.python.python.savedState\n",
      "top  0.007131814956665039\n",
      "/usr/local/lib/python3.6/site-packages/IPython/config.py:13: ShimWarning: The `IPython.config` package has been deprecated since IPython 4.0. You should import from traitlets.config instead.\n",
      "  \"You should import from traitlets.config instead.\", ShimWarning)\n",
      "0.01805901527404785\n",
      "Sending request\n",
      "Image   (720, 1280, 3) 0 1\n",
      "1.6316399574279785\n",
      "Sending request\n",
      "Image   (720, 1280, 3) 0 1\n",
      "3.0346529483795166\n",
      "Sending request\n",
      "Image   (720, 1280, 3) 0 1\n",
      "4.3937828540802\n",
      "Sending request\n",
      "Image   (720, 1280, 3) 0 1\n",
      "5.767197847366333\n",
      "Sending request\n",
      "Image   (720, 1280, 3) 0 1\n",
      "7.137706995010376\n",
      "Sending request\n",
      "Image   (720, 1280, 3) 0 1\n",
      "8.508047103881836\n",
      "Sending request\n",
      "Image   (720, 1280, 3) 0 1\n",
      "9.85509705543518\n",
      "Sending request\n",
      "Image   (720, 1280, 3) 0 1\n",
      "11.219872951507568\n",
      "Sending request\n",
      "Image   (720, 1280, 3) 0 1\n",
      "12.582695960998535\n",
      "Sending request\n",
      "Image   (720, 1280, 3) 0 1\n",
      "13.934738874435425\n",
      "Sending request\n",
      "Image   (720, 1280, 3) 0 1\n",
      "15.29727578163147\n",
      "Sending request\n",
      "Image   (720, 1280, 3) 0 1\n",
      "16.662554025650024\n",
      "Sending request\n",
      "Image   (720, 1280, 3) 0 1\n",
      "18.030457019805908\n",
      "Sending request\n",
      "Image   (720, 1280, 3) 0 1\n",
      "19.394912004470825\n",
      "Sending request\n",
      "Image   (720, 1280, 3) 0 1\n",
      "20.76125478744507\n",
      "Sending request\n",
      "Image   (720, 1280, 3) 0 1\n",
      "22.116652965545654\n",
      "Sending request\n",
      "Image   (720, 1280, 3) 0 1\n",
      "23.482571840286255\n",
      "Sending request\n",
      "Image   (720, 1280, 3) 0 1\n",
      "24.862833738327026\n"
     ]
    }
   ],
   "source": [
    "!ipython  2017-05-12_using_openretina_srv.py"
   ]
  },
  {
   "cell_type": "code",
   "execution_count": 4,
   "metadata": {
    "collapsed": true
   },
   "outputs": [],
   "source": [
    "import numpy as np\n"
   ]
  },
  {
   "cell_type": "code",
   "execution_count": 5,
   "metadata": {},
   "outputs": [
    {
     "ename": "NameError",
     "evalue": "name 'image' is not defined",
     "output_type": "error",
     "traceback": [
      "\u001b[0;31m---------------------------------------------------------------------------\u001b[0m",
      "\u001b[0;31mNameError\u001b[0m                                 Traceback (most recent call last)",
      "\u001b[0;32m<ipython-input-5-0d4ec3ba12d9>\u001b[0m in \u001b[0;36m<module>\u001b[0;34m()\u001b[0m\n\u001b[1;32m      1\u001b[0m \u001b[0;34m\u001b[0m\u001b[0m\n\u001b[0;32m----> 2\u001b[0;31m \u001b[0mnp\u001b[0m\u001b[0;34m.\u001b[0m\u001b[0marray\u001b[0m\u001b[0;34m(\u001b[0m\u001b[0mimage\u001b[0m\u001b[0;34m.\u001b[0m\u001b[0mgetdata\u001b[0m\u001b[0;34m(\u001b[0m\u001b[0;34m)\u001b[0m\u001b[0;34m)\u001b[0m\u001b[0;34m.\u001b[0m\u001b[0mreshape\u001b[0m\u001b[0;34m(\u001b[0m\u001b[0mimage\u001b[0m\u001b[0;34m.\u001b[0m\u001b[0msize\u001b[0m\u001b[0;34m[\u001b[0m\u001b[0;36m0\u001b[0m\u001b[0;34m]\u001b[0m\u001b[0;34m,\u001b[0m \u001b[0mimage\u001b[0m\u001b[0;34m.\u001b[0m\u001b[0msize\u001b[0m\u001b[0;34m[\u001b[0m\u001b[0;36m1\u001b[0m\u001b[0;34m]\u001b[0m\u001b[0;34m,\u001b[0m \u001b[0;36m3\u001b[0m\u001b[0;34m)\u001b[0m\u001b[0;34m.\u001b[0m\u001b[0mshape\u001b[0m\u001b[0;34m\u001b[0m\u001b[0m\n\u001b[0m",
      "\u001b[0;31mNameError\u001b[0m: name 'image' is not defined"
     ]
    }
   ],
   "source": [
    "\n",
    "np.array(image.getdata()).reshape(image.size[0], image.size[1], 3).shape"
   ]
  },
  {
   "cell_type": "code",
   "execution_count": null,
   "metadata": {
    "collapsed": true
   },
   "outputs": [],
   "source": [
    "%matplotlib inline\n",
    "import matplotlib.pyplot as plt\n",
    "plt.imshow(255-array*1.)"
   ]
  },
  {
   "cell_type": "code",
   "execution_count": null,
   "metadata": {
    "collapsed": true
   },
   "outputs": [],
   "source": [
    "print(array.min(), array.max())"
   ]
  },
  {
   "cell_type": "code",
   "execution_count": null,
   "metadata": {
    "collapsed": true
   },
   "outputs": [],
   "source": []
  },
  {
   "cell_type": "code",
   "execution_count": null,
   "metadata": {
    "collapsed": true
   },
   "outputs": [],
   "source": []
  }
 ],
 "metadata": {
  "kernelspec": {
   "display_name": "Python 3",
   "language": "python",
   "name": "python3"
  },
  "language_info": {
   "codemirror_mode": {
    "name": "ipython",
    "version": 3
   },
   "file_extension": ".py",
   "mimetype": "text/x-python",
   "name": "python",
   "nbconvert_exporter": "python",
   "pygments_lexer": "ipython3",
   "version": "3.6.1"
  }
 },
 "nbformat": 4,
 "nbformat_minor": 2
}
