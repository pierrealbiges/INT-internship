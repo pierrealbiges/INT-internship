{
 "cells": [
  {
   "cell_type": "code",
   "execution_count": 3,
   "metadata": {},
   "outputs": [
    {
     "name": "stdout",
     "output_type": "stream",
     "text": [
      "The autoreload extension is already loaded. To reload it, use:\n",
      "  %reload_ext autoreload\n"
     ]
    }
   ],
   "source": [
    "%load_ext autoreload\n",
    "%autoreload 2"
   ]
  },
  {
   "cell_type": "code",
   "execution_count": 4,
   "metadata": {},
   "outputs": [
    {
     "name": "stdout",
     "output_type": "stream",
     "text": [
      "Writing 2017-05-16_using_openretina.py\n"
     ]
    }
   ],
   "source": [
    "%%writefile 2017-05-16_using_openretina.py\n",
    "#! /usr/bin/env python3\n",
    "# -*- coding: utf8 -*-\n",
    "from __future__ import division, print_function\n",
    "\"\"\"\n",
    "openRetina : a photoreceptor layer\n",
    "See https://github.com/laurentperrinet/openRetina\n",
    "\"\"\"\n",
    "__author__ = \"(c) Pierre Albiges, Victor Boutin & Laurent Perrinet INT - CNRS\"\n",
    "\n",
    "from openRetina import openRetina\n",
    "phrs = openRetina(model=dict(layer='phrs', # label for this layer\n",
    "                             input=['camera'], # input: can be the camera, noise, a movie (TODO)\n",
    "                             output=['stream'] # output: can be stream, display, ...\n",
    "                             ))\n",
    "phrs.run()"
   ]
  },
  {
   "cell_type": "raw",
   "metadata": {},
   "source": [
    "!git add 2017-05-16_using_op*\n",
    "!git status\n",
    "!git add 2017-05-16_using_openretina.py"
   ]
  },
  {
   "cell_type": "code",
   "execution_count": 5,
   "metadata": {
    "collapsed": true
   },
   "outputs": [],
   "source": [
    "!git diff 2017-05-16_using_openretina.py"
   ]
  },
  {
   "cell_type": "code",
   "execution_count": 4,
   "metadata": {},
   "outputs": [
    {
     "name": "stdout",
     "output_type": "stream",
     "text": [
      "[master fe67d82]  updating *_using_openretina.py\r\n",
      " 2 files changed, 424 deletions(-)\r\n",
      " delete mode 100644 2017-05-12_using_openretina.ipynb\r\n",
      " delete mode 100644 2017-05-12_using_openretina_server.ipynb\r\n",
      "fatal: The current branch master has no upstream branch.\r\n",
      "To push the current branch and set the remote as upstream, use\r\n",
      "\r\n",
      "    git push --set-upstream origin master\r\n",
      "\r\n"
     ]
    }
   ],
   "source": [
    "!git commit -am' updating *_using_openretina.py '; git push"
   ]
  },
  {
   "cell_type": "code",
   "execution_count": 3,
   "metadata": {},
   "outputs": [
    {
     "name": "stdout",
     "output_type": "stream",
     "text": [
      "From https://github.com/laurentperrinet/openRetina\n",
      "   b70ac0d..c23b196  master     -> origin/master\n",
      "Updating b70ac0d..c23b196\n",
      "Fast-forward\n",
      " src/openRetina.py | 2 +-\n",
      " 1 file changed, 1 insertion(+), 1 deletion(-)\n",
      "Already up-to-date.\n"
     ]
    }
   ],
   "source": [
    "!ssh pi@10.164.7.213 \"cd ~/openRetina ; git pull; cd ~/INT-internship ; git pull \""
   ]
  },
  {
   "cell_type": "code",
   "execution_count": 4,
   "metadata": {},
   "outputs": [
    {
     "name": "stdout",
     "output_type": "stream",
     "text": [
      "💀  Could not load visualisation\r\n",
      "phrs Running out_socket on port:  5566\r\n",
      "phrs Camera client received request b'SIZ'\r\n",
      "Traceback (most recent call last):\r\n",
      "  File \"2017-05-16_using_openretina.py\", line 15, in <module>\r\n",
      "    phrs.run()\r\n",
      "  File \"/home/pi/openRetina/src/openRetina.py\", line 228, in run\r\n",
      "    data = self.code(self.frame)\r\n",
      "  File \"/home/pi/openRetina/src/openRetina.py\", line 307, in code\r\n",
      "    return image.astype(np.uint8)\r\n",
      "AttributeError: 'NoneType' object has no attribute 'astype'\r\n"
     ]
    }
   ],
   "source": [
    "!ssh pi@10.164.7.213 \"cd ~/INT-internship ; python3 2017-05-16_using_openretina.py \""
   ]
  },
  {
   "cell_type": "code",
   "execution_count": 7,
   "metadata": {},
   "outputs": [
    {
     "name": "stdout",
     "output_type": "stream",
     "text": [
      "python3: no process found\r\n"
     ]
    }
   ],
   "source": [
    "!ssh pi@10.164.7.213 \"killall python3\""
   ]
  },
  {
   "cell_type": "code",
   "execution_count": null,
   "metadata": {
    "collapsed": true
   },
   "outputs": [],
   "source": []
  }
 ],
 "metadata": {
  "kernelspec": {
   "display_name": "Python 3",
   "language": "python",
   "name": "python3"
  },
  "language_info": {
   "codemirror_mode": {
    "name": "ipython",
    "version": 3
   },
   "file_extension": ".py",
   "mimetype": "text/x-python",
   "name": "python",
   "nbconvert_exporter": "python",
   "pygments_lexer": "ipython3",
   "version": "3.5.2+"
  }
 },
 "nbformat": 4,
 "nbformat_minor": 2
}
