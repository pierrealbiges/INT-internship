{
 "cells": [
  {
   "cell_type": "code",
   "execution_count": 1,
   "metadata": {
    "collapsed": true
   },
   "outputs": [],
   "source": [
    "%load_ext autoreload\n",
    "%autoreload 2"
   ]
  },
  {
   "cell_type": "code",
   "execution_count": 81,
   "metadata": {},
   "outputs": [
    {
     "name": "stdout",
     "output_type": "stream",
     "text": [
      "Overwriting 2017-05-16_capture_videos_with_openretina.py\n"
     ]
    }
   ],
   "source": [
    "%%writefile 2017-05-16_capture_videos_with_openretina.py\n",
    "#! /usr/bin/env python3\n",
    "# -*- coding: utf8 -*-\n",
    "\n",
    "import picamera\n",
    "\n",
    "class Rec_video():\n",
    "    def __init__(self):\n",
    "        cam = picamera.PiCamera()\n",
    "        cam.resolution = (640,480) #Defining the camera resolution\n",
    "        cam.start_recording(output='video_picam', format='h264') #Start recording in 'filename.filetype'\n",
    "        cam.wait_recording(2) #Better integrated time.wait() that allow to continually check for errors\n",
    "        cam.stop_recording() #Stop recording\n",
    "\n",
    "        print('It went fine!') #Control line\n"
   ]
  },
  {
   "cell_type": "code",
   "execution_count": 82,
   "metadata": {},
   "outputs": [
    {
     "name": "stdout",
     "output_type": "stream",
     "text": [
      "[master c09ea39]  updating *_capture_videos_with_openRetina.py\n",
      " 1 file changed, 14 insertions(+), 12 deletions(-)\n",
      " rewrite 2017-05-16_capture_videos_with_openretina.py (84%)\n",
      "Counting objects: 3, done.\n",
      "Delta compression using up to 2 threads.\n",
      "Compressing objects: 100% (3/3), done.\n",
      "Writing objects: 100% (3/3), 409 bytes | 0 bytes/s, done.\n",
      "Total 3 (delta 2), reused 0 (delta 0)\n",
      "remote: Resolving deltas: 100% (2/2), completed with 2 local objects.\u001b[K\n",
      "To github.com:pierrealbiges/INT-internship.git\n",
      "   2597a41..c09ea39  master -> master\n"
     ]
    }
   ],
   "source": [
    "!git add 2017-05-16_capture_videos_with_openretina.py\n",
    "!git commit -m' updating *_capture_videos_with_openRetina.py '; git push"
   ]
  },
  {
   "cell_type": "code",
   "execution_count": 83,
   "metadata": {},
   "outputs": [
    {
     "name": "stdout",
     "output_type": "stream",
     "text": [
      "Already up-to-date.\n",
      "From https://github.com/pierrealbiges/INT-internship\n",
      "   2597a41..c09ea39  master     -> origin/master\n",
      "Updating 2597a41..c09ea39\n",
      "Fast-forward\n",
      " 2017-05-16_capture_videos_with_openretina.py | 14 ++++++++------\n",
      " 1 file changed, 8 insertions(+), 6 deletions(-)\n"
     ]
    }
   ],
   "source": [
    "!ssh pi@10.164.7.213 \"cd ~/openRetina ; git pull; cd ~/INT-internship ; git pull\""
   ]
  },
  {
   "cell_type": "code",
   "execution_count": 79,
   "metadata": {},
   "outputs": [
    {
     "name": "stdout",
     "output_type": "stream",
     "text": [
      "It went fine!\r\n"
     ]
    }
   ],
   "source": [
    "!ssh pi@10.164.7.213 \"cd ~/INT-internship ; python3 2017-05-16_capture_videos_with_openretina.py\""
   ]
  },
  {
   "cell_type": "code",
   "execution_count": 85,
   "metadata": {},
   "outputs": [
    {
     "name": "stdout",
     "output_type": "stream",
     "text": [
      "Server connected\n"
     ]
    },
    {
     "ename": "NameError",
     "evalue": "name 'Rec_video' is not defined",
     "output_type": "error",
     "traceback": [
      "\u001b[0;31m---------------------------------------------------------------------------\u001b[0m",
      "\u001b[0;31mNameError\u001b[0m                                 Traceback (most recent call last)",
      "\u001b[0;32m<ipython-input-85-60ea32ec11bc>\u001b[0m in \u001b[0;36m<module>\u001b[0;34m()\u001b[0m\n\u001b[1;32m     10\u001b[0m \u001b[0mprint\u001b[0m\u001b[0;34m(\u001b[0m\u001b[0;34m'Server connected'\u001b[0m\u001b[0;34m)\u001b[0m\u001b[0;34m\u001b[0m\u001b[0m\n\u001b[1;32m     11\u001b[0m \u001b[0;34m\u001b[0m\u001b[0m\n\u001b[0;32m---> 12\u001b[0;31m \u001b[0mVid\u001b[0m \u001b[0;34m=\u001b[0m \u001b[0mRec_video\u001b[0m\u001b[0;34m(\u001b[0m\u001b[0;34m)\u001b[0m\u001b[0;34m\u001b[0m\u001b[0m\n\u001b[0m\u001b[1;32m     13\u001b[0m \u001b[0;34m\u001b[0m\u001b[0m\n\u001b[1;32m     14\u001b[0m \u001b[0msocket\u001b[0m\u001b[0;34m.\u001b[0m\u001b[0mclose\u001b[0m\u001b[0;34m(\u001b[0m\u001b[0;34m)\u001b[0m\u001b[0;34m\u001b[0m\u001b[0m\n",
      "\u001b[0;31mNameError\u001b[0m: name 'Rec_video' is not defined"
     ]
    }
   ],
   "source": [
    "\"\"\" Client side \"\"\"\n",
    "\n",
    "import zmq\n",
    "import struct\n",
    "import io\n",
    "\n",
    "context = zmq.Context()\n",
    "socket = context.socket(zmq.REP)\n",
    "socket.bind(\"tcp://*:5555\")\n",
    "print('Server connected')\n",
    "\n",
    "message = socket.recv()\n",
    "print('Received request : %s' message)\n",
    "Vid = Rec_video()\n",
    "socket.send(Vid.getvalue())\n",
    "\n",
    "socket.close()\n",
    "context.term()\n",
    "print('Connection closed')"
   ]
  },
  {
   "cell_type": "code",
   "execution_count": null,
   "metadata": {
    "collapsed": true
   },
   "outputs": [],
   "source": [
    "\"\"\" Server side \"\"\""
   ]
  }
 ],
 "metadata": {
  "kernelspec": {
   "display_name": "Python 3",
   "language": "python",
   "name": "python3"
  },
  "language_info": {
   "codemirror_mode": {
    "name": "ipython",
    "version": 3
   },
   "file_extension": ".py",
   "mimetype": "text/x-python",
   "name": "python",
   "nbconvert_exporter": "python",
   "pygments_lexer": "ipython3",
   "version": "3.5.2+"
  }
 },
 "nbformat": 4,
 "nbformat_minor": 2
}
