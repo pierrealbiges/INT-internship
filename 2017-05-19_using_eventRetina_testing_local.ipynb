{
 "cells": [
  {
   "cell_type": "markdown",
   "metadata": {
    "deletable": true,
    "editable": true
   },
   "source": [
    "# testing locally without network\n",
    "\n",
    "\n",
    "Launching on the same computer \n",
    "- a client grabbing the display and sending it over the network (stays in the localhost),\n",
    "- a server displaying it on the host's display\n"
   ]
  },
  {
   "cell_type": "code",
   "execution_count": 1,
   "metadata": {
    "collapsed": false,
    "deletable": true,
    "editable": true
   },
   "outputs": [],
   "source": [
    "%load_ext autoreload\n",
    "%autoreload 2"
   ]
  },
  {
   "cell_type": "markdown",
   "metadata": {},
   "source": [
    "# transforming an array in a set of indices\n",
    "\n",
    "See http://blog.invibe.net/posts/2016-11-17-finding-extremal-values-in-a-nd-array.html"
   ]
  },
  {
   "cell_type": "code",
   "execution_count": 2,
   "metadata": {
    "collapsed": false
   },
   "outputs": [
    {
     "name": "stdout",
     "output_type": "stream",
     "text": [
      "[[-1.57817507 -2.15661787  1.50173152]\n",
      " [-0.34516363 -0.17955798 -1.79208703]\n",
      " [-0.00760089  0.82954877 -0.3991146 ]\n",
      " [ 0.84401396  0.26998234  0.22114027]]\n"
     ]
    }
   ],
   "source": [
    "import numpy as np\n",
    "x = np.random.randn(4, 3)\n",
    "print (x)"
   ]
  },
  {
   "cell_type": "code",
   "execution_count": 3,
   "metadata": {
    "collapsed": false
   },
   "outputs": [
    {
     "data": {
      "text/plain": [
       "array([ 1,  5,  0,  8,  3,  4,  6, 11, 10,  7,  9,  2])"
      ]
     },
     "execution_count": 3,
     "metadata": {},
     "output_type": "execute_result"
    }
   ],
   "source": [
    "np.argsort(x.ravel())"
   ]
  },
  {
   "cell_type": "code",
   "execution_count": 4,
   "metadata": {
    "collapsed": false
   },
   "outputs": [
    {
     "name": "stdout",
     "output_type": "stream",
     "text": [
      "(array([0, 1, 0, 2, 1, 1, 2, 3, 3, 2, 3, 0]), array([1, 2, 0, 2, 0, 1, 0, 2, 1, 1, 0, 2]))\n"
     ]
    }
   ],
   "source": [
    "print (np.unravel_index(np.argsort(x.ravel()), x.shape))"
   ]
  },
  {
   "cell_type": "markdown",
   "metadata": {},
   "source": [
    "just coding the max and min:"
   ]
  },
  {
   "cell_type": "code",
   "execution_count": 5,
   "metadata": {
    "collapsed": false
   },
   "outputs": [
    {
     "name": "stdout",
     "output_type": "stream",
     "text": [
      "[1 5 9 2]\n"
     ]
    }
   ],
   "source": [
    "n_datapoints=2\n",
    "x_ = np.argsort(x.ravel())\n",
    "data_ = np.hstack((x_[:n_datapoints], x_[-n_datapoints:]))\n",
    "print(data_)"
   ]
  },
  {
   "cell_type": "code",
   "execution_count": 6,
   "metadata": {
    "collapsed": false
   },
   "outputs": [],
   "source": [
    "y = np.zeros_like(x)\n",
    "#print(y)"
   ]
  },
  {
   "cell_type": "code",
   "execution_count": 7,
   "metadata": {
    "collapsed": false
   },
   "outputs": [
    {
     "name": "stdout",
     "output_type": "stream",
     "text": [
      "[[ 0. -1.  1.]\n",
      " [ 0.  0. -1.]\n",
      " [ 0.  0.  0.]\n",
      " [ 1.  0.  0.]]\n"
     ]
    }
   ],
   "source": [
    "y[np.unravel_index(data_[:n_datapoints], x.shape)] = -1\n",
    "y[np.unravel_index(data_[-n_datapoints:], x.shape)] = 1\n",
    "print(y)"
   ]
  },
  {
   "cell_type": "code",
   "execution_count": null,
   "metadata": {
    "collapsed": true
   },
   "outputs": [],
   "source": []
  },
  {
   "cell_type": "markdown",
   "metadata": {},
   "source": [
    "## applying the principle to the retina"
   ]
  },
  {
   "cell_type": "code",
   "execution_count": 8,
   "metadata": {
    "collapsed": false,
    "deletable": true,
    "editable": true
   },
   "outputs": [
    {
     "name": "stdout",
     "output_type": "stream",
     "text": [
      "Overwriting 2017-05-19_using_eventRetina_testing_local_camera.py\n"
     ]
    }
   ],
   "source": [
    "%%writefile 2017-05-19_using_eventRetina_testing_local_camera.py\n",
    "#! /usr/bin/env python3\n",
    "# -*- coding: utf8 -*-\n",
    "from __future__ import division, print_function\n",
    "\"\"\"\n",
    "openRetina : a photoreceptor layer\n",
    "See https://github.com/laurentperrinet/openRetina\n",
    "\"\"\"\n",
    "__author__ = \"(c) Pierre Albiges, Victor Boutin & Laurent Perrinet INT - CNRS\"\n",
    "\n",
    "from eventRetina import eventRetina\n",
    "phrs = eventRetina(model=dict(layer='phrs', # label for this layer\n",
    "                             input=['camera'], # input: can be the camera, noise, a movie (TODO)\n",
    "                             output=['stream'] # output: can be stream, display, ...\n",
    "                             ))\n",
    "phrs.run()"
   ]
  },
  {
   "cell_type": "raw",
   "metadata": {
    "deletable": true,
    "editable": true
   },
   "source": [
    "!ipython3 2017-05-15_using_openretina_testing_camera.py &"
   ]
  },
  {
   "cell_type": "code",
   "execution_count": 9,
   "metadata": {
    "collapsed": true,
    "deletable": true,
    "editable": true
   },
   "outputs": [],
   "source": [
    "!chmod +x 2017-05-19_using_eventRetina_testing_local_camera.py "
   ]
  },
  {
   "cell_type": "code",
   "execution_count": 10,
   "metadata": {
    "collapsed": false,
    "deletable": true,
    "editable": true
   },
   "outputs": [
    {
     "name": "stdout",
     "output_type": "stream",
     "text": [
      "Overwriting 2017-05-19_using_eventRetina_testing_local_srv.py\n"
     ]
    }
   ],
   "source": [
    "%%writefile 2017-05-19_using_eventRetina_testing_local_srv.py\n",
    "\"\"\"\n",
    "openRetina : a basic thalamic layer\n",
    "See https://github.com/laurentperrinet/openRetina\n",
    "\"\"\"\n",
    "__author__ = \"(c) Victor Boutin & Laurent Perrinet INT - CNRS\"\n",
    "\n",
    "import subprocess\n",
    "p = subprocess.Popen(['./2017-05-19_using_eventRetina_testing_local_camera.py'])\n",
    "\n",
    "from eventRetina import eventRetina\n",
    "camera = eventRetina(model=dict(layer='camera', # label for this layer\n",
    "                                 input=['stream'], # input: can be the camera, noise, a movie (TODO)\n",
    "                                 output=['display'], # output: can be stream, display, capture,...\n",
    "                                 T_SIM=5))\n",
    "camera.run()"
   ]
  },
  {
   "cell_type": "code",
   "execution_count": 11,
   "metadata": {
    "collapsed": true,
    "deletable": true,
    "editable": true
   },
   "outputs": [],
   "source": [
    "!chmod +x 2017-05-19_using_eventRetina_testing_local_srv.py"
   ]
  },
  {
   "cell_type": "code",
   "execution_count": 12,
   "metadata": {
    "collapsed": false,
    "deletable": true,
    "editable": true,
    "scrolled": false
   },
   "outputs": [
    {
     "name": "stdout",
     "output_type": "stream",
     "text": [
      "\u001b]0;IPython: research/PA_INT-internship\u0007Number of points sent at each frame= 93\n",
      "Connecting to retina with port 5566\n",
      "2017-05-19 18:21:38.718 Python[55351:37384455] ApplePersistenceIgnoreState: Existing state will not be touched. New state will be written to /var/folders/3p/m0g52j9j69z3gj8ktpgg1dm00000gn/T/org.python.python.savedState\n",
      "/usr/local/lib/python3.6/site-packages/IPython/config.py:13: ShimWarning: The `IPython.config` package has been deprecated since IPython 4.0. You should import from traitlets.config instead.\n",
      "  \"You should import from traitlets.config instead.\", ShimWarning)\n",
      "Duration:  0.017910003662109375\n",
      "Sending request\n",
      "Before a downscale of 1 dim1 : 720, dim2 : 1280\n",
      "Using OpenCV\n",
      "After a downscale of 1, dim1 : 720.0, dim2 : 1280.0\n",
      "Running retina on port:  5566\n",
      "Number of points sent at each frame= 93\n",
      "Received request b'REQ'\n",
      "Capture grabbed\n",
      "Image shape:  (720, 1280, 3) Image min:  0 Image max: 1\n",
      "Duration:  1.8446078300476074\n",
      "Sending request\n",
      "Received request b'REQ'\n",
      "Capture grabbed\n",
      "Image shape:  (720, 1280, 3) Image min:  0 Image max: 1\n",
      "Duration:  2.1010687351226807\n",
      "Sending request\n",
      "Received request b'REQ'\n",
      "Capture grabbed\n",
      "Image shape:  (720, 1280, 3) Image min:  0 Image max: 1\n",
      "Duration:  2.2974088191986084\n",
      "Sending request\n",
      "Received request b'REQ'\n",
      "Capture grabbed\n",
      "Image shape:  (720, 1280, 3) Image min:  0 Image max: 1\n",
      "Duration:  2.481994867324829\n",
      "Sending request\n",
      "Received request b'REQ'\n",
      "Capture grabbed\n",
      "Image shape:  (720, 1280, 3) Image min:  0 Image max: 1\n",
      "Duration:  2.650177001953125\n",
      "Sending request\n",
      "Received request b'REQ'\n",
      "Capture grabbed\n",
      "Image shape:  (720, 1280, 3) Image min:  0 Image max: 1\n",
      "Duration:  2.8120739459991455\n",
      "Sending request\n",
      "Received request b'REQ'\n",
      "Capture grabbed\n",
      "Image shape:  (720, 1280, 3) Image min:  0 Image max: 1\n",
      "Duration:  2.992107629776001\n",
      "Sending request\n",
      "Received request b'REQ'\n",
      "Capture grabbed\n",
      "Image shape:  (720, 1280, 3) Image min:  0 Image max: 1\n",
      "Duration:  3.159099817276001\n",
      "Sending request\n",
      "Received request b'REQ'\n",
      "Capture grabbed\n",
      "Image shape:  (720, 1280, 3) Image min:  0 Image max: 1\n",
      "Duration:  3.3308959007263184\n",
      "Sending request\n",
      "Received request b'REQ'\n",
      "Capture grabbed\n",
      "Image shape:  (720, 1280, 3) Image min:  0 Image max: 1\n",
      "Duration:  3.4918127059936523\n",
      "Sending request\n",
      "Received request b'REQ'\n",
      "Capture grabbed\n",
      "Image shape:  (720, 1280, 3) Image min:  0 Image max: 1\n",
      "Duration:  3.658087730407715\n",
      "Sending request\n",
      "Received request b'REQ'\n",
      "Capture grabbed\n",
      "Image shape:  (720, 1280, 3) Image min:  0 Image max: 1\n",
      "Duration:  3.827329635620117\n",
      "Sending request\n",
      "Received request b'REQ'\n",
      "Capture grabbed\n",
      "Image shape:  (720, 1280, 3) Image min:  0 Image max: 1\n",
      "Duration:  3.995499610900879\n",
      "Sending request\n",
      "Received request b'REQ'\n",
      "Capture grabbed\n",
      "Image shape:  (720, 1280, 3) Image min:  0 Image max: 1\n",
      "Duration:  4.342498779296875\n",
      "Sending request\n",
      "Received request b'REQ'\n",
      "Capture grabbed\n",
      "Image shape:  (720, 1280, 3) Image min:  0 Image max: 1\n",
      "Duration:  4.530980825424194\n",
      "Sending request\n",
      "Received request b'REQ'\n",
      "Capture grabbed\n",
      "Image shape:  (720, 1280, 3) Image min:  0 Image max: 1\n",
      "Duration:  4.909519672393799\n",
      "Sending request\n",
      "Received request b'REQ'\n",
      "Capture grabbed\n",
      "Image shape:  (720, 1280, 3) Image min:  0 Image max: 1\n",
      "Duration:  5.160711765289307\n",
      "Sending request\n",
      "Received request b'REQ'\n",
      "Capture grabbed\n",
      "Image shape:  (720, 1280, 3) Image min:  0 Image max: 1\n",
      "Duration:  5.411810636520386\n",
      "Sending request\n",
      "Received request b'REQ'\n",
      "Capture grabbed\n",
      "Image shape:  (720, 1280, 3) Image min:  0 Image max: 1\n",
      "Duration:  5.6210198402404785\n",
      "Sending request\n",
      "Received request b'REQ'\n",
      "Capture grabbed\n",
      "Image shape:  (720, 1280, 3) Image min:  0 Image max: 1\n",
      "Duration:  5.8238537311553955\n",
      "Sending request\n",
      "Received request b'REQ'\n",
      "Capture grabbed\n",
      "Image shape:  (720, 1280, 3) Image min:  0 Image max: 1\n",
      "Duration:  5.997844934463501\n",
      "Sending request\n",
      "Received request b'REQ'\n",
      "Capture grabbed\n",
      "Image shape:  (720, 1280, 3) Image min:  0 Image max: 1\n",
      "Duration:  6.222230672836304\n",
      "Sending request\n",
      "Received request b'REQ'\n",
      "Capture grabbed\n",
      "Image shape:  (720, 1280, 3) Image min:  0 Image max: 1\n",
      "Duration:  6.437434673309326\n",
      "Sending request\n",
      "Received request b'REQ'\n",
      "Capture grabbed\n",
      "Image shape:  (720, 1280, 3) Image min:  0 Image max: 1\n",
      "Duration:  6.6166908740997314\n",
      "Sending request\n",
      "Received request b'REQ'\n",
      "Capture grabbed\n",
      "Image shape:  (720, 1280, 3) Image min:  0 Image max: 1\n",
      "Duration:  6.855082988739014\n",
      "Sending request\n",
      "Received request b'REQ'\n",
      "Capture grabbed\n",
      "Image shape:  (720, 1280, 3) Image min:  0 Image max: 1\n",
      "Duration:  7.111604928970337\n",
      "Sending request\n",
      "Received request b'REQ'\n",
      "Capture grabbed\n",
      "Image shape:  (720, 1280, 3) Image min:  0 Image max: 1\n",
      "Duration:  7.293041944503784\n",
      "Sending request\n",
      "Received request b'REQ'\n",
      "Capture grabbed\n",
      "Image shape:  (720, 1280, 3) Image min:  0 Image max: 1\n",
      "Duration:  7.4834208488464355\n",
      "Sending request\n",
      "Received request b'REQ'\n",
      "Capture grabbed\n",
      "Image shape:  (720, 1280, 3) Image min:  0 Image max: 1\n",
      "Duration:  7.669773817062378\n",
      "Sending request\n",
      "Received request b'REQ'\n",
      "Capture grabbed\n",
      "Image shape:  (720, 1280, 3) Image min:  0 Image max: 1\n",
      "Duration:  7.877375841140747\n",
      "Sending request\n",
      "Received request b'REQ'\n",
      "Capture grabbed\n",
      "Image shape:  (720, 1280, 3) Image min:  0 Image max: 1\n",
      "Duration:  8.114691734313965\n",
      "Sending request\n",
      "Received request b'REQ'\n",
      "Capture grabbed\n",
      "Image shape:  (720, 1280, 3) Image min:  0 Image max: 1\n",
      "Duration:  8.321623802185059\n",
      "Sending request\n",
      "Received request b'REQ'\n",
      "Capture grabbed\n",
      "Image shape:  (720, 1280, 3) Image min:  0 Image max: 1\n",
      "Duration:  8.506242752075195\n",
      "Sending request\n",
      "Received request b'REQ'\n",
      "Capture grabbed\n",
      "Image shape:  (720, 1280, 3) Image min:  0 Image max: 1\n",
      "Duration:  8.786426782608032\n",
      "Sending request\n",
      "Received request b'REQ'\n",
      "Capture grabbed\n",
      "Image shape:  (720, 1280, 3) Image min:  0 Image max: 1\n",
      "Duration:  8.992511987686157\n",
      "Sending request\n",
      "Received request b'REQ'\n",
      "Capture grabbed\n",
      "Image shape:  (720, 1280, 3) Image min:  0 Image max: 1\n",
      "Duration:  9.183685779571533\n",
      "Received request b'RIP'\n"
     ]
    }
   ],
   "source": [
    "!ipython3 2017-05-19_using_eventRetina_testing_local_srv.py"
   ]
  }
 ],
 "metadata": {
  "kernelspec": {
   "display_name": "Python 3",
   "language": "python",
   "name": "python3"
  },
  "language_info": {
   "codemirror_mode": {
    "name": "ipython",
    "version": 3
   },
   "file_extension": ".py",
   "mimetype": "text/x-python",
   "name": "python",
   "nbconvert_exporter": "python",
   "pygments_lexer": "ipython3",
   "version": "3.6.1"
  }
 },
 "nbformat": 4,
 "nbformat_minor": 2
}
