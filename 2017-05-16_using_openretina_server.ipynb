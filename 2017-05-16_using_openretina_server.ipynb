{
 "cells": [
  {
   "cell_type": "code",
   "execution_count": 1,
   "metadata": {},
   "outputs": [],
   "source": [
    "%load_ext autoreload\n",
    "%autoreload 2"
   ]
  },
  {
   "cell_type": "code",
   "execution_count": null,
   "metadata": {},
   "outputs": [
    {
     "name": "stdout",
     "output_type": "stream",
     "text": [
      "Overwriting 2017-05-16_using_openretina_srv.py\n"
     ]
    }
   ],
   "source": [
    "%%writefile 2017-05-16_using_openretina_srv.py\n",
    "\"\"\"\n",
    "openRetina : a basic thalamic layer\n",
    "See https://github.com/laurentperrinet/openRetina\n",
    "\"\"\"\n",
    "__author__ = \"(c) Victor Boutin & Laurent Perrinet INT - CNRS\"\n",
    "\n",
    "#import subprocess\n",
    "#p = subprocess.Popen(['ssh pi@10.164.7.213 \"cd ~/INT-internship ; python3 2017-05-16_using_openretina.py \"'])\n",
    "\n",
    "from openRetina import openRetina\n",
    "thalamus = openRetina(model=dict(layer='thalamus', title='A simple interaction with the pi retina', # label for this layer\n",
    "                                 ip='10.164.7.213',\n",
    "                                 input=['stream'], # input: can be the camera, noise, a movie (TODO)\n",
    "                                 output=['display'], # output: can be stream, display, capture,...\n",
    "                                 T_SIM=20))\n",
    "thalamus.run()\n"
   ]
  },
  {
   "cell_type": "code",
   "execution_count": null,
   "metadata": {},
   "outputs": [
    {
     "name": "stdout",
     "output_type": "stream",
     "text": [
      "\u001b]0;IPython: research/PA_INT-internship\u0007thalamus Connecting to retina with port 5566\n",
      "thalamus is asking for the size\n",
      "thalamus received the size: (w, h)= 1280 720\n",
      "2017-06-12 10:29:56.187 Python[63342:2866186] ApplePersistenceIgnoreState: Existing state will not be touched. New state will be written to /var/folders/px/n031whw95_39ccwg0wqwt5jw0000gn/T/org.python.python.savedState\n",
      "/usr/local/lib/python3.6/site-packages/IPython/config.py:13: ShimWarning: The `IPython.config` package has been deprecated since IPython 4.0. You should import from traitlets.config instead.\n",
      "  \"You should import from traitlets.config instead.\", ShimWarning)\n",
      "thalamus is asking for a request\n"
     ]
    }
   ],
   "source": [
    "!ipython 2017-05-16_using_openretina_srv.py"
   ]
  },
  {
   "cell_type": "code",
   "execution_count": null,
   "metadata": {
    "collapsed": true
   },
   "outputs": [],
   "source": [
    "import numpy as np"
   ]
  },
  {
   "cell_type": "code",
   "execution_count": null,
   "metadata": {},
   "outputs": [],
   "source": [
    "np.array(image.getdata()).reshape(image.size[0], image.size[1], 3).shape"
   ]
  },
  {
   "cell_type": "code",
   "execution_count": null,
   "metadata": {
    "collapsed": true
   },
   "outputs": [],
   "source": [
    "%matplotlib inline\n",
    "import matplotlib.pyplot as plt\n",
    "plt.imshow(255-array*1.)\n",
    "plt.savefig(fig.png)\n",
    "plt.close(fig)"
   ]
  },
  {
   "cell_type": "code",
   "execution_count": null,
   "metadata": {
    "collapsed": true
   },
   "outputs": [],
   "source": [
    "print(array.min(), array.max())"
   ]
  }
 ],
 "metadata": {
  "kernelspec": {
   "display_name": "Python 3",
   "language": "python",
   "name": "python3"
  },
  "language_info": {
   "codemirror_mode": {
    "name": "ipython",
    "version": 3
   },
   "file_extension": ".py",
   "mimetype": "text/x-python",
   "name": "python",
   "nbconvert_exporter": "python",
   "pygments_lexer": "ipython3",
   "version": "3.6.1"
  }
 },
 "nbformat": 4,
 "nbformat_minor": 2
}
