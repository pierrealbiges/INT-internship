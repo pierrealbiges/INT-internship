{
 "cells": [
  {
   "cell_type": "code",
   "execution_count": null,
   "metadata": {},
   "outputs": [
    {
     "name": "stdout",
     "output_type": "stream",
     "text": [
      "Connecting to client...\n",
      "Client connected\n",
      "Sending request 0...\n"
     ]
    }
   ],
   "source": [
    "import zmq\n",
    "\n",
    "context = zmq.Context()\n",
    "print('Connecting to client...')\n",
    "socket = context.socket(zmq.REQ)\n",
    "socket.bind(\"tcp://*:5555\")\n",
    "print('Client connected')\n",
    "\n",
    "for request in range(10):\n",
    "    print(\"Sending request %s...\" % request)\n",
    "    socket.send(b\"Hello\")\n",
    "    \n",
    "    message = socket.recv() #Wait for next request from client\n",
    "    print(\"Received reply %s [ %s ]\" % (request, message))"
   ]
  }
 ],
 "metadata": {
  "kernelspec": {
   "display_name": "Python 3",
   "language": "python",
   "name": "python3"
  },
  "language_info": {
   "codemirror_mode": {
    "name": "ipython",
    "version": 3
   },
   "file_extension": ".py",
   "mimetype": "text/x-python",
   "name": "python",
   "nbconvert_exporter": "python",
   "pygments_lexer": "ipython3",
   "version": "3.5.2+"
  }
 },
 "nbformat": 4,
 "nbformat_minor": 2
}
