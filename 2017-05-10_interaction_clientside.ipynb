{
 "cells": [
  {
   "cell_type": "code",
   "execution_count": null,
   "metadata": {
    "collapsed": true
   },
   "outputs": [],
   "source": [
    "''' Pi side'''\n",
    "\n",
    "import time\n",
    "import zmq\n",
    "import picamera\n",
    "import struct\n",
    "import io\n",
    "\n",
    "context = zmq.Context()\n",
    "socket = context.socket(zmq.REP)\n",
    "socket.bind(\"tcp://*:5555\")\n",
    "print('Server connected')\n",
    "\n",
    "camera = picamera.PiCamera()\n",
    "camera.resolution = (640, 480)\n",
    "\n",
    "try:\n",
    "    while True:\n",
    "        message = socket.recv() #Wait for next request from client\n",
    "        print(\"Received request: %s\" % message)\n",
    "\n",
    "        if message == 'END':\n",
    "            break\n",
    "\n",
    "        stream = io.BytesIO()\n",
    "        camera.start_preview()\n",
    "        time.sleep(1)\n",
    "        \n",
    "        camera.capture(stream, format='jpeg')\n",
    "\n",
    "        socket.send(stream.getvalue())\n",
    "        #socket.send(struct.pack('<L', stream.tell()))\n",
    "\n",
    "except:\n",
    "    socket.close()\n",
    "    context.term()\n",
    "    print('Socket and context closed')"
   ]
  }
 ],
 "metadata": {
  "kernelspec": {
   "display_name": "Python 3",
   "language": "python",
   "name": "python3"
  },
  "language_info": {
   "codemirror_mode": {
    "name": "ipython",
    "version": 3
   },
   "file_extension": ".py",
   "mimetype": "text/x-python",
   "name": "python",
   "nbconvert_exporter": "python",
   "pygments_lexer": "ipython3",
   "version": "3.5.2+"
  }
 },
 "nbformat": 4,
 "nbformat_minor": 2
}
