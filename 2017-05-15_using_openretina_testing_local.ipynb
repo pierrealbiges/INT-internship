{
 "cells": [
  {
   "cell_type": "markdown",
   "metadata": {},
   "source": [
    "# testing locally without network\n",
    "\n",
    "\n",
    "Launching on the same computer \n",
    "- a client grabbing the display and sending it over the network (stays in the localhost),\n",
    "- a server displaying it on the host's display\n"
   ]
  },
  {
   "cell_type": "code",
   "execution_count": 5,
   "metadata": {
    "collapsed": true
   },
   "outputs": [],
   "source": [
    "%load_ext autoreload\n",
    "%autoreload 2"
   ]
  },
  {
   "cell_type": "code",
   "execution_count": 6,
   "metadata": {},
   "outputs": [
    {
     "name": "stdout",
     "output_type": "stream",
     "text": [
      "Writing 2017-05-15_using_openretina_testing_camera.py\n"
     ]
    }
   ],
   "source": [
    "%%writefile 2017-05-15_using_openretina_testing_camera.py\n",
    "#! /usr/bin/env python3\n",
    "# -*- coding: utf8 -*-\n",
    "from __future__ import division, print_function\n",
    "\"\"\"\n",
    "openRetina : a photoreceptor layer\n",
    "See https://github.com/laurentperrinet/openRetina\n",
    "\"\"\"\n",
    "__author__ = \"(c) Pierre Albiges, Victor Boutin & Laurent Perrinet INT - CNRS\"\n",
    "\n",
    "from openRetina import openRetina\n",
    "phrs = openRetina(model=dict(layer='phrs', # label for this layer\n",
    "                             input=['camera'], # input: can be the camera, noise, a movie (TODO)\n",
    "                             output=['stream'] # output: can be stream, display, ...\n",
    "                             ))\n",
    "phrs.run()"
   ]
  },
  {
   "cell_type": "raw",
   "metadata": {},
   "source": [
    "!ipython3 2017-05-15_using_openretina_testing_camera.py &"
   ]
  },
  {
   "cell_type": "code",
   "execution_count": 7,
   "metadata": {
    "collapsed": true
   },
   "outputs": [],
   "source": [
    "!chmod +x 2017-05-15_using_openretina_testing_camera.py "
   ]
  },
  {
   "cell_type": "code",
   "execution_count": 8,
   "metadata": {},
   "outputs": [
    {
     "name": "stdout",
     "output_type": "stream",
     "text": [
      "Writing 2017-05-15_using_openretina_testing_camera_srv.py\n"
     ]
    }
   ],
   "source": [
    "%%writefile 2017-05-15_using_openretina_testing_camera_srv.py\n",
    "\"\"\"\n",
    "openRetina : a basic thalamic layer\n",
    "See https://github.com/laurentperrinet/openRetina\n",
    "\"\"\"\n",
    "__author__ = \"(c) Victor Boutin & Laurent Perrinet INT - CNRS\"\n",
    "\n",
    "import subprocess\n",
    "p = subprocess.Popen(['./2017-05-12_using_openretina_testing_camera.py'])\n",
    "\n",
    "from openRetina import openRetina\n",
    "camera = openRetina(model=dict(layer='camera', # label for this layer\n",
    "                                 input=['stream'], # input: can be the camera, noise, a movie (TODO)\n",
    "                                 output=['display'], # output: can be stream, display, capture,...\n",
    "                                 T_SIM=20))\n",
    "camera.run()"
   ]
  },
  {
   "cell_type": "code",
   "execution_count": 9,
   "metadata": {},
   "outputs": [
    {
     "name": "stdout",
     "output_type": "stream",
     "text": [
      "\u001b]0;IPython: Documents/Intership\u0007Connecting to retina with port 5566\n",
      "dgk2\n",
      "Camera is not opened\n",
      "Unable to capture video\n",
      "Running retina on port:  5566\n",
      "/home/albert/.local/lib/python3.5/site-packages/IPython/config.py:13: ShimWarning: The `IPython.config` package has been deprecated since IPython 4.0. You should import from traitlets.config instead.\n",
      "  \"You should import from traitlets.config instead.\", ShimWarning)\n",
      "0.0673983097076416\n",
      "Sending request\n",
      "Received request b'REQ'\n",
      "Capture grabbed\n",
      "Traceback (most recent call last):\n",
      "  File \"./2017-05-12_using_openretina_testing_camera.py\", line 15, in <module>\n",
      "    phrs.run()\n",
      "  File \"/home/albert/Documents/openRetina/src/openRetina.py\", line 185, in run\n",
      "    data = self.code(self.frame)\n",
      "  File \"/home/albert/Documents/openRetina/src/openRetina.py\", line 250, in code\n",
      "    image = image.astype(np.float)\n",
      "AttributeError: 'NoneType' object has no attribute 'astype'\n",
      "^C\n"
     ]
    }
   ],
   "source": [
    "!ipython3 2017-05-15_using_openretina_testing_camera_srv.py"
   ]
  },
  {
   "cell_type": "code",
   "execution_count": 30,
   "metadata": {},
   "outputs": [
    {
     "name": "stdout",
     "output_type": "stream",
     "text": [
      "dgk2\n",
      "Camera is not opened\n",
      "Unable to capture video\n",
      "Capture grabbed\n",
      "Capture released\n"
     ]
    }
   ],
   "source": [
    "from openRetina import openRetina\n",
    "from openRetina import PhotoReceptor\n",
    "\n",
    "cam = PhotoReceptor(640,480)\n",
    "cam.grab()\n",
    "cam.close()"
   ]
  },
  {
   "cell_type": "code",
   "execution_count": 4,
   "metadata": {},
   "outputs": [
    {
     "name": "stdout",
     "output_type": "stream",
     "text": [
      "Cam not opnd\n"
     ]
    },
    {
     "ename": "error",
     "evalue": "/io/opencv/modules/highgui/src/window.cpp:281: error: (-215) size.width>0 && size.height>0 in function imshow\n",
     "output_type": "error",
     "traceback": [
      "\u001b[0;31m---------------------------------------------------------------------------\u001b[0m",
      "\u001b[0;31merror\u001b[0m                                     Traceback (most recent call last)",
      "\u001b[0;32m<ipython-input-4-80c1edc05ffd>\u001b[0m in \u001b[0;36m<module>\u001b[0;34m()\u001b[0m\n\u001b[1;32m      6\u001b[0m \u001b[0;32mwhile\u001b[0m\u001b[0;34m(\u001b[0m\u001b[0;32mTrue\u001b[0m\u001b[0;34m)\u001b[0m\u001b[0;34m:\u001b[0m\u001b[0;34m\u001b[0m\u001b[0m\n\u001b[1;32m      7\u001b[0m     \u001b[0mret\u001b[0m\u001b[0;34m,\u001b[0m\u001b[0mframe\u001b[0m \u001b[0;34m=\u001b[0m \u001b[0mcap\u001b[0m\u001b[0;34m.\u001b[0m\u001b[0mread\u001b[0m\u001b[0;34m(\u001b[0m\u001b[0;34m)\u001b[0m\u001b[0;34m\u001b[0m\u001b[0m\n\u001b[0;32m----> 8\u001b[0;31m     \u001b[0mcv2\u001b[0m\u001b[0;34m.\u001b[0m\u001b[0mimshow\u001b[0m\u001b[0;34m(\u001b[0m\u001b[0;34m'frame'\u001b[0m\u001b[0;34m,\u001b[0m \u001b[0mframe\u001b[0m\u001b[0;34m)\u001b[0m\u001b[0;34m\u001b[0m\u001b[0m\n\u001b[0m\u001b[1;32m      9\u001b[0m     \u001b[0;32mif\u001b[0m \u001b[0mcv2\u001b[0m\u001b[0;34m.\u001b[0m\u001b[0mwaitKey\u001b[0m\u001b[0;34m(\u001b[0m\u001b[0;36m1\u001b[0m\u001b[0;34m)\u001b[0m \u001b[0;34m&\u001b[0m \u001b[0;36m0xFF\u001b[0m \u001b[0;34m==\u001b[0m \u001b[0mord\u001b[0m\u001b[0;34m(\u001b[0m\u001b[0;34m'q'\u001b[0m\u001b[0;34m)\u001b[0m\u001b[0;34m:\u001b[0m\u001b[0;34m\u001b[0m\u001b[0m\n\u001b[1;32m     10\u001b[0m         \u001b[0;32mbreak\u001b[0m\u001b[0;34m\u001b[0m\u001b[0m\n",
      "\u001b[0;31merror\u001b[0m: /io/opencv/modules/highgui/src/window.cpp:281: error: (-215) size.width>0 && size.height>0 in function imshow\n"
     ]
    }
   ],
   "source": [
    "import cv2\n",
    "\n",
    "cap = cv2.VideoCapture(0)\n",
    "if not cap.isOpened():\n",
    "    print('Cam not opnd')\n",
    "while(True):\n",
    "    ret,frame = cap.read()\n",
    "    cv2.imshow('frame', frame)\n",
    "    if cv2.waitKey(1) & 0xFF == ord('q'):\n",
    "        break\n",
    "cap.release()\n",
    "cv2.destroyAllWindows()\n"
   ]
  },
  {
   "cell_type": "code",
   "execution_count": 1,
   "metadata": {},
   "outputs": [
    {
     "name": "stdout",
     "output_type": "stream",
     "text": [
      "version:  3.1.0 file:  /home/albert/.local/lib/python3.5/site-packages/cv2/cv2.cpython-35m-x86_64-linux-gnu.so\n",
      "\n",
      "General configuration for OpenCV 3.1.0 =====================================\n",
      "  Version control:               3.1.0\n",
      "\n",
      "  Platform:\n",
      "    Host:                        Linux 3.19.0-66-generic x86_64\n",
      "    CMake:                       2.8.11.2\n",
      "    CMake generator:             Unix Makefiles\n",
      "    CMake build tool:            /usr/bin/gmake\n",
      "    Configuration:               Release\n",
      "\n",
      "  C/C++:\n",
      "    Built as dynamic libs?:      NO\n",
      "    C++ Compiler:                /opt/rh/devtoolset-2/root/usr/bin/c++  (ver 4.8.2)\n",
      "    C++ flags (Release):         -fPIC   -fsigned-char -W -Wall -Werror=return-type -Werror=non-virtual-dtor -Werror=address -Werror=sequence-point -Wformat -Werror=format-security -Wmissing-declarations -Wundef -Winit-self -Wpointer-arith -Wshadow -Wsign-promo -Wno-narrowing -Wno-delete-non-virtual-dtor -fdiagnostics-show-option -Wno-long-long -pthread -fomit-frame-pointer -msse -msse2 -mno-avx -msse3 -mno-ssse3 -mno-sse4.1 -mno-sse4.2 -ffunction-sections -fvisibility=hidden -fvisibility-inlines-hidden -O3 -DNDEBUG  -DNDEBUG\n",
      "    C++ flags (Debug):           -fPIC   -fsigned-char -W -Wall -Werror=return-type -Werror=non-virtual-dtor -Werror=address -Werror=sequence-point -Wformat -Werror=format-security -Wmissing-declarations -Wundef -Winit-self -Wpointer-arith -Wshadow -Wsign-promo -Wno-narrowing -Wno-delete-non-virtual-dtor -fdiagnostics-show-option -Wno-long-long -pthread -fomit-frame-pointer -msse -msse2 -mno-avx -msse3 -mno-ssse3 -mno-sse4.1 -mno-sse4.2 -ffunction-sections -fvisibility=hidden -fvisibility-inlines-hidden -g  -O0 -DDEBUG -D_DEBUG\n",
      "    C Compiler:                  /opt/rh/devtoolset-2/root/usr/bin/cc\n",
      "    C flags (Release):           -fPIC   -fsigned-char -W -Wall -Werror=return-type -Werror=non-virtual-dtor -Werror=address -Werror=sequence-point -Wformat -Werror=format-security -Wmissing-declarations -Wmissing-prototypes -Wstrict-prototypes -Wundef -Winit-self -Wpointer-arith -Wshadow -Wno-narrowing -fdiagnostics-show-option -Wno-long-long -pthread -fomit-frame-pointer -msse -msse2 -mno-avx -msse3 -mno-ssse3 -mno-sse4.1 -mno-sse4.2 -ffunction-sections -fvisibility=hidden -O3 -DNDEBUG  -DNDEBUG\n",
      "    C flags (Debug):             -fPIC   -fsigned-char -W -Wall -Werror=return-type -Werror=non-virtual-dtor -Werror=address -Werror=sequence-point -Wformat -Werror=format-security -Wmissing-declarations -Wmissing-prototypes -Wstrict-prototypes -Wundef -Winit-self -Wpointer-arith -Wshadow -Wno-narrowing -fdiagnostics-show-option -Wno-long-long -pthread -fomit-frame-pointer -msse -msse2 -mno-avx -msse3 -mno-ssse3 -mno-sse4.1 -mno-sse4.2 -ffunction-sections -fvisibility=hidden -g  -O0 -DDEBUG -D_DEBUG\n",
      "    Linker flags (Release):      \n",
      "    Linker flags (Debug):        \n",
      "    Precompiled headers:         YES\n",
      "    Extra dependencies:          stdc++ dl m pthread rt\n",
      "    3rdparty dependencies:\n",
      "\n",
      "  OpenCV modules:\n",
      "    To be built:                 core flann imgproc ml photo video imgcodecs shape videoio highgui objdetect superres features2d calib3d stitching videostab python3\n",
      "    Disabled:                    world\n",
      "    Disabled by dependency:      -\n",
      "    Unavailable:                 cudaarithm cudabgsegm cudacodec cudafeatures2d cudafilters cudaimgproc cudalegacy cudaobjdetect cudaoptflow cudastereo cudawarping cudev java python2 ts viz\n",
      "\n",
      "  GUI: \n",
      "    QT:                          NO\n",
      "    GTK+:                        NO\n",
      "    GThread :                    YES (ver 2.12.3)\n",
      "    GtkGlExt:                    NO\n",
      "    OpenGL support:              NO\n",
      "    VTK support:                 NO\n",
      "\n",
      "  Media I/O: \n",
      "    ZLib:                        zlib (ver 1.2.8)\n",
      "    JPEG:                        libjpeg (ver 90)\n",
      "    WEBP:                        build (ver 0.3.1)\n",
      "    PNG:                         build (ver 1.6.19)\n",
      "    TIFF:                        build (ver 42 - 4.0.2)\n",
      "    JPEG 2000:                   build (ver 1.900.1)\n",
      "    OpenEXR:                     build (ver 1.7.1)\n",
      "    GDAL:                        NO\n",
      "\n",
      "  Video I/O:\n",
      "    DC1394 1.x:                  NO\n",
      "    DC1394 2.x:                  NO\n",
      "    FFMPEG:                      NO\n",
      "      codec:                     NO\n",
      "      format:                    NO\n",
      "      util:                      NO\n",
      "      swscale:                   NO\n",
      "      resample:                  NO\n",
      "      gentoo-style:              NO\n",
      "    GStreamer:                   NO\n",
      "    OpenNI:                      NO\n",
      "    OpenNI PrimeSensor Modules:  NO\n",
      "    OpenNI2:                     NO\n",
      "    PvAPI:                       NO\n",
      "    GigEVisionSDK:               NO\n",
      "    UniCap:                      NO\n",
      "    UniCap ucil:                 NO\n",
      "    V4L/V4L2:                    NO/NO\n",
      "    XIMEA:                       NO\n",
      "    Xine:                        NO\n",
      "    gPhoto2:                     NO\n",
      "\n",
      "  Parallel framework:            pthreads\n",
      "\n",
      "  Other third-party libraries:\n",
      "    Use IPP:                     NO\n",
      "    Use IPP Async:               NO\n",
      "    Use VA:                      NO\n",
      "    Use Intel VA-API/OpenCL:     NO\n",
      "    Use Eigen:                   NO\n",
      "    Use Cuda:                    NO\n",
      "    Use OpenCL:                  YES\n",
      "    Use custom HAL:              NO\n",
      "\n",
      "  OpenCL:\n",
      "    Version:                     dynamic\n",
      "    Include path:                /io/opencv/3rdparty/include/opencl/1.2\n",
      "    Use AMDFFT:                  NO\n",
      "    Use AMDBLAS:                 NO\n",
      "\n",
      "  Python 2:\n",
      "    Interpreter:                 NO\n",
      "\n",
      "  Python 3:\n",
      "    Interpreter:                 /opt/python/cp35-cp35m/bin/python (ver 3.5.1)\n",
      "    Libraries:                   \n",
      "    numpy:                       /opt/python/cp35-cp35m/lib/python3.5/site-packages/numpy/core/include (ver 1.11.1)\n",
      "    packages path:               /opt/python/cp35-cp35m/lib/python3.5/site-packages\n",
      "\n",
      "  Python (for build):            /opt/python/cp35-cp35m/bin/python\n",
      "\n",
      "  Java:\n",
      "    ant:                         NO\n",
      "    JNI:                         NO\n",
      "    Java wrappers:               NO\n",
      "    Java tests:                  NO\n",
      "\n",
      "  Matlab:                        Matlab not found or implicitly disabled\n",
      "\n",
      "  Documentation:\n",
      "    Doxygen:                     NO\n",
      "    PlantUML:                    NO\n",
      "\n",
      "  Tests and samples:\n",
      "    Tests:                       NO\n",
      "    Performance tests:           NO\n",
      "    C/C++ Examples:              NO\n",
      "\n",
      "  Install path:                  /usr/local\n",
      "\n",
      "  cvconfig.h is in:              /io/opencv/build\n",
      "-----------------------------------------------------------------\n",
      "\n",
      "\n"
     ]
    }
   ],
   "source": [
    "import cv2\n",
    "print('version: ',cv2.__version__, 'file: ', cv2.__file__)\n",
    "print(cv2.getBuildInformation())"
   ]
  }
 ],
 "metadata": {
  "kernelspec": {
   "display_name": "Python 3",
   "language": "python",
   "name": "python3"
  },
  "language_info": {
   "codemirror_mode": {
    "name": "ipython",
    "version": 3
   },
   "file_extension": ".py",
   "mimetype": "text/x-python",
   "name": "python",
   "nbconvert_exporter": "python",
   "pygments_lexer": "ipython3",
   "version": "3.5.2+"
  }
 },
 "nbformat": 4,
 "nbformat_minor": 2
}
