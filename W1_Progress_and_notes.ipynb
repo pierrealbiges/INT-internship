{
 "cells": [
  {
   "cell_type": "markdown",
   "metadata": {},
   "source": [
    "# 2017-04-24 : learning to handle gits and GitHub"
   ]
  },
  {
   "cell_type": "markdown",
   "metadata": {},
   "source": [
    "+ Sign up to Github : Done\n",
    "\n",
    "Github tutorial (Create depositories, branchs and pull requests) : https://guides.github.com/activities/hello-world/  \n",
    "More informations about pull requests : https://guides.github.com/introduction/flow/  \n",
    "Remember to use the ISO 8601 time standard, more informations : https://en.wikipedia.org/wiki/ISO_8601  \n",
    "\n",
    "+ Creating a depository : Done\n",
    "\n",
    "More informations about creating a Github depository and using ipython notebooks : https://blog.invibe.net/posts/2014-06-18-stage-m1-chloe-pasturel-week-1.html\n",
    "\n",
    "+ Defining L. Perrinet as a collaborator : Done  \n",
    "+ Creating a Jupyter notebook : Done  \n",
    "+ Importing that notebook to Github : Done  \n",
    "+ Creating a progress notebook : Done, need to be regularly uptated\n",
    "\n",
    "More informations about git : https://doc.ubuntu-fr.org/git  \n",
    "More informations about pushing : https://www.grafikart.fr/formations/git/remote-push-pull\n",
    "\n",
    "+ Installing and initialising git : Done"
   ]
  },
  {
   "cell_type": "markdown",
   "metadata": {
    "collapsed": true
   },
   "source": [
    "    sudo apt install git  \n",
    "    cd \"directory path\"  \n",
    "    git init  \n",
    "    git remote add origin https://github.com/pierrealbiges/INT-internship.git"
   ]
  },
  {
   "cell_type": "markdown",
   "metadata": {},
   "source": [
    " + Pushing a document into github : Done\n"
   ]
  },
  {
   "cell_type": "markdown",
   "metadata": {
    "collapsed": false
   },
   "source": [
    "    git push origin --all  \n",
    "    #Username for 'https://github.com': pierrealbiges  \n",
    "    #Password for 'https://pierrealbiges@github.com': ************  \n",
    "    #Everything up-to-date\n"
   ]
  },
  {
   "cell_type": "markdown",
   "metadata": {},
   "source": [
    "Problem : The push function don't show any error but the github isn't updated  \n",
    "Seem to work with the following commands (more informations on http://readwrite.com/2013/10/02/github-for-beginners-part-2/ and https://stackoverflow.com/questions/21264738/error-src-refspec-master-does-not-match-any) :"
   ]
  },
  {
   "cell_type": "markdown",
   "metadata": {
    "collapsed": true
   },
   "source": [
    "    git add \"directory path\"\n",
    "    git commit -m 'commit name'\n",
    "    git push origin master"
   ]
  },
  {
   "cell_type": "markdown",
   "metadata": {},
   "source": [
    "# 2017-04-25 : starting to write the program and learning about kernels "
   ]
  },
  {
   "cell_type": "markdown",
   "metadata": {},
   "source": [
    "More informations about markdown : https://daringfireball.net/projects/markdown/\n",
    "\n",
    "+ Learning to create lists using markdown : Done\n",
    "+ Learning how to bypass the login step during a git push : Done  \n",
    "\n",
    "Needed to create a ssh key and to link it to my GitHub account (more informations on https://help.github.com/articles/generating-a-new-ssh-key-and-adding-it-to-the-ssh-agent/ and https://help.github.com/articles/adding-a-new-ssh-key-to-your-github-account/ ).  \n",
    "Needed to change my remote url (aka. github url) to be \"git@github.com:username/repo.git\" instead of \"https://github.com/username/repo.git\" (more informations on http://stackoverflow.com/questions/6565357/git-push-requires-username-and-password)  \n",
    "\n",
    "+ Creating the notebook that'll contain the OpenRetina program : Done\n",
    "+ Writing a header for that notebook : Done\n",
    "\n",
    "More informations about headers and conventions on http://stackoverflow.com/questions/16220930/python-what-is-a-header and https://www.python.org/dev/peps/pep-0257/.  \n",
    "\n",
    "+ Copying the PhotoReceptor class : Done  \n",
    "\n",
    "PhotoReceptor class taken from : https://github.com/laurentperrinet/openRetina/blob/master/src/openRetina.py  \n",
    "More informations about __future __ on http://stackoverflow.com/questions/7075082/what-is-future-in-python-used-for-and-how-when-to-use-it-and-how-it-works  \n",
    "I still have questions about some lines of that class  \n",
    "More informations about classes : https://apprendre-python.com/page-apprendre-programmation-orientee-objet-poo-classes-python-cours-debutants  \n",
    "\n",
    "+ Preparing the Apple computer to run the program : Done\n",
    "\n",
    "Required to install Pip3, Jupyter and git (more informations on https://jupyter.readthedocs.io/en/latest/install.html).\n",
    "\n",
    "+ Trying to run the program on the Apple computer : In Progress\n",
    "\n",
    "Jupyter use Python3 while I want it to use Python2. I need to find a way to change that. Still,"
   ]
  },
  {
   "cell_type": "markdown",
   "metadata": {},
   "source": [
    "    python -v\n",
    "    #python 2.7.12+"
   ]
  },
  {
   "cell_type": "markdown",
   "metadata": {},
   "source": [
    "I needed to create a new Kernel in Jupyter using the lines (more informations : https://github.com/jupyter/jupyter/issues/71)"
   ]
  },
  {
   "cell_type": "markdown",
   "metadata": {},
   "source": [
    "    python2 -m pip install --upgrade ipykernel\n",
    "    python2 -m ipykernel install"
   ]
  },
  {
   "cell_type": "markdown",
   "metadata": {},
   "source": [
    "But the installation of ipykernel failed at first, asking the last pip version."
   ]
  },
  {
   "cell_type": "markdown",
   "metadata": {},
   "source": [
    "    pip install --upgrade pip"
   ]
  },
  {
   "cell_type": "markdown",
   "metadata": {},
   "source": [
    "Didn't work (it said the newest version was already installed) so I had to force it with :"
   ]
  },
  {
   "cell_type": "markdown",
   "metadata": {},
   "source": [
    "    sudo -H pip install --upgrade pip"
   ]
  },
  {
   "cell_type": "markdown",
   "metadata": {},
   "source": [
    "Then I was able to install ipykernel and Python2 on Jupyter."
   ]
  },
  {
   "cell_type": "markdown",
   "metadata": {},
   "source": [
    "# 2017-04-26"
   ]
  },
  {
   "cell_type": "markdown",
   "metadata": {},
   "source": [
    "+ Installing the missing python libraries through Aptitude : Done\n",
    "+ Trying to run the program : In Progress\n",
    "\n",
    "Problem : Calling the PhotoReceptor class ask for more arguments (3) than given (1). Solved by defining h (720) and w (1280). These numbers were taken from the original script but could be updated as the native screen resolution of the used Mac computer is 1920x1200.  \n",
    "Problem : The PhotoReceptor class is correctly launched but output :"
   ]
  },
  {
   "cell_type": "markdown",
   "metadata": {},
   "source": [
    "    h = 720 w = 1280\n",
    "    Unable to capture video"
   ]
  },
  {
   "cell_type": "markdown",
   "metadata": {},
   "source": [
    "That may means that the program is unable to achieve the previous \"try\" and \"except\". Maybe picamera and cv2 are not installed on this computer?"
   ]
  },
  {
   "cell_type": "markdown",
   "metadata": {},
   "source": [
    "    python -c \"import pycamera\"\n",
    "    #Import error : No module named picamera\n",
    "    \n",
    "    python -c \"import cv2\"\n",
    "    echo $?\n",
    "    #0"
   ]
  },
  {
   "cell_type": "markdown",
   "metadata": {},
   "source": [
    "As expected, pycamera is not installed, but cv2 is. Then why is the code block using it not working?  \n",
    "The problem seems to come from the following line, as the \"try\" block is closing after it :"
   ]
  },
  {
   "cell_type": "markdown",
   "metadata": {},
   "source": [
    "    print(\"dim1 : {0}, dim2 : {1}\".format(self.h,self.w))"
   ]
  },
  {
   "cell_type": "markdown",
   "metadata": {},
   "source": [
    "More informations about format() : https://pyformat.info/  \n",
    "Putting that line as comment allow to bypass the problem but the next lines are still closing the \"try\" block :"
   ]
  },
  {
   "cell_type": "markdown",
   "metadata": {},
   "source": [
    "    self.cap.set(cv2.CAP_PROP_FRAME_WIDTH, self.w)\n",
    "    self.cap.set(cv2.CAP_PROP_FRAME_HEIGHT, self.h)"
   ]
  },
  {
   "cell_type": "markdown",
   "metadata": {},
   "source": [
    "Learning more about OpenCV may help solve the problem (more informations on https://opencv-python-tutroals.readthedocs.io/en/latest/index.html)  \n",
    "The grab() function seems to not launch.\n",
    "\n",
    "A part of the problem was because self.w and self.h were not defined. I had to add the following line (but the self.cap.set lines are still not working):"
   ]
  },
  {
   "cell_type": "markdown",
   "metadata": {},
   "source": [
    "    self.h, self.w = h, w"
   ]
  },
  {
   "cell_type": "markdown",
   "metadata": {},
   "source": [
    "Problem : the following block is activated one in two program execution, without any apparent reason : "
   ]
  },
  {
   "cell_type": "markdown",
   "metadata": {},
   "source": [
    "    if not self.cap.isOpened() : toto"
   ]
  }
 ],
 "metadata": {
  "kernelspec": {
   "display_name": "Python 2",
   "language": "python",
   "name": "python2"
  },
  "language_info": {
   "codemirror_mode": {
    "name": "ipython",
    "version": 2
   },
   "file_extension": ".py",
   "mimetype": "text/x-python",
   "name": "python",
   "nbconvert_exporter": "python",
   "pygments_lexer": "ipython2",
   "version": "2.7.13"
  }
 },
 "nbformat": 4,
 "nbformat_minor": 2
}
