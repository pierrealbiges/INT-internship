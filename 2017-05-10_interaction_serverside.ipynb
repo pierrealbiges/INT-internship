{
 "cells": [
  {
   "cell_type": "code",
   "execution_count": 4,
   "metadata": {},
   "outputs": [
    {
     "name": "stdout",
     "output_type": "stream",
     "text": [
      "Connecting to server...\n",
      "Server connected\n",
      "Sending request 0...\n",
      "Received reply 0 [ b'' ]\n",
      "Sending request 1...\n",
      "Received reply 1 [ b'' ]\n",
      "Sending request 2...\n",
      "Received reply 2 [ b'' ]\n",
      "Sending request 3...\n",
      "Received reply 3 [ b'' ]\n",
      "Sending request 4...\n",
      "Received reply 4 [ b'' ]\n",
      "\n",
      "No more requests, sending kill signal\n",
      "\n",
      "Socket and context closed\n"
     ]
    }
   ],
   "source": [
    "''' Computer side'''\n",
    "\n",
    "import zmq\n",
    "import io\n",
    "from PIL import Image\n",
    "\n",
    "try: \n",
    "    context = zmq.Context()\n",
    "    print('Connecting to server...')\n",
    "    socket = context.socket(zmq.REQ)\n",
    "    socket.connect(\"tcp://10.164.7.213:5555\")\n",
    "    print('Server connected')\n",
    "\n",
    "    for request in range(5):\n",
    "        print(\"Sending request %s...\" % request)\n",
    "        socket.send(b'Client camera request')\n",
    "\n",
    "        message = socket.recv() #Wait for next request from client\n",
    "        print(\"Received reply %s [ %s ]\" % (request, message))\n",
    "\n",
    "        image_stream = io.BytesIO()\n",
    "        image_stream.write(message)\n",
    "        image_stream.seek(0)\n",
    "\n",
    "    #    image = Image.open(image_stream)\n",
    "    #    image = image.rotate(270)\n",
    "    #    image.show()\n",
    "\n",
    "    #    image.verify()\n",
    "\n",
    "finally:         \n",
    "    socket.send(b'END')\n",
    "    print('\\nNo more requests, sending kill signal')\n",
    "    \n",
    "    socket.close()\n",
    "    context.term()\n",
    "    print('\\nSocket and context closed')"
   ]
  }
 ],
 "metadata": {
  "kernelspec": {
   "display_name": "Python 3",
   "language": "python",
   "name": "python3"
  }
 },
 "nbformat": 4,
 "nbformat_minor": 2
}
