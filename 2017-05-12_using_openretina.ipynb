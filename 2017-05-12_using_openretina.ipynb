{
 "cells": [
  {
   "cell_type": "code",
   "execution_count": 1,
   "metadata": {
    "collapsed": true
   },
   "outputs": [],
   "source": [
    "%load_ext autoreload\n",
    "%autoreload 2"
   ]
  },
  {
   "cell_type": "code",
   "execution_count": 2,
   "metadata": {},
   "outputs": [
    {
     "name": "stdout",
     "output_type": "stream",
     "text": [
      "Overwriting 2017-05-12_using_openretina.py\n"
     ]
    }
   ],
   "source": [
    "%%writefile 2017-05-12_using_openretina.py\n",
    "#! /usr/bin/env python3\n",
    "# -*- coding: utf8 -*-\n",
    "from __future__ import division, print_function\n",
    "\"\"\"\n",
    "openRetina : a photoreceptor layer\n",
    "See https://github.com/laurentperrinet/openRetina\n",
    "\"\"\"\n",
    "__author__ = \"(c) Pierre Albiges, Victor Boutin & Laurent Perrinet INT - CNRS\"\n",
    "\n",
    "from openRetina import openRetina\n",
    "phrs = openRetina(model=dict(layer='phrs', # label for this layer\n",
    "                             input=['camera'], # input: can be the camera, noise, a movie (TODO)\n",
    "                             output=['stream'] # output: can be stream, display, ...\n",
    "                             ))\n",
    "phrs.run()"
   ]
  },
  {
   "cell_type": "raw",
   "metadata": {},
   "source": [
    "!git add 2017-05-12_using_op*\n",
    "!git status\n",
    "!git add 2017-05-12_using_openretina.py"
   ]
  },
  {
   "cell_type": "code",
   "execution_count": 3,
   "metadata": {
    "collapsed": true
   },
   "outputs": [],
   "source": [
    "!git diff 2017-05-12_using_openretina.py"
   ]
  },
  {
   "cell_type": "code",
   "execution_count": 4,
   "metadata": {},
   "outputs": [
    {
     "name": "stdout",
     "output_type": "stream",
     "text": [
      "[master 162093a]  updating 2017-05-12_using_openretina.py\n",
      " 1 file changed, 13 insertions(+)\n",
      " create mode 100644 2017-05-12_using_openretina_srv.py\n",
      "Counting objects: 10, done.\n",
      "Delta compression using up to 8 threads.\n",
      "Compressing objects: 100% (10/10), done.\n",
      "Writing objects: 100% (10/10), 3.28 KiB | 0 bytes/s, done.\n",
      "Total 10 (delta 6), reused 0 (delta 0)\n",
      "remote: Resolving deltas: 100% (6/6), completed with 4 local objects.\u001b[K\n",
      "To https://github.com/pierrealbiges/INT-internship.git\n",
      "   00b3e3d..162093a  master -> master\n"
     ]
    }
   ],
   "source": [
    "!git commit -am' updating 2017-05-12_using_openretina.py '; git push"
   ]
  },
  {
   "cell_type": "code",
   "execution_count": 5,
   "metadata": {},
   "outputs": [
    {
     "name": "stdout",
     "output_type": "stream",
     "text": [
      "Already up-to-date.\n",
      "From https://github.com/pierrealbiges/INT-internship\n",
      "   00b3e3d..162093a  master     -> origin/master\n",
      "Updating 00b3e3d..162093a\n",
      "Fast-forward\n",
      " 2017-05-12_using_openretina.ipynb               |  62 +++++---\n",
      " 2017-05-12_using_openretina_server.ipynb        |  45 ++++--\n",
      " 2017-05-12_using_openretina_srv.py              |  13 ++\n",
      " 2017-05-12_using_openretina_testing_local.ipynb | 190 +++++++++++++++++-------\n",
      " 4 files changed, 223 insertions(+), 87 deletions(-)\n",
      " create mode 100644 2017-05-12_using_openretina_srv.py\n"
     ]
    }
   ],
   "source": [
    "!ssh pi@10.164.7.213 \"cd ~/openRetina ; git pull; cd ~/INT-internship ; git pull \""
   ]
  },
  {
   "cell_type": "code",
   "execution_count": 8,
   "metadata": {},
   "outputs": [
    {
     "name": "stdout",
     "output_type": "stream",
     "text": [
      "💀  Could not load visualisation\r\n",
      "Running retina on port:  5566\r\n",
      "Received request b'REQ'\r\n",
      "Received request b'REQ'\r\n",
      "Received request b'REQ'\r\n",
      "Received request b'REQ'\r\n",
      "Received request b'REQ'\r\n",
      "Received request b'REQ'\r\n",
      "Received request b'REQ'\r\n",
      "Received request b'REQ'\r\n",
      "Received request b'REQ'\r\n",
      "Received request b'REQ'\r\n",
      "Received request b'REQ'\r\n",
      "Received request b'REQ'\r\n",
      "Received request b'REQ'\r\n",
      "Received request b'REQ'\r\n",
      "Received request b'REQ'\r\n",
      "Received request b'REQ'\r\n",
      "Received request b'REQ'\r\n",
      "Received request b'REQ'\r\n",
      "Received request b'RIP'\r\n"
     ]
    }
   ],
   "source": [
    "!ssh pi@10.164.7.213 \"cd ~/INT-internship ; python3 2017-05-12_using_openretina.py \""
   ]
  },
  {
   "cell_type": "code",
   "execution_count": 7,
   "metadata": {},
   "outputs": [
    {
     "name": "stdout",
     "output_type": "stream",
     "text": [
      "python3: no process found\r\n"
     ]
    }
   ],
   "source": [
    "!ssh pi@10.164.7.213 \"killall python3\""
   ]
  },
  {
   "cell_type": "code",
   "execution_count": null,
   "metadata": {
    "collapsed": true
   },
   "outputs": [],
   "source": []
  }
 ],
 "metadata": {
  "kernelspec": {
   "display_name": "Python 3",
   "language": "python",
   "name": "python3"
  },
  "language_info": {
   "codemirror_mode": {
    "name": "ipython",
    "version": 3
   },
   "file_extension": ".py",
   "mimetype": "text/x-python",
   "name": "python",
   "nbconvert_exporter": "python",
   "pygments_lexer": "ipython3",
   "version": "3.6.1"
  }
 },
 "nbformat": 4,
 "nbformat_minor": 2
}
