{
 "cells": [
  {
   "cell_type": "markdown",
   "metadata": {},
   "source": [
    "# 2017-05-22\n",
    "---\n",
    "I still have the connection problems I have every morning. Need to restart my computer a couple time until it works again. Always around 9.\n",
    "\n",
    "Since I have huge problems with the *openCV* python module since last week, I may take a look at *MoviePy*, another powerful video editing module (all informations at : http://zulko.github.io/moviepy/). I'll only use it to display the video as a control, so it doesn't matter which one I'm using.  \n",
    "\n",
    "First, I need to install MoviePy (more informations : http://zulko.github.io/moviepy/install.html) : \n",
    "\n",
    "    pip3 install moviepy --user\n",
    "    \n",
    "That module seems good to display the video and later I could have used it to help me in the video frame to frame analysis, but it seems to not be good for that kind of tasks (see : http://zulko.github.io/moviepy/getting_started/quick_presentation.html#do-i-need-moviepy).  \n",
    "Plus it wasn't regularly updated for years (see : https://www.reddit.com/r/moviepy/comments/5snfks/is_moviepy_so_outdated_that_it_no_longer_works/ and https://www.reddit.com/r/moviepy/comments/5q65w9/still_being_developed/) until some months ago (see : https://github.com/Zulko/moviepy/graphs/contributors).  \n",
    "\n",
    "An alternative would be *ImageIO* (all informations at : http://imageio.github.io/).  \n",
    "\n",
    "With MoviePy, displaying a video should be as simple as that script, but it need some dependancies : \n",
    "\n",
    "    from moviepy import *\n",
    "    from moviepy.editor import *\n",
    "\n",
    "    clip = VideoFileClip('video.avi')\n",
    "    clip.show()\n",
    "    =================================\n",
    "    ImportError: clip.show requires Pygame installed\n",
    "    \n",
    "So : \n",
    "\n",
    "    pip3 install Pygame --user\n",
    "    \n",
    "The script now display the video but I have two problems : \n",
    "- The video I used is static, so I can't see if its showing the whole video or just a frame\n",
    "- The displaying seems to freeze and I cant close it, even by interrupting the kernel, I need to restart it. I must add some closing of killing lines"
   ]
  },
  {
   "cell_type": "markdown",
   "metadata": {},
   "source": [
    "# Outline\n",
    "---\n",
    "- [ ] Run a display of the video file\n",
    "    - [X] Write an openCV script to run the video file\n",
    "    - [X] Convert the h264 format file to one readable by openCV\n",
    "    - [ ] [CANCELED] Make openCV read the video file\n",
    "    - [X] Make MoviePy read the video file\n",
    "    - [ ] Capture and convert a non-static video\n",
    "    - [ ] [OPT] Find a way to debug the display freeze\n",
    "- [ ] Find a way to separate frames of the video\n",
    "- [ ] Introduce comparaisons between frames to only code moving pixels (see openRetina way)\n",
    "- [ ] Capture a video with a stable background and moving object\n",
    "- [ ] Implement the scripts into OpenRetina\n",
    "- [ ] Make the Pi do the GC layer work \n",
    "- [ ] [OPT] Add a way to delete the video file on the Pi after sending and processing are done.\n",
    "- [ ] [OPT] Try to find the optimal chunk size for a faster file transfer.\n",
    "- [ ] [OPT] Rewrite the scripts to introduce classes\n",
    "\n",
    "Going further :\n",
    "- [ ] Study the program bottlenecks (Where does the program lose computing time?)\n",
    "    - [ ] Add flags to monitors each script\n",
    "- [ ] Switch from synchronous (phrs grabbing and sending frames when receiving other layers requests) to asynchronous (phrs grabbing continously and sending frames when requested) processes"
   ]
  }
 ],
 "metadata": {
  "kernelspec": {
   "display_name": "Python 3",
   "language": "python",
   "name": "python3"
  },
  "language_info": {
   "codemirror_mode": {
    "name": "ipython",
    "version": 3
   },
   "file_extension": ".py",
   "mimetype": "text/x-python",
   "name": "python",
   "nbconvert_exporter": "python",
   "pygments_lexer": "ipython3",
   "version": "3.5.2+"
  }
 },
 "nbformat": 4,
 "nbformat_minor": 2
}
