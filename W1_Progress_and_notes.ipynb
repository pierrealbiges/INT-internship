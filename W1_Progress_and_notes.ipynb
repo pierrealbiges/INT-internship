{
 "cells": [
  {
   "cell_type": "markdown",
   "metadata": {},
   "source": [
    "# 2017-04-24 : learning to handle gits and GitHub"
   ]
  },
  {
   "cell_type": "markdown",
   "metadata": {},
   "source": [
    "+ Sign up to Github : Done\n",
    "\n",
    "Github tutorial (Create depositories, branchs and pull requests) : https://guides.github.com/activities/hello-world/  \n",
    "More informations about pull requests : https://guides.github.com/introduction/flow/  \n",
    "Remember to use the ISO 8601 time standard, more informations : https://en.wikipedia.org/wiki/ISO_8601  \n",
    "\n",
    "+ Creating a depository : Done\n",
    "\n",
    "More informations about creating a Github depository and using ipython notebooks : https://blog.invibe.net/posts/2014-06-18-stage-m1-chloe-pasturel-week-1.html\n",
    "\n",
    "+ Defining L. Perrinet as a collaborator : Done  \n",
    "+ Creating a Jupyter notebook : Done  \n",
    "+ Importing that notebook to Github : Done  \n",
    "+ Creating a progress notebook : Done, need to be regularly uptated\n",
    "\n",
    "More informations about git : https://doc.ubuntu-fr.org/git  \n",
    "More informations about pushing : https://www.grafikart.fr/formations/git/remote-push-pull\n",
    "\n",
    "+ Installing and initialising git : Done"
   ]
  },
  {
   "cell_type": "markdown",
   "metadata": {
    "collapsed": true
   },
   "source": [
    "    sudo apt install git  \n",
    "    cd \"directory path\"  \n",
    "    git init  \n",
    "    git remote add origin https://github.com/pierrealbiges/INT-internship.git"
   ]
  },
  {
   "cell_type": "markdown",
   "metadata": {},
   "source": [
    " + Pushing a document into github : Done\n"
   ]
  },
  {
   "cell_type": "markdown",
   "metadata": {
    "collapsed": false
   },
   "source": [
    "    git push origin --all  \n",
    "    #Username for 'https://github.com': pierrealbiges  \n",
    "    #Password for 'https://pierrealbiges@github.com': ************  \n",
    "    #Everything up-to-date\n"
   ]
  },
  {
   "cell_type": "markdown",
   "metadata": {},
   "source": [
    "Problem : The push function don't show any error but the github isn't updated  \n",
    "Seem to work with the following commands (more informations on http://readwrite.com/2013/10/02/github-for-beginners-part-2/ and https://stackoverflow.com/questions/21264738/error-src-refspec-master-does-not-match-any) :"
   ]
  },
  {
   "cell_type": "markdown",
   "metadata": {
    "collapsed": true
   },
   "source": [
    "    git add \"directory path\"\n",
    "    git commit -m 'commit name'\n",
    "    git push origin master"
   ]
  },
  {
   "cell_type": "markdown",
   "metadata": {},
   "source": [
    "# 2017-04-25"
   ]
  },
  {
   "cell_type": "markdown",
   "metadata": {},
   "source": [
    "More informations about markdown : https://daringfireball.net/projects/markdown/\n",
    "\n",
    "+ Learning to create lists using markdown : Done\n",
    "+ Learning how to bypass the login step during a git push : Done  \n",
    "\n",
    "Needed to create a ssh key and to link it to my GitHub account (more informations on https://help.github.com/articles/generating-a-new-ssh-key-and-adding-it-to-the-ssh-agent/ and https://help.github.com/articles/adding-a-new-ssh-key-to-your-github-account/ ).  \n",
    "Needed to change my remote url (aka. github url) to be \"git@github.com:username/repo.git\" instead of \"https://github.com/username/repo.git\" (more informations on http://stackoverflow.com/questions/6565357/git-push-requires-username-and-password)  \n",
    "\n",
    "+ Creating the notebook that'll contain the OpenRetina program : Done\n",
    "+ Writing a header for that notebook : Done\n",
    "\n",
    "More informations about headers and conventions on http://stackoverflow.com/questions/16220930/python-what-is-a-header and https://www.python.org/dev/peps/pep-0257/.  \n",
    "\n",
    "+ Copying the PhotoReceptor class : In Progress  \n",
    "\n",
    "PhotoReceptor class taken from : https://github.com/laurentperrinet/openRetina/blob/master/src/openRetina.py  \n",
    "More informations about __future __ on http://stackoverflow.com/questions/7075082/what-is-future-in-python-used-for-and-how-when-to-use-it-and-how-it-works  "
   ]
  },
  {
   "cell_type": "code",
   "execution_count": null,
   "metadata": {
    "collapsed": true
   },
   "outputs": [],
   "source": []
  }
 ],
 "metadata": {
  "kernelspec": {
   "display_name": "Python 2",
   "language": "python",
   "name": "python2"
  },
  "language_info": {
   "codemirror_mode": {
    "name": "ipython",
    "version": 2
   },
   "file_extension": ".py",
   "mimetype": "text/x-python",
   "name": "python",
   "nbconvert_exporter": "python",
   "pygments_lexer": "ipython2",
   "version": "2.7.13"
  }
 },
 "nbformat": 4,
 "nbformat_minor": 2
}
