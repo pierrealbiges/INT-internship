{
 "cells": [
  {
   "cell_type": "markdown",
   "metadata": {
    "deletable": true,
    "editable": true
   },
   "source": [
    "# testing locally without network\n",
    "\n",
    "\n",
    "Launching on the same computer \n",
    "- a client grabbing the display and sending it over the network (stays in the localhost),\n",
    "- a server displaying it on the host's display\n"
   ]
  },
  {
   "cell_type": "code",
   "execution_count": 1,
   "metadata": {
    "collapsed": true,
    "deletable": true,
    "editable": true
   },
   "outputs": [],
   "source": [
    "%load_ext autoreload\n",
    "%autoreload 2"
   ]
  },
  {
   "cell_type": "code",
   "execution_count": 2,
   "metadata": {
    "collapsed": false,
    "deletable": true,
    "editable": true
   },
   "outputs": [
    {
     "name": "stdout",
     "output_type": "stream",
     "text": [
      "Overwriting 2017-05-15_using_openretina_testing_camera.py\n"
     ]
    }
   ],
   "source": [
    "%%writefile 2017-05-15_using_openretina_testing_camera.py\n",
    "#! /usr/bin/env python3\n",
    "# -*- coding: utf8 -*-\n",
    "from __future__ import division, print_function\n",
    "\"\"\"\n",
    "openRetina : a photoreceptor layer\n",
    "See https://github.com/laurentperrinet/openRetina\n",
    "\"\"\"\n",
    "__author__ = \"(c) Pierre Albiges, Victor Boutin & Laurent Perrinet INT - CNRS\"\n",
    "\n",
    "from openRetina import openRetina\n",
    "phrs = openRetina(model=dict(layer='phrs', # label for this layer\n",
    "                             input=['camera'], # input: can be the camera, noise, a movie (TODO)\n",
    "                             output=['stream'] # output: can be stream, display, ...\n",
    "                             ))\n",
    "phrs.run()"
   ]
  },
  {
   "cell_type": "raw",
   "metadata": {
    "deletable": true,
    "editable": true
   },
   "source": [
    "!ipython3 2017-05-15_using_openretina_testing_camera.py &"
   ]
  },
  {
   "cell_type": "code",
   "execution_count": 3,
   "metadata": {
    "collapsed": true,
    "deletable": true,
    "editable": true
   },
   "outputs": [],
   "source": [
    "!chmod +x 2017-05-15_using_openretina_testing_camera.py "
   ]
  },
  {
   "cell_type": "code",
   "execution_count": 4,
   "metadata": {
    "collapsed": false,
    "deletable": true,
    "editable": true
   },
   "outputs": [
    {
     "name": "stdout",
     "output_type": "stream",
     "text": [
      "Overwriting 2017-05-15_using_openretina_testing_camera_srv.py\n"
     ]
    }
   ],
   "source": [
    "%%writefile 2017-05-15_using_openretina_testing_camera_srv.py\n",
    "\"\"\"\n",
    "openRetina : a basic thalamic layer\n",
    "See https://github.com/laurentperrinet/openRetina\n",
    "\"\"\"\n",
    "__author__ = \"(c) Victor Boutin & Laurent Perrinet INT - CNRS\"\n",
    "\n",
    "import subprocess\n",
    "p = subprocess.Popen(['./2017-05-12_using_openretina_testing_camera.py'])\n",
    "\n",
    "from openRetina import openRetina\n",
    "camera = openRetina(model=dict(layer='displaying the camera through the local network', # label for this layer\n",
    "                                 input=['stream'], # input: can be the camera, noise, a movie (TODO)\n",
    "                                 output=['display'], # output: can be stream, display, capture,...\n",
    "                                 T_SIM=4))\n",
    "camera.run()"
   ]
  },
  {
   "cell_type": "code",
   "execution_count": 5,
   "metadata": {
    "collapsed": true
   },
   "outputs": [],
   "source": [
    "!chmod +x 2017-05-12_using_openretina_testing_camera.py"
   ]
  },
  {
   "cell_type": "code",
   "execution_count": 6,
   "metadata": {
    "collapsed": false,
    "deletable": true,
    "editable": true,
    "scrolled": false
   },
   "outputs": [
    {
     "name": "stdout",
     "output_type": "stream",
     "text": [
      "\u001b]0;IPython: research/PA_INT-internship\u0007displaying the camera through the local network Connecting to retina with port 5566\n",
      "2017-05-19 21:10:51.869 Python[57391:37459754] ApplePersistenceIgnoreState: Existing state will not be touched. New state will be written to /var/folders/3p/m0g52j9j69z3gj8ktpgg1dm00000gn/T/org.python.python.savedState\n",
      "/usr/local/lib/python3.6/site-packages/IPython/config.py:13: ShimWarning: The `IPython.config` package has been deprecated since IPython 4.0. You should import from traitlets.config instead.\n",
      "  \"You should import from traitlets.config instead.\", ShimWarning)\n",
      "displaying the camera through the local network is sending request\n",
      "Before a downscale of 1 dim1 : 720, dim2 : 1280\n",
      "Using OpenCV\n",
      "After a downscale of 1, dim1 : 720.0, dim2 : 1280.0\n",
      "Running out_socket on port:  5566\n",
      "phrs Camera client received request b'REQ'\n",
      "Capture grabbed\n",
      "displaying the camera through the local network is sending request\n",
      "phrs Camera client received request b'REQ'\n",
      "Capture grabbed\n",
      "displaying the camera through the local network is sending request\n",
      "phrs Camera client received request b'REQ'\n",
      "Capture grabbed\n",
      "displaying the camera through the local network is sending request\n",
      "phrs Camera client received request b'REQ'\n",
      "Capture grabbed\n",
      "displaying the camera through the local network is sending request\n",
      "phrs Camera client received request b'REQ'\n",
      "Capture grabbed\n",
      "displaying the camera through the local network is sending request\n",
      "phrs Camera client received request b'REQ'\n",
      "Capture grabbed\n",
      "displaying the camera through the local network is sending request\n",
      "phrs Camera client received request b'REQ'\n",
      "Capture grabbed\n",
      "displaying the camera through the local network is sending request\n",
      "phrs Camera client received request b'REQ'\n",
      "Capture grabbed\n",
      "displaying the camera through the local network is sending request\n",
      "phrs Camera client received request b'REQ'\n",
      "Capture grabbed\n",
      "displaying the camera through the local network is sending request\n",
      "phrs Camera client received request b'REQ'\n",
      "Capture grabbed\n",
      "displaying the camera through the local network is sending request\n",
      "phrs Camera client received request b'REQ'\n",
      "Capture grabbed\n",
      "displaying the camera through the local network is sending request\n",
      "phrs Camera client received request b'REQ'\n",
      "Capture grabbed\n",
      "displaying the camera through the local network is sending request\n",
      "phrs Camera client received request b'REQ'\n",
      "Capture grabbed\n",
      "displaying the camera through the local network is sending request\n",
      "phrs Camera client received request b'REQ'\n",
      "Capture grabbed\n",
      "displaying the camera through the local network is sending request\n",
      "phrs Camera client received request b'REQ'\n",
      "Capture grabbed\n",
      "displaying the camera through the local network is sending request\n",
      "phrs Camera client received request b'REQ'\n",
      "Capture grabbed\n",
      "displaying the camera through the local network is sending request\n",
      "phrs Camera client received request b'REQ'\n",
      "Capture grabbed\n",
      "displaying the camera through the local network is sending request\n",
      "phrs Camera client received request b'REQ'\n",
      "Capture grabbed\n",
      "displaying the camera through the local network is sending request\n",
      "phrs Camera client received request b'REQ'\n",
      "Capture grabbed\n",
      "displaying the camera through the local network is sending request\n",
      "phrs Camera client received request b'REQ'\n",
      "Capture grabbed\n",
      "displaying the camera through the local network is sending request\n",
      "phrs Camera client received request b'REQ'\n",
      "Capture grabbed\n",
      "displaying the camera through the local network is sending request\n",
      "phrs Camera client received request b'REQ'\n",
      "Capture grabbed\n",
      "displaying the camera through the local network is sending request\n",
      "phrs Camera client received request b'REQ'\n",
      "Capture grabbed\n",
      "displaying the camera through the local network is sending request\n",
      "phrs Camera client received request b'REQ'\n",
      "Capture grabbed\n",
      "displaying the camera through the local network is sending request\n",
      "phrs Camera client received request b'REQ'\n",
      "Capture grabbed\n",
      "displaying the camera through the local network is sending request\n",
      "phrs Camera client received request b'REQ'\n",
      "Capture grabbed\n",
      "displaying the camera through the local network is sending request\n",
      "phrs Camera client received request b'REQ'\n",
      "Capture grabbed\n",
      "displaying the camera through the local network is sending request\n",
      "phrs Camera client received request b'REQ'\n",
      "Capture grabbed\n",
      "displaying the camera through the local network is sending request\n",
      "phrs Camera client received request b'REQ'\n",
      "Capture grabbed\n",
      "displaying the camera through the local network is sending request\n",
      "phrs Camera client received request b'REQ'\n",
      "Capture grabbed\n",
      "displaying the camera through the local network is sending request\n",
      "phrs Camera client received request b'REQ'\n",
      "Capture grabbed\n",
      "displaying the camera through the local network is sending request\n",
      "phrs Camera client received request b'REQ'\n",
      "Capture grabbed\n",
      "displaying the camera through the local network is sending request\n",
      "phrs Camera client received request b'REQ'\n",
      "Capture grabbed\n",
      "displaying the camera through the local network is sending request\n",
      "phrs Camera client received request b'REQ'\n",
      "Capture grabbed\n",
      "displaying the camera through the local network is sending request\n",
      "phrs Camera client received request b'REQ'\n",
      "Capture grabbed\n",
      "displaying the camera through the local network is sending request\n",
      "phrs Camera client received request b'REQ'\n",
      "Capture grabbed\n",
      "displaying the camera through the local network is sending request\n",
      "phrs Camera client received request b'REQ'\n",
      "Capture grabbed\n",
      "displaying the camera through the local network is sending request\n",
      "phrs Camera client received request b'REQ'\n",
      "Capture grabbed\n",
      "displaying the camera through the local network is sending request\n",
      "phrs Camera client received request b'REQ'\n",
      "Capture grabbed\n",
      "displaying the camera through the local network is sending request\n",
      "phrs Camera client received request b'REQ'\n",
      "Capture grabbed\n",
      "displaying the camera through the local network is sending request\n",
      "phrs Camera client received request b'REQ'\n",
      "Capture grabbed\n",
      "displaying the camera through the local network is sending request\n",
      "phrs Camera client received request b'REQ'\n",
      "Capture grabbed\n",
      "displaying the camera through the local network is sending request\n",
      "phrs Camera client received request b'REQ'\n",
      "Capture grabbed\n",
      "displaying the camera through the local network is sending request\n",
      "phrs Camera client received request b'REQ'\n",
      "Capture grabbed\n",
      "displaying the camera through the local network is sending request\n",
      "phrs Camera client received request b'REQ'\n",
      "Capture grabbed\n",
      "displaying the camera through the local network is sending request\n",
      "phrs Camera client received request b'REQ'\n",
      "Capture grabbed\n",
      "displaying the camera through the local network is sending request\n",
      "phrs Camera client received request b'REQ'\n",
      "Capture grabbed\n",
      "displaying the camera through the local network is sending request\n",
      "phrs Camera client received request b'REQ'\n",
      "Capture grabbed\n",
      "displaying the camera through the local network is sending request\n",
      "phrs Camera client received request b'REQ'\n",
      "Capture grabbed\n",
      "displaying the camera through the local network is sending request\n",
      "phrs Camera client received request b'REQ'\n",
      "Capture grabbed\n",
      "displaying the camera through the local network is sending request\n",
      "phrs Camera client received request b'REQ'\n",
      "Capture grabbed\n",
      "displaying the camera through the local network is sending request\n",
      "phrs Camera client received request b'REQ'\n",
      "Capture grabbed\n",
      "displaying the camera through the local network is sending request\n",
      "phrs Camera client received request b'REQ'\n",
      "Capture grabbed\n",
      "displaying the camera through the local network is sending request\n",
      "phrs Camera client received request b'REQ'\n",
      "Capture grabbed\n",
      "phrs Camera client received request b'RIP'\n",
      "Sent 54 images in 6 seconds at 8.17fps\n"
     ]
    }
   ],
   "source": [
    "!ipython3 2017-05-15_using_openretina_testing_camera_srv.py"
   ]
  },
  {
   "cell_type": "raw",
   "metadata": {
    "deletable": true,
    "editable": true
   },
   "source": [
    "from openRetina import openRetina\n",
    "from openRetina import PhotoReceptor\n",
    "\n",
    "cam = PhotoReceptor(640,480)\n",
    "cam.grab()\n",
    "cam.close()"
   ]
  },
  {
   "cell_type": "raw",
   "metadata": {
    "deletable": true,
    "editable": true
   },
   "source": [
    "import cv2\n",
    "\n",
    "cap = cv2.VideoCapture(0)\n",
    "if not cap.isOpened():\n",
    "    print('Cam not opnd')\n",
    "while(True):\n",
    "    ret,frame = cap.read()\n",
    "    cv2.imshow('frame', frame)\n",
    "    if cv2.waitKey(1) & 0xFF == ord('q'):\n",
    "        break\n",
    "cap.release()\n",
    "cv2.destroyAllWindows()\n"
   ]
  },
  {
   "cell_type": "raw",
   "metadata": {
    "deletable": true,
    "editable": true
   },
   "source": [
    "import cv2\n",
    "print('version: ',cv2.__version__, 'file: ', cv2.__file__)\n",
    "print(cv2.getBuildInformation())"
   ]
  }
 ],
 "metadata": {
  "kernelspec": {
   "display_name": "Python 3",
   "language": "python",
   "name": "python3"
  },
  "language_info": {
   "codemirror_mode": {
    "name": "ipython",
    "version": 3
   },
   "file_extension": ".py",
   "mimetype": "text/x-python",
   "name": "python",
   "nbconvert_exporter": "python",
   "pygments_lexer": "ipython3",
   "version": "3.6.1"
  }
 },
 "nbformat": 4,
 "nbformat_minor": 2
}
