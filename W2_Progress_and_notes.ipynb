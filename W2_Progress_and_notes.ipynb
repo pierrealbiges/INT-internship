{
 "cells": [
  {
   "cell_type": "markdown",
   "metadata": {},
   "source": [
    "# 2017-05-02\n",
    "\n",
    "+ Capturing a framerate for each downscale parameter possible : In Progress\n",
    "\n",
    "The framerate seems to be hightly dependent of the program simplicity. Going from : \n",
    "\n",
    "    (...)\n",
    "    for i in range(0,num_frames):\n",
    "        Ph.grab()\n",
    "        frame = Ph.grab()\n",
    "        (...)\n",
    "        \n",
    "to :\n",
    "\n",
    "    (...)\n",
    "    for i in range(0,num_frames):\n",
    "        frame = Ph.grab()\n",
    "        (...)\n",
    "        \n",
    "Seem to double the framerate recorded (from 7 to almost 14 FPS).\n",
    "\n",
    "+ Building a plot comparing the framerate with the downscale parameter : Next step"
   ]
  }
 ],
 "metadata": {
  "kernelspec": {
   "display_name": "Python 2",
   "language": "python",
   "name": "python2"
  },
  "language_info": {
   "codemirror_mode": {
    "name": "ipython",
    "version": 2
   },
   "file_extension": ".py",
   "mimetype": "text/x-python",
   "name": "python",
   "nbconvert_exporter": "python",
   "pygments_lexer": "ipython2",
   "version": "2.7.12+"
  }
 },
 "nbformat": 4,
 "nbformat_minor": 2
}
