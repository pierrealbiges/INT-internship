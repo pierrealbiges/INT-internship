{
 "cells": [
  {
   "cell_type": "code",
   "execution_count": 24,
   "metadata": {
    "collapsed": true
   },
   "outputs": [],
   "source": [
    "%load_ext autoreload\n",
    "%autoreload 2"
   ]
  },
  {
   "cell_type": "markdown",
   "metadata": {},
   "source": [
    "# Capturing a video to a file with the Pi"
   ]
  },
  {
   "cell_type": "code",
   "execution_count": 45,
   "metadata": {},
   "outputs": [
    {
     "name": "stdout",
     "output_type": "stream",
     "text": [
      "Overwriting 2017-05-17_capture_videos_with_openretina.py\n"
     ]
    }
   ],
   "source": [
    "%%writefile 2017-05-17_capture_videos_with_openretina.py\n",
    "#! /usr/bin/env python3\n",
    "# -*- coding: utf8 -*-\n",
    "\n",
    "import picamera\n",
    "\n",
    "class Rec_video():\n",
    "    def __init__(self):\n",
    "        cam = picamera.PiCamera()\n",
    "        cam.resolution = (640,480) #Defining the camera resolution        \n",
    "        cam.start_recording(output='video_picam2', format='rgb') #Start recording in 'filename.filetype'\n",
    "        cam.wait_recording(5) #Better integrated time.wait() that allow to continually check for errors\n",
    "        cam.stop_recording() #Stop recording\n",
    "\n",
    "        print('Recording end') #Control line\n",
    "        \n",
    "rec = Rec_video() #Calling the Rec_video class"
   ]
  },
  {
   "cell_type": "code",
   "execution_count": 46,
   "metadata": {},
   "outputs": [
    {
     "name": "stdout",
     "output_type": "stream",
     "text": [
      "[master b3dfa31]  updating *_capture_videos_with_openRetina.py\n",
      " 1 file changed, 1 insertion(+), 1 deletion(-)\n",
      "Counting objects: 3, done.\n",
      "Delta compression using up to 2 threads.\n",
      "Compressing objects: 100% (3/3), done.\n",
      "Writing objects: 100% (3/3), 337 bytes | 0 bytes/s, done.\n",
      "Total 3 (delta 2), reused 0 (delta 0)\n",
      "remote: Resolving deltas: 100% (2/2), completed with 2 local objects.\u001b[K\n",
      "To github.com:pierrealbiges/INT-internship.git\n",
      "   2db1afa..b3dfa31  master -> master\n",
      "Already up-to-date.\n",
      "From https://github.com/pierrealbiges/INT-internship\n",
      "   2db1afa..b3dfa31  master     -> origin/master\n",
      "Updating 2db1afa..b3dfa31\n",
      "Fast-forward\n",
      " 2017-05-17_capture_videos_with_openretina.py | 2 +-\n",
      " 1 file changed, 1 insertion(+), 1 deletion(-)\n"
     ]
    }
   ],
   "source": [
    "!git add 2017-05-17_capture_videos_with_openretina.py\n",
    "!git commit -m' updating *_capture_videos_with_openRetina.py '; git push\n",
    "!ssh pi@10.164.7.213 \"cd ~/openRetina ; git pull; cd ~/INT-internship ; git pull\""
   ]
  },
  {
   "cell_type": "code",
   "execution_count": 47,
   "metadata": {},
   "outputs": [
    {
     "name": "stdout",
     "output_type": "stream",
     "text": [
      "Recording end\r\n"
     ]
    }
   ],
   "source": [
    "!ssh pi@10.164.7.213 \"cd ~/INT-internship ; python3 2017-05-17_capture_videos_with_openretina.py\""
   ]
  },
  {
   "cell_type": "markdown",
   "metadata": {},
   "source": [
    "# Sending the video file to the computer"
   ]
  },
  {
   "cell_type": "code",
   "execution_count": 64,
   "metadata": {},
   "outputs": [
    {
     "name": "stdout",
     "output_type": "stream",
     "text": [
      "Overwriting 2017-05-17_capture_videos_with_openretina_client.py\n"
     ]
    }
   ],
   "source": [
    "%%writefile 2017-05-17_capture_videos_with_openretina_client.py\n",
    "\"\"\" Pi side \"\"\"\n",
    "\n",
    "import zmq\n",
    "CHUNK_SIZE = 250000\n",
    "\n",
    "try:\n",
    "    context = zmq.Context()\n",
    "    router = context.socket(zmq.ROUTER)\n",
    "    \n",
    "    router.sndhwm = router.rcvhwm = CHUNK_SIZE\n",
    "    router.hwm = CHUNK_SIZE\n",
    "    router.bind(\"tcp://*:5555\")\n",
    "    print(\"Connected to computer\")\n",
    "    \n",
    "    file = open(\"video_picam\",\"rb\")\n",
    "    print('File opened')\n",
    "    while True:\n",
    "        identity, command = router.recv_multipart()\n",
    "        \n",
    "        assert command == b\"fetch\"\n",
    "        print('Command received')\n",
    "        \n",
    "        while True:\n",
    "            data = file.read(CHUNK_SIZE)\n",
    "            router.send_multipart([identity, data])\n",
    "            print('Sending data...')\n",
    "            if not data:\n",
    "                print('\\nNo more data')\n",
    "                break\n",
    "        if not data: break\n",
    "\n",
    "finally:\n",
    "    router.close()\n",
    "    context.term()\n",
    "    print(\"\\nConnection closed\")"
   ]
  },
  {
   "cell_type": "code",
   "execution_count": 65,
   "metadata": {},
   "outputs": [
    {
     "name": "stdout",
     "output_type": "stream",
     "text": [
      "PUSHING\n",
      "[master cef7630]  updating *_capture_videos_with_openRetina_client.py\n",
      " 1 file changed, 1 insertion(+)\n",
      "Counting objects: 3, done.\n",
      "Delta compression using up to 2 threads.\n",
      "Compressing objects: 100% (3/3), done.\n",
      "Writing objects: 100% (3/3), 353 bytes | 0 bytes/s, done.\n",
      "Total 3 (delta 2), reused 0 (delta 0)\n",
      "remote: Resolving deltas: 100% (2/2), completed with 2 local objects.\u001b[K\n",
      "To github.com:pierrealbiges/INT-internship.git\n",
      "   88b9d7d..cef7630  master -> master\n",
      "\n",
      "PULLING\n",
      "Already up-to-date.\n",
      "From https://github.com/pierrealbiges/INT-internship\n",
      "   88b9d7d..cef7630  master     -> origin/master\n",
      "Updating 88b9d7d..cef7630\n",
      "Fast-forward\n",
      " 2017-05-17_capture_videos_with_openretina_client.py | 1 +\n",
      " 1 file changed, 1 insertion(+)\n"
     ]
    }
   ],
   "source": [
    "!git add 2017-05-17_capture_videos_with_openretina_client.py\n",
    "print('PUSHING')\n",
    "!git commit -m' updating *_capture_videos_with_openRetina_client.py '; git push\n",
    "print('\\nPULLING')\n",
    "!ssh pi@10.164.7.213 \"cd ~/openRetina ; git pull; cd ~/INT-internship ; git pull\""
   ]
  },
  {
   "cell_type": "code",
   "execution_count": 66,
   "metadata": {},
   "outputs": [
    {
     "name": "stdout",
     "output_type": "stream",
     "text": [
      "Connected to computer\r\n",
      "File opened\r\n",
      "Command received\r\n",
      "Sending data...\r\n",
      "Sending data...\r\n",
      "Sending data...\r\n",
      "\r\n",
      "No more data\r\n",
      "Connection closed\r\n"
     ]
    }
   ],
   "source": [
    "!ssh pi@10.164.7.213 \"cd ~/INT-internship/ ; python3 2017-05-17_capture_videos_with_openretina_client.py\""
   ]
  },
  {
   "cell_type": "code",
   "execution_count": null,
   "metadata": {
    "collapsed": true
   },
   "outputs": [],
   "source": []
  }
 ],
 "metadata": {
  "kernelspec": {
   "display_name": "Python 3",
   "language": "python",
   "name": "python3"
  },
  "language_info": {
   "codemirror_mode": {
    "name": "ipython",
    "version": 3
   },
   "file_extension": ".py",
   "mimetype": "text/x-python",
   "name": "python",
   "nbconvert_exporter": "python",
   "pygments_lexer": "ipython3",
   "version": "3.5.2+"
  }
 },
 "nbformat": 4,
 "nbformat_minor": 2
}
