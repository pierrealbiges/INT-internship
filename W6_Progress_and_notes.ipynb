{
 "cells": [
  {
   "cell_type": "markdown",
   "metadata": {},
   "source": [
    "# 2017-05-28\n",
    "---\n",
    "I need find a way to bypass the *fl_image()* function limitations.\n",
    "It's easy with MoviePy to retrieve the video frame rate :\n",
    "\n",
    "    print(video.fps)\n",
    "    print(processed_video.fps)\n",
    "    ==========================\n",
    "    25.0\n",
    "    25.0\n",
    "    \n",
    "I'll try to build the script into a class, to save parameters between each frame iteration. Or use openCV again (but we try to use it as little as possible to avoid compiling as mush as possible, and MoviePy is only composed of python scripts, contrary to openCV that contain a lot of C scripts).  \n",
    "I need to integrate : recording of a video file by the Pi, sending that file -frame by frame- to server upon request, that may (or may not) do some processing.  \n",
    "\n",
    "When moving from the use of a *processing* function called by the *fl_image()* command to the use of :\n",
    "\n",
    "    for frame in video.get_frame(t=0.0 % video.duration):\n",
    "        (...)\n",
    "        \n",
    "I successfuly process the video file. When asked, the script also output 480 frames, no matter the value of *t*.  But then the frame is an numpy.array not callable by :\n",
    "\n",
    "    processed_video.fl_image(frame)\n",
    "    =================================================\n",
    "    TypeError: 'numpy.ndarray' object is not callable\n",
    "    \n",
    "I remember getting through that error with the *matplotlib* module. Or I may use PIL (as suggested here : https://stackoverflow.com/questions/10965417/how-to-convert-numpy-array-to-pil-image-applying-matplotlib-colormap) and its *frombytes* function (more informations : http://pillow.readthedocs.io/en/latest/reference/Image.html#PIL.Image.fromarray).  \n",
    "\n",
    "But when adding the first line : \n",
    "\n",
    "    foo = Image.fromarray(frame)\n",
    "    processed_video.fl_image(foo)\n",
    "    =========================================\n",
    "    TypeError: 'Image' object is not callable\n",
    "    \n",
    "What I need to do is convert the data from numpy array to RGB to be readable to *fl_image*.  \n",
    "I'll try one of the methods proposed here : http://www.socouldanyone.com/2013/03/converting-grayscale-to-rgb-with-numpy.html  "
   ]
  },
  {
   "cell_type": "markdown",
   "metadata": {},
   "source": [
    "# Outline\n",
    "---\n",
    "- [ ] Introduce comparaisons between frames to only code moving pixels\n",
    "    - [X] Solve an issue : script correctly modifying only the first frame\n",
    "    - [X] Solve an issue : \"write file\" command don't contain modifications\n",
    "    - [ ] Solve an issue : incomplete processing\n",
    "        - [ ] Find a way to substract frame with the previous one\n",
    "        - [ ] Convert the numpy array data to RGB data\n",
    "- [X] Convert the video file to mp4 instead of avi\n",
    "- [X] Capture a video with a stable background and moving object\n",
    "- [ ] Implement the scripts into OpenRetina\n",
    "- [ ] Make the Pi do the GC layer work \n",
    "- [ ] [OPT] Add a way to delete the video file on the Pi after sending and processing are done.\n",
    "- [ ] [OPT] Try to find the optimal chunk size for a faster file transfer.\n",
    "- [ ] [OPT] Rewrite the scripts to introduce classes\n",
    "- [ ] [OPT] Dive into the video processing steps to find out when the sixth second (if the video is 5s long) is added\n",
    "\n",
    "Going further :\n",
    "- [ ] Study the program bottlenecks (Where does the program lose computing time?)\n",
    "    - [ ] Add flags to monitors each script\n",
    "- [ ] Switch from synchronous (phrs grabbing and sending frames when receiving other layers requests) to asynchronous (phrs grabbing continously and sending frames when requested) processes\n",
    "- [ ] Add a way to use external videos (e.g from Youtube) as a video input"
   ]
  }
 ],
 "metadata": {
  "kernelspec": {
   "display_name": "Python 3",
   "language": "python",
   "name": "python3"
  },
  "language_info": {
   "codemirror_mode": {
    "name": "ipython",
    "version": 3
   },
   "file_extension": ".py",
   "mimetype": "text/x-python",
   "name": "python",
   "nbconvert_exporter": "python",
   "pygments_lexer": "ipython3",
   "version": "3.5.2+"
  }
 },
 "nbformat": 4,
 "nbformat_minor": 2
}
