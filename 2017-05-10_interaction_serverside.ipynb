{
 "cells": [
  {
   "cell_type": "code",
   "execution_count": 3,
   "metadata": {},
   "outputs": [
    {
     "name": "stdout",
     "output_type": "stream",
     "text": [
      "Connecting to client...\n",
      "Client connected\n",
      "Sending request 0...\n",
      "Received reply 0 [ b'{\\xf2\\x02\\x00' ]\n"
     ]
    },
    {
     "ename": "OSError",
     "evalue": "cannot identify image file <_io.BytesIO object at 0x7fc248090eb8>",
     "output_type": "error",
     "traceback": [
      "\u001b[0;31m---------------------------------------------------------------------------\u001b[0m",
      "\u001b[0;31mOSError\u001b[0m                                   Traceback (most recent call last)",
      "\u001b[0;32m<ipython-input-3-4dd0469bd282>\u001b[0m in \u001b[0;36m<module>\u001b[0;34m()\u001b[0m\n\u001b[1;32m     22\u001b[0m     \u001b[0mimage_stream\u001b[0m\u001b[0;34m.\u001b[0m\u001b[0mseek\u001b[0m\u001b[0;34m(\u001b[0m\u001b[0;36m0\u001b[0m\u001b[0;34m)\u001b[0m\u001b[0;34m\u001b[0m\u001b[0m\n\u001b[1;32m     23\u001b[0m \u001b[0;34m\u001b[0m\u001b[0m\n\u001b[0;32m---> 24\u001b[0;31m     \u001b[0mimage\u001b[0m \u001b[0;34m=\u001b[0m \u001b[0mImage\u001b[0m\u001b[0;34m.\u001b[0m\u001b[0mopen\u001b[0m\u001b[0;34m(\u001b[0m\u001b[0mimage_stream\u001b[0m\u001b[0;34m)\u001b[0m\u001b[0;34m\u001b[0m\u001b[0m\n\u001b[0m\u001b[1;32m     25\u001b[0m     \u001b[0mimage\u001b[0m \u001b[0;34m=\u001b[0m \u001b[0mimage\u001b[0m\u001b[0;34m.\u001b[0m\u001b[0mrotate\u001b[0m\u001b[0;34m(\u001b[0m\u001b[0;36m270\u001b[0m\u001b[0;34m)\u001b[0m\u001b[0;34m\u001b[0m\u001b[0m\n\u001b[1;32m     26\u001b[0m     \u001b[0mimage\u001b[0m\u001b[0;34m.\u001b[0m\u001b[0mshow\u001b[0m\u001b[0;34m(\u001b[0m\u001b[0;34m)\u001b[0m\u001b[0;34m\u001b[0m\u001b[0m\n",
      "\u001b[0;32m/usr/lib/python3/dist-packages/PIL/Image.py\u001b[0m in \u001b[0;36mopen\u001b[0;34m(fp, mode)\u001b[0m\n\u001b[1;32m   2315\u001b[0m \u001b[0;34m\u001b[0m\u001b[0m\n\u001b[1;32m   2316\u001b[0m     raise IOError(\"cannot identify image file %r\"\n\u001b[0;32m-> 2317\u001b[0;31m                   % (filename if filename else fp))\n\u001b[0m\u001b[1;32m   2318\u001b[0m \u001b[0;34m\u001b[0m\u001b[0m\n\u001b[1;32m   2319\u001b[0m \u001b[0;31m#\u001b[0m\u001b[0;34m\u001b[0m\u001b[0;34m\u001b[0m\u001b[0m\n",
      "\u001b[0;31mOSError\u001b[0m: cannot identify image file <_io.BytesIO object at 0x7fc248090eb8>"
     ]
    }
   ],
   "source": [
    "''' Computer side'''\n",
    "\n",
    "import zmq\n",
    "import io\n",
    "from PIL import Image\n",
    "\n",
    "context = zmq.Context()\n",
    "print('Connecting to server...')\n",
    "socket = context.socket(zmq.REQ)\n",
    "socket.connect(\"tcp://10.164.7.213:5555\")\n",
    "print('Server connected')\n",
    "\n",
    "for request in range(5):\n",
    "    print(\"Sending request %s...\" % request)\n",
    "    socket.send(b'Hello')\n",
    "    \n",
    "    message = socket.recv() #Wait for next request from client\n",
    "    print(\"Received reply %s [ %s ]\" % (request, message))\n",
    "    \n",
    "    image_stream = io.BytesIO()\n",
    "    image_stream.write(message)\n",
    "    image_stream.seek(0)\n",
    "    \n",
    "    image = Image.open(image_stream)\n",
    "    image = image.rotate(270)\n",
    "    image.show()\n",
    "\n",
    "socket.send('END')\n",
    "print('No more requests')"
   ]
  }
 ],
 "metadata": {
  "kernelspec": {
   "display_name": "Python 3",
   "language": "python",
   "name": "python3"
  },
  "language_info": {
   "codemirror_mode": {
    "name": "ipython",
    "version": 3
   },
   "file_extension": ".py",
   "mimetype": "text/x-python",
   "name": "python",
   "nbconvert_exporter": "python",
   "pygments_lexer": "ipython3",
   "version": "3.5.2+"
  }
 },
 "nbformat": 4,
 "nbformat_minor": 2
}
