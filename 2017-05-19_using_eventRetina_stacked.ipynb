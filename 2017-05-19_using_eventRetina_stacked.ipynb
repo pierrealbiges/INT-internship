{
 "cells": [
  {
   "cell_type": "markdown",
   "metadata": {
    "deletable": true,
    "editable": true
   },
   "source": [
    "# stacking different programs\n",
    "\n",
    "\n",
    "Launching on the same computer \n",
    "- a client grabbing the display and sending it over the network (stays in the localhost),\n",
    "- a middle layer which converts the input to spikes\n",
    "- a server displaying it on the host's display\n"
   ]
  },
  {
   "cell_type": "code",
   "execution_count": 1,
   "metadata": {
    "collapsed": false,
    "deletable": true,
    "editable": true
   },
   "outputs": [],
   "source": [
    "%load_ext autoreload\n",
    "%autoreload 2"
   ]
  },
  {
   "cell_type": "markdown",
   "metadata": {
    "deletable": true,
    "editable": true
   },
   "source": [
    "## a simple retina"
   ]
  },
  {
   "cell_type": "code",
   "execution_count": 2,
   "metadata": {
    "collapsed": false,
    "deletable": true,
    "editable": true
   },
   "outputs": [
    {
     "name": "stdout",
     "output_type": "stream",
     "text": [
      "Overwriting 2017-05-19_using_eventRetina_stacked_camera.py\n"
     ]
    }
   ],
   "source": [
    "%%writefile 2017-05-19_using_eventRetina_stacked_camera.py\n",
    "#! /usr/bin/env python3\n",
    "# -*- coding: utf8 -*-\n",
    "from __future__ import division, print_function\n",
    "\"\"\"\n",
    "openRetina : a photoreceptor layer\n",
    "See https://github.com/laurentperrinet/openRetina\n",
    "\"\"\"\n",
    "__author__ = \"(c) Pierre Albiges, Victor Boutin & Laurent Perrinet INT - CNRS\"\n",
    "\n",
    "from openRetina import openRetina\n",
    "phrs = openRetina(model=dict(layer='phrs', # label for this layer\n",
    "                             input=['camera'], # input: can be the camera, noise, a movie (TODO)\n",
    "                             output=['stream'], # output: can be stream, display, ...\n",
    "                             out_port=5555\n",
    "                             ))\n",
    "phrs.run()"
   ]
  },
  {
   "cell_type": "code",
   "execution_count": 3,
   "metadata": {
    "collapsed": true,
    "deletable": true,
    "editable": true
   },
   "outputs": [],
   "source": [
    "!chmod +x 2017-05-19_using_eventRetina_stacked_camera.py "
   ]
  },
  {
   "cell_type": "markdown",
   "metadata": {
    "deletable": true,
    "editable": true
   },
   "source": [
    "## a simple spiking layer"
   ]
  },
  {
   "cell_type": "code",
   "execution_count": 4,
   "metadata": {
    "collapsed": false,
    "deletable": true,
    "editable": true
   },
   "outputs": [
    {
     "name": "stdout",
     "output_type": "stream",
     "text": [
      "Overwriting 2017-05-19_using_eventRetina_stacked_GCs.py\n"
     ]
    }
   ],
   "source": [
    "%%writefile 2017-05-19_using_eventRetina_stacked_GCs.py\n",
    "#! /usr/bin/env python3\n",
    "# -*- coding: utf8 -*-\n",
    "from __future__ import division, print_function\n",
    "\"\"\"\n",
    "openRetina : a photoreceptor layer\n",
    "See https://github.com/laurentperrinet/openRetina\n",
    "\"\"\"\n",
    "__author__ = \"(c) Pierre Albiges, Victor Boutin & Laurent Perrinet INT - CNRS\"\n",
    "\n",
    "from eventRetina import eventRetina\n",
    "phrs = eventRetina(model=dict(layer='GCs', # label for this layer\n",
    "                             input=['stream'], # input: can be the camera, noise, a movie (TODO)\n",
    "                             in_port=5555,\n",
    "                             output=['stream'], # output: can be stream, display, ...\n",
    "                             out_port=5556\n",
    "                             ))\n",
    "print\n",
    "phrs.run()"
   ]
  },
  {
   "cell_type": "code",
   "execution_count": 5,
   "metadata": {
    "collapsed": true,
    "deletable": true,
    "editable": true
   },
   "outputs": [],
   "source": [
    "!chmod +x 2017-05-19_using_eventRetina_stacked_GCs.py "
   ]
  },
  {
   "cell_type": "code",
   "execution_count": 6,
   "metadata": {
    "collapsed": false,
    "deletable": true,
    "editable": true
   },
   "outputs": [
    {
     "name": "stdout",
     "output_type": "stream",
     "text": [
      "Overwriting 2017-05-19_using_eventRetina_stacked_display.py\n"
     ]
    }
   ],
   "source": [
    "%%writefile 2017-05-19_using_eventRetina_stacked_display.py\n",
    "\"\"\"\n",
    "openRetina : a basic thalamic layer\n",
    "See https://github.com/laurentperrinet/openRetina\n",
    "\"\"\"\n",
    "__author__ = \"(c) Victor Boutin & Laurent Perrinet INT - CNRS\"\n",
    "\n",
    "import subprocess\n",
    "p = subprocess.Popen(['./2017-05-19_using_eventRetina_stacked_camera.py'])\n",
    "GCs = subprocess.Popen(['./2017-05-19_using_eventRetina_stacked_GCs.py'])\n",
    "\n",
    "from eventRetina import eventRetina\n",
    "camera = eventRetina(model=dict(layer='A three layered network: retina - GCs - display', # label for this layer\n",
    "                                 input=['stream'], # input: can be the camera, noise, a movie (TODO)\n",
    "                                 in_port=5556,\n",
    "                                 output=['display'], # output: can be stream, display, capture,...\n",
    "                                 T_SIM=5, sparseness=0.01))\n",
    "camera.run()"
   ]
  },
  {
   "cell_type": "code",
   "execution_count": 7,
   "metadata": {
    "collapsed": false,
    "deletable": true,
    "editable": true,
    "scrolled": false
   },
   "outputs": [
    {
     "name": "stdout",
     "output_type": "stream",
     "text": [
      "\u001b]0;IPython: research/PA_INT-internship\u0007Number of points sent at each frame= 922\n",
      "A three layered network: retina - GCs - display Connecting to retina with port 5556\n",
      "Running out_socket on port:  5556\n",
      "Number of points sent at each frame= 922\n",
      "GCs Connecting to retina with port 5555\n",
      "2017-05-19 21:05:13.432 Python[57250:37455633] ApplePersistenceIgnoreState: Existing state will not be touched. New state will be written to /var/folders/3p/m0g52j9j69z3gj8ktpgg1dm00000gn/T/org.python.python.savedState\n",
      "/usr/local/lib/python3.6/site-packages/IPython/config.py:13: ShimWarning: The `IPython.config` package has been deprecated since IPython 4.0. You should import from traitlets.config instead.\n",
      "  \"You should import from traitlets.config instead.\", ShimWarning)\n",
      "A three layered network: retina - GCs - display is sending request\n",
      "GCs Stream input received request b'REQ'\n",
      "GCs is sending request\n",
      "Before a downscale of 1 dim1 : 720, dim2 : 1280\n",
      "Using OpenCV\n",
      "After a downscale of 1, dim1 : 720.0, dim2 : 1280.0\n",
      "Running out_socket on port:  5555\n",
      "phrs Camera client received request b'REQ'\n",
      "Capture grabbed\n",
      "A three layered network: retina - GCs - display is sending request\n",
      "GCs Stream input received request b'REQ'\n",
      "GCs is sending request\n",
      "phrs Camera client received request b'REQ'\n",
      "Capture grabbed\n",
      "A three layered network: retina - GCs - display is sending request\n",
      "GCs Stream input received request b'REQ'\n",
      "GCs is sending request\n",
      "phrs Camera client received request b'REQ'\n",
      "Capture grabbed\n",
      "A three layered network: retina - GCs - display is sending request\n",
      "GCs Stream input received request b'REQ'\n",
      "GCs is sending request\n",
      "phrs Camera client received request b'REQ'\n",
      "Capture grabbed\n",
      "A three layered network: retina - GCs - display is sending request\n",
      "GCs Stream input received request b'REQ'\n",
      "GCs is sending request\n",
      "phrs Camera client received request b'REQ'\n",
      "Capture grabbed\n",
      "A three layered network: retina - GCs - display is sending request\n",
      "GCs Stream input received request b'REQ'\n",
      "GCs is sending request\n",
      "phrs Camera client received request b'REQ'\n",
      "Capture grabbed\n",
      "A three layered network: retina - GCs - display is sending request\n",
      "GCs Stream input received request b'REQ'\n",
      "GCs is sending request\n",
      "phrs Camera client received request b'REQ'\n",
      "Capture grabbed\n",
      "A three layered network: retina - GCs - display is sending request\n",
      "GCs Stream input received request b'REQ'\n",
      "GCs is sending request\n",
      "phrs Camera client received request b'REQ'\n",
      "Capture grabbed\n",
      "A three layered network: retina - GCs - display is sending request\n",
      "GCs Stream input received request b'REQ'\n",
      "GCs is sending request\n",
      "phrs Camera client received request b'REQ'\n",
      "Capture grabbed\n",
      "A three layered network: retina - GCs - display is sending request\n",
      "GCs Stream input received request b'REQ'\n",
      "GCs is sending request\n",
      "phrs Camera client received request b'REQ'\n",
      "Capture grabbed\n",
      "A three layered network: retina - GCs - display is sending request\n",
      "GCs Stream input received request b'REQ'\n",
      "GCs is sending request\n",
      "phrs Camera client received request b'REQ'\n",
      "Capture grabbed\n",
      "A three layered network: retina - GCs - display is sending request\n",
      "GCs Stream input received request b'REQ'\n",
      "GCs is sending request\n",
      "phrs Camera client received request b'REQ'\n",
      "Capture grabbed\n",
      "A three layered network: retina - GCs - display is sending request\n",
      "GCs Stream input received request b'REQ'\n",
      "GCs is sending request\n",
      "phrs Camera client received request b'REQ'\n",
      "Capture grabbed\n",
      "A three layered network: retina - GCs - display is sending request\n",
      "GCs Stream input received request b'REQ'\n",
      "GCs is sending request\n",
      "phrs Camera client received request b'REQ'\n",
      "Capture grabbed\n",
      "A three layered network: retina - GCs - display is sending request\n",
      "GCs Stream input received request b'REQ'\n",
      "GCs is sending request\n",
      "phrs Camera client received request b'REQ'\n",
      "Capture grabbed\n",
      "A three layered network: retina - GCs - display is sending request\n",
      "GCs Stream input received request b'REQ'\n",
      "GCs is sending request\n",
      "phrs Camera client received request b'REQ'\n",
      "Capture grabbed\n",
      "A three layered network: retina - GCs - display is sending request\n",
      "GCs Stream input received request b'REQ'\n",
      "GCs is sending request\n",
      "phrs Camera client received request b'REQ'\n",
      "Capture grabbed\n",
      "A three layered network: retina - GCs - display is sending request\n",
      "GCs Stream input received request b'REQ'\n",
      "GCs is sending request\n",
      "phrs Camera client received request b'REQ'\n",
      "Capture grabbed\n",
      "A three layered network: retina - GCs - display is sending request\n",
      "GCs Stream input received request b'REQ'\n",
      "GCs is sending request\n",
      "phrs Camera client received request b'REQ'\n",
      "Capture grabbed\n",
      "A three layered network: retina - GCs - display is sending request\n",
      "GCs Stream input received request b'REQ'\n",
      "GCs is sending request\n",
      "phrs Camera client received request b'REQ'\n",
      "Capture grabbed\n",
      "A three layered network: retina - GCs - display is sending request\n",
      "GCs Stream input received request b'REQ'\n",
      "GCs is sending request\n",
      "phrs Camera client received request b'REQ'\n",
      "Capture grabbed\n",
      "A three layered network: retina - GCs - display is sending request\n",
      "GCs Stream input received request b'REQ'\n",
      "GCs is sending request\n",
      "phrs Camera client received request b'REQ'\n",
      "Capture grabbed\n",
      "A three layered network: retina - GCs - display is sending request\n",
      "GCs Stream input received request b'REQ'\n",
      "GCs is sending request\n",
      "phrs Camera client received request b'REQ'\n",
      "Capture grabbed\n",
      "A three layered network: retina - GCs - display is sending request\n",
      "GCs Stream input received request b'REQ'\n",
      "GCs is sending request\n",
      "phrs Camera client received request b'REQ'\n",
      "Capture grabbed\n",
      "A three layered network: retina - GCs - display is sending request\n",
      "GCs Stream input received request b'REQ'\n",
      "GCs is sending request\n",
      "phrs Camera client received request b'REQ'\n",
      "Capture grabbed\n",
      "A three layered network: retina - GCs - display is sending request\n",
      "GCs Stream input received request b'REQ'\n",
      "GCs is sending request\n",
      "phrs Camera client received request b'REQ'\n",
      "Capture grabbed\n",
      "A three layered network: retina - GCs - display is sending request\n",
      "GCs Stream input received request b'REQ'\n",
      "GCs is sending request\n",
      "phrs Camera client received request b'REQ'\n",
      "Capture grabbed\n",
      "A three layered network: retina - GCs - display is sending request\n",
      "GCs Stream input received request b'REQ'\n",
      "GCs is sending request\n",
      "phrs Camera client received request b'REQ'\n",
      "Capture grabbed\n",
      "A three layered network: retina - GCs - display is sending request\n",
      "GCs Stream input received request b'REQ'\n",
      "GCs is sending request\n",
      "phrs Camera client received request b'REQ'\n",
      "Capture grabbed\n",
      "A three layered network: retina - GCs - display is sending request\n",
      "GCs Stream input received request b'REQ'\n",
      "GCs is sending request\n",
      "phrs Camera client received request b'REQ'\n",
      "Capture grabbed\n",
      "A three layered network: retina - GCs - display is sending request\n",
      "GCs Stream input received request b'REQ'\n",
      "GCs is sending request\n",
      "phrs Camera client received request b'REQ'\n",
      "Capture grabbed\n",
      "A three layered network: retina - GCs - display is sending request\n",
      "GCs Stream input received request b'REQ'\n",
      "GCs is sending request\n",
      "phrs Camera client received request b'REQ'\n",
      "Capture grabbed\n",
      "GCs Stream input received request b'RIP'\n",
      "Sent 32 images in 9 seconds at 3.41fps\n"
     ]
    }
   ],
   "source": [
    "!ipython3 2017-05-19_using_eventRetina_stacked_display.py"
   ]
  }
 ],
 "metadata": {
  "kernelspec": {
   "display_name": "Python 3",
   "language": "python",
   "name": "python3"
  },
  "language_info": {
   "codemirror_mode": {
    "name": "ipython",
    "version": 3
   },
   "file_extension": ".py",
   "mimetype": "text/x-python",
   "name": "python",
   "nbconvert_exporter": "python",
   "pygments_lexer": "ipython3",
   "version": "3.6.1"
  }
 },
 "nbformat": 4,
 "nbformat_minor": 2
}
