{
 "cells": [
  {
   "cell_type": "code",
   "execution_count": 9,
   "metadata": {
    "collapsed": true
   },
   "outputs": [],
   "source": [
    "%load_ext autoreload\n",
    "%autoreload 2"
   ]
  },
  {
   "cell_type": "markdown",
   "metadata": {},
   "source": [
    "# Grabbing the video chunks and rebuilding a file from them"
   ]
  },
  {
   "cell_type": "code",
   "execution_count": 48,
   "metadata": {},
   "outputs": [
    {
     "name": "stdout",
     "output_type": "stream",
     "text": [
      "Writing 2017-05-19_capture_videos_server.py\n"
     ]
    }
   ],
   "source": [
    "%%writefile 2017-05-19_capture_videos_server.py\n",
    "\"\"\" Computer side \"\"\"\n",
    "\n",
    "import zmq\n",
    "\n",
    "try: \n",
    "    context = zmq.Context()\n",
    "    print('Connecting to Pi...')\n",
    "    dealer = context.socket(zmq.DEALER)\n",
    "    dealer.connect('tcp://10.164.7.213:5555')\n",
    "    print('Connected')\n",
    "    \n",
    "    print('Sending request...')\n",
    "    dealer.send(b'fetch')\n",
    "    \n",
    "    total = 0\n",
    "    chunks = 0\n",
    "    \n",
    "    video = open(\"video_picam\", \"r+b\")\n",
    "    \n",
    "    while True:\n",
    "        chunk = dealer.recv()\n",
    "        chunks += 1\n",
    "        size = len(chunk)\n",
    "        total += size\n",
    "        \n",
    "        print('Chunk %i received, %i bytes' % (chunks, size))\n",
    "        video.write(chunk)\n",
    "    \n",
    "        if size == 0:\n",
    "            break #Whole file received\n",
    "            \n",
    "    print('%i chunks received, %i bytes' % (chunks, total))\n",
    "\n",
    "finally: \n",
    "    video.close()\n",
    "    dealer.close()\n",
    "    context.term()\n",
    "    print('\\nConnection closed')"
   ]
  },
  {
   "cell_type": "code",
   "execution_count": 2,
   "metadata": {
    "scrolled": true
   },
   "outputs": [
    {
     "name": "stdout",
     "output_type": "stream",
     "text": [
      "\u001b]0;IPython: Documents/Intership\u0007Connecting to Pi...\n",
      "Connected\n",
      "Sending request...\n",
      "^C\n"
     ]
    }
   ],
   "source": [
    "!ipython 2017-05-19_capture_videos_server.py"
   ]
  },
  {
   "cell_type": "code",
   "execution_count": 134,
   "metadata": {
    "scrolled": true
   },
   "outputs": [
    {
     "name": "stdout",
     "output_type": "stream",
     "text": [
      "Video length (# of bytes) :  418001\n"
     ]
    }
   ],
   "source": [
    "try:\n",
    "    video = open(\"video_picam\", \"rb\")\n",
    "    video.seek(0)\n",
    "    vid = video.read()\n",
    "    print('Video length (# of bytes) : ', len(vid))\n",
    "    #print(vid)\n",
    "finally:\n",
    "    video.close()"
   ]
  },
  {
   "cell_type": "markdown",
   "metadata": {},
   "source": [
    "# Converting the video file to .avi"
   ]
  },
  {
   "cell_type": "code",
   "execution_count": null,
   "metadata": {
    "collapsed": true
   },
   "outputs": [],
   "source": [
    "import ffmpy\n",
    "\n",
    "ff = ffmpy.FFmpeg(inputs={'video_picam': None}, outputs={'video.avi': None})\n",
    "ff.run()"
   ]
  },
  {
   "cell_type": "markdown",
   "metadata": {},
   "source": [
    "# Displaying the video file"
   ]
  },
  {
   "cell_type": "code",
   "execution_count": 47,
   "metadata": {},
   "outputs": [
    {
     "name": "stdout",
     "output_type": "stream",
     "text": [
      "False\n",
      "dbgk1\n"
     ]
    },
    {
     "ename": "AssertionError",
     "evalue": "",
     "output_type": "error",
     "traceback": [
      "\u001b[0;31m---------------------------------------------------------------------------\u001b[0m",
      "\u001b[0;31mAssertionError\u001b[0m                            Traceback (most recent call last)",
      "\u001b[0;32m<ipython-input-47-d2922f08026a>\u001b[0m in \u001b[0;36m<module>\u001b[0;34m()\u001b[0m\n\u001b[1;32m      8\u001b[0m \u001b[0;32mtry\u001b[0m\u001b[0;34m:\u001b[0m\u001b[0;34m\u001b[0m\u001b[0m\n\u001b[1;32m      9\u001b[0m     \u001b[0mprint\u001b[0m\u001b[0;34m(\u001b[0m\u001b[0;34m'dbgk1'\u001b[0m\u001b[0;34m)\u001b[0m\u001b[0;34m\u001b[0m\u001b[0m\n\u001b[0;32m---> 10\u001b[0;31m     \u001b[0;32massert\u001b[0m \u001b[0mvid\u001b[0m\u001b[0;34m.\u001b[0m\u001b[0misOpened\u001b[0m\u001b[0;34m(\u001b[0m\u001b[0;34m)\u001b[0m \u001b[0;34m==\u001b[0m \u001b[0;32mTrue\u001b[0m\u001b[0;34m\u001b[0m\u001b[0m\n\u001b[0m\u001b[1;32m     11\u001b[0m \u001b[0;34m\u001b[0m\u001b[0m\n\u001b[1;32m     12\u001b[0m     \u001b[0mret\u001b[0m\u001b[0;34m,\u001b[0m \u001b[0mframe\u001b[0m \u001b[0;34m=\u001b[0m \u001b[0mvid\u001b[0m\u001b[0;34m.\u001b[0m\u001b[0mread\u001b[0m\u001b[0;34m(\u001b[0m\u001b[0;34m)\u001b[0m\u001b[0;34m\u001b[0m\u001b[0m\n",
      "\u001b[0;31mAssertionError\u001b[0m: "
     ]
    }
   ],
   "source": [
    "import numpy as np\n",
    "import cv2\n",
    "                  \n",
    "vid = cv2.VideoCapture('video.avi')\n",
    "vid.open('video.avi')\n",
    "print(vid.isOpened())\n",
    "\n",
    "try:\n",
    "    print('dbgk1')\n",
    "    assert vid.isOpened() == True\n",
    "        \n",
    "    ret, frame = vid.read()\n",
    "    \n",
    "    gray = cv2.cvtColor(frame, cv2.COLOR_BGR2GRAY)\n",
    "    \n",
    "    cv2.imshow('video',gray)\n",
    "    if cv.waitKey(1) & 0xFF == ord('q'): stop2\n",
    "\n",
    "finally:\n",
    "    vid.release()"
   ]
  }
 ],
 "metadata": {
  "kernelspec": {
   "display_name": "Python 3",
   "language": "python",
   "name": "python3"
  },
  "language_info": {
   "codemirror_mode": {
    "name": "ipython",
    "version": 3
   },
   "file_extension": ".py",
   "mimetype": "text/x-python",
   "name": "python",
   "nbconvert_exporter": "python",
   "pygments_lexer": "ipython3",
   "version": "3.5.2+"
  }
 },
 "nbformat": 4,
 "nbformat_minor": 2
}
