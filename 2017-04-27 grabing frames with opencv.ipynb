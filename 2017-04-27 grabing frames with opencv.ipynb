{
 "cells": [
  {
   "cell_type": "code",
   "execution_count": 1,
   "metadata": {},
   "outputs": [],
   "source": [
    "%matplotlib inline\n",
    "import matplotlib.pyplot as plt"
   ]
  },
  {
   "cell_type": "code",
   "execution_count": 7,
   "metadata": {},
   "outputs": [],
   "source": [
    "#!/usr/bin/python\n",
    "\n",
    "'''\n",
    "File name : OpenRetina_manipulations.ipynb\n",
    "Authors : Pierre Albiges, Victor Boutin and Laurent Perrinet\n",
    "Date created : 2017-04-25\n",
    "Date last modified : 2017-04-26\n",
    "Object : Apprehend the OpenRetina project through the manipulation of the Photoreceptor class\n",
    "\n",
    "See https://github.com/laurentperrinet/openRetina/blob/master/src/openRetina.py\n",
    "'''\n",
    "\n",
    "from __future__ import division, print_function\n",
    "import array\n",
    "import time\n",
    "import numpy as np\n",
    "np.set_printoptions(precision=2, suppress=True)\n",
    "\n",
    "from multiprocessing.pool import ThreadPool\n",
    "from collections import deque\n",
    "from distutils.version import LooseVersion\n",
    "class PhotoReceptor :\n",
    "    \n",
    "    def __init__(self, w, h, cam_id=0, DOWNSCALE=-1, verbose = True) :\n",
    "        self.sleep_time = 2 #Letting the camera warming up for 2 seconds\n",
    "        self.fps = 90 #MaxLimit\n",
    "        self.led = False\n",
    "        self.h, self.w = h, w\n",
    "        \n",
    "        ''' On Unix systems '''\n",
    "        self.rpi = False\n",
    "\n",
    "\n",
    "        import cv2\n",
    "\n",
    "        self.cap = cv2.VideoCapture(cam_id)\n",
    "        if verbose: print (\"dim before : {0}, dim2 : {1}\".format(self.h,self.w))\n",
    "\n",
    "        if LooseVersion(cv2.__version__).version[0] == 2:\n",
    "\n",
    "            self.cap.set(cv2.cv.CV_CAP_PROP_FRAME_WIDTH, self.w)\n",
    "            self.cap.set(cv2.cv.CV_CAP_PROP_FRAME_HEIGHT, self.h) \n",
    "\n",
    "            self.DOWNSCALE = DOWNSCALE\n",
    "            if DOWNSCALE > 1 :\n",
    "                W = self.cap.get(cv2.cv.CV_CAP_PROP_FRAME_WIDTH)\n",
    "                H = self.cap.set(cv2.cv.CV_CAP_PROP_FRAME_HEIGHT)\n",
    "                self.cap.set(cv2.cv.CV_CAP_PROP_FRAME_WIDTH, W/self.DOWNSCALE)\n",
    "                self.cap.set(cv2.cv.CV_CAP_PROP_FRAME_HEIGHT, H/self.DOWNSCALE)\n",
    "            self.h, self.w = self.cap.get(cv2.cv.CV_CAP_PROP_FRAME_HEIGHT), self.cap.get(cv2.cv.CV_CAP_PROP_FRAME_WIDTH)\n",
    "            if verbose:\n",
    "                print ('Using OpenCV')\n",
    "        \n",
    "        else:     \n",
    "\n",
    "            self.cap.set(cv2.CAP_PROP_FRAME_WIDTH, self.w)\n",
    "            self.cap.set(cv2.CAP_PROP_FRAME_HEIGHT, self.h)\n",
    "\n",
    "            self.DOWNSCALE = DOWNSCALE\n",
    "            if DOWNSCALE > 1:\n",
    "                W = self.cap.get(cv2.CAP_PROP_FRAME_WIDTH)\n",
    "                H = self.cap.get(cv2.CAP_PROP_FRAME_HEIGHT)\n",
    "                self.cap.set(cv2.CAP_PROP_FRAME_WIDTH, W//self.DOWNSCALE)\n",
    "                self.cap.set(cv2.CAP_PROP_FRAME_HEIGHT, H//self.DOWNSCALE)\n",
    "            self.h, self.w = self.cap.get(cv2.CAP_PROP_FRAME_HEIGHT), self.cap.get(cv2.CAP_PROP_FRAME_WIDTH)\n",
    "            if verbose: print('Using OpenCV3')\n",
    "\n",
    "        if verbose: print (\"dim after : {0}, dim2 : {1}\".format(self.h,self.w))\n",
    "\n",
    "\n",
    "    def grab(self) :\n",
    "        if self.rpi : #At this point, the image is available as stream.array\n",
    "            frame = self.stream.array\n",
    "        else :\n",
    "            import cv2\n",
    "            ret, frame_bgr = self.cap.read() #What does ret means? Is it not used?\n",
    "            frame = frame_bgr[:, :, ::-1] #BGR to RBG. Necessary due to different display mode in cv2 and np?\n",
    "            #frame = frame_bgr\n",
    "#            cv2.imshow('frame',frame)\n",
    "#                break\n",
    "        return frame\n",
    "    \n",
    "    def close(self) :\n",
    "        if self.rpi : #is == True ?\n",
    "            self.camera.stop_preview()\n",
    "            self.camera.close()\n",
    "        else :\n",
    "            import cv2\n",
    "            self.cap.release()\n",
    "            del self.cap\n",
    "#            if cv2.waitKey(1) & 0xFF == ord('q') :\n",
    "#                cv2.destroyAllWindows()\n",
    "\n"
   ]
  },
  {
   "cell_type": "code",
   "execution_count": 8,
   "metadata": {},
   "outputs": [
    {
     "name": "stdout",
     "output_type": "stream",
     "text": [
      "dim before : 720, dim2 : 1280\n",
      "Using OpenCV\n",
      "dim after : 720.0, dim2 : 1280.0\n",
      "(720, 1280, 3)\n",
      "Help on built-in function read:\n",
      "\n",
      "read(...)\n",
      "    read([, image]) -> retval, image\n",
      "\n"
     ]
    }
   ],
   "source": [
    "Ph = PhotoReceptor(w=1280, h=720)\n",
    "frame = Ph.grab()\n",
    "print (frame.shape)\n",
    "help(Ph.cap.read)\n",
    "Ph.close()"
   ]
  },
  {
   "cell_type": "code",
   "execution_count": null,
   "metadata": {},
   "outputs": [],
   "source": [
    "help(Ph)"
   ]
  },
  {
   "cell_type": "code",
   "execution_count": null,
   "metadata": {},
   "outputs": [],
   "source": [
    "plt.imshow(frame)"
   ]
  }
 ],
 "metadata": {
  "kernelspec": {
   "display_name": "Python 2",
   "language": "python",
   "name": "python2"
  },
  "language_info": {
   "codemirror_mode": {
    "name": "ipython",
    "version": 2
   },
   "file_extension": ".py",
   "mimetype": "text/x-python",
   "name": "python",
   "nbconvert_exporter": "python",
   "pygments_lexer": "ipython2",
   "version": "2.7.12+"
  }
 },
 "nbformat": 4,
 "nbformat_minor": 2
}
