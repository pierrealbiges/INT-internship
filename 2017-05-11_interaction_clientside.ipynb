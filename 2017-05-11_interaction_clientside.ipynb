{
 "cells": [
  {
   "cell_type": "code",
   "execution_count": 4,
   "metadata": {},
   "outputs": [
    {
     "name": "stdout",
     "output_type": "stream",
     "text": [
      "Overwriting 2017-05-11_interaction_clientside.py\n"
     ]
    }
   ],
   "source": [
    "%%writefile 2017-05-11_interaction_clientside.py\n",
    "''' Pi side\n",
    "\n",
    "\n",
    "'''\n",
    "\n",
    "import time\n",
    "import zmq\n",
    "import picamera\n",
    "import struct\n",
    "import io\n",
    "\n",
    "context = zmq.Context()\n",
    "socket = context.socket(zmq.REP)\n",
    "socket.bind(\"tcp://*:5555\")\n",
    "print('Server connected')\n",
    "\n",
    "camera = picamera.PiCamera()\n",
    "camera.resolution = (640, 480)\n",
    "\n",
    "try:\n",
    "    while True:\n",
    "        message = socket.recv()\n",
    "        print(\"Received request: %s\" % message)\n",
    "\n",
    "        if message == 'END':\n",
    "            break\n",
    "\n",
    "        stream = io.BytesIO()\n",
    "        camera.start_preview()\n",
    "        time.sleep(0.2)\n",
    "        \n",
    "        camera.capture(stream, format='jpeg')\n",
    "        socket.send(stream.getvalue())\n",
    "\n",
    "except:\n",
    "    socket.close()\n",
    "    context.term()\n",
    "    print('Connection closed')"
   ]
  },
  {
   "cell_type": "code",
   "execution_count": 6,
   "metadata": {},
   "outputs": [
    {
     "name": "stdout",
     "output_type": "stream",
     "text": [
      "[master 81f6382]  updating 2017-05-11_interaction_clientside.py\n",
      " 2 files changed, 15 insertions(+), 4 deletions(-)\n",
      "Counting objects: 4, done.\n",
      "Delta compression using up to 8 threads.\n",
      "Compressing objects: 100% (4/4), done.\n",
      "Writing objects: 100% (4/4), 493 bytes | 0 bytes/s, done.\n",
      "Total 4 (delta 3), reused 0 (delta 0)\n",
      "remote: Resolving deltas: 100% (3/3), completed with 3 local objects.\u001b[K\n",
      "To https://github.com/pierrealbiges/INT-internship.git\n",
      "   80a7a9d..81f6382  master -> master\n"
     ]
    }
   ],
   "source": [
    "!git commit -am' updating 2017-05-11_interaction_clientside.py '; git push"
   ]
  },
  {
   "cell_type": "code",
   "execution_count": 7,
   "metadata": {},
   "outputs": [
    {
     "name": "stdout",
     "output_type": "stream",
     "text": [
      "From https://github.com/pierrealbiges/INT-internship\n",
      "   80a7a9d..81f6382  master     -> origin/master\n",
      "Updating 80a7a9d..81f6382\n",
      "Fast-forward\n",
      " 2017-05-11_interaction_clientside.ipynb | 13 +++++++++++--\n",
      " 2017-05-11_interaction_clientside.py    |  6 ++++--\n",
      " 2 files changed, 15 insertions(+), 4 deletions(-)\n"
     ]
    }
   ],
   "source": [
    "!ssh pi@10.164.7.213 \"cd ~/INT-internship ; git pull \""
   ]
  },
  {
   "cell_type": "code",
   "execution_count": 7,
   "metadata": {},
   "outputs": [
    {
     "name": "stdout",
     "output_type": "stream",
     "text": [
      "From https://github.com/pierrealbiges/INT-internship\n",
      "   80a7a9d..81f6382  master     -> origin/master\n",
      "Updating 80a7a9d..81f6382\n",
      "Fast-forward\n",
      " 2017-05-11_interaction_clientside.ipynb | 13 +++++++++++--\n",
      " 2017-05-11_interaction_clientside.py    |  6 ++++--\n",
      " 2 files changed, 15 insertions(+), 4 deletions(-)\n"
     ]
    }
   ],
   "source": [
    "!ssh pi@10.164.7.213 \"cd ~/INT-internship ; ipython3 2017-05-11_interaction_clientside.py \""
   ]
  },
  {
   "cell_type": "code",
   "execution_count": null,
   "metadata": {
    "collapsed": true
   },
   "outputs": [],
   "source": []
  }
 ],
 "metadata": {
  "kernelspec": {
   "display_name": "Python 3",
   "language": "python",
   "name": "python3"
  },
  "language_info": {
   "codemirror_mode": {
    "name": "ipython",
    "version": 3
   },
   "file_extension": ".py",
   "mimetype": "text/x-python",
   "name": "python",
   "nbconvert_exporter": "python",
   "pygments_lexer": "ipython3",
   "version": "3.6.1"
  }
 },
 "nbformat": 4,
 "nbformat_minor": 2
}
