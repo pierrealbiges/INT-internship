{
 "cells": [
  {
   "cell_type": "markdown",
   "metadata": {
    "deletable": true,
    "editable": true
   },
   "source": [
    "# testing locally without network\n",
    "\n",
    "\n",
    "Launching on the same computer \n",
    "- a client grabbing the display and sending it over the network (stays in the localhost),\n",
    "- a server displaying it on the host's display\n"
   ]
  },
  {
   "cell_type": "code",
   "execution_count": 1,
   "metadata": {
    "collapsed": false,
    "deletable": true,
    "editable": true
   },
   "outputs": [],
   "source": [
    "%load_ext autoreload\n",
    "%autoreload 2"
   ]
  },
  {
   "cell_type": "markdown",
   "metadata": {},
   "source": [
    "# transforming an array in a set of indices\n",
    "\n",
    "See http://blog.invibe.net/posts/2016-11-17-finding-extremal-values-in-a-nd-array.html"
   ]
  },
  {
   "cell_type": "code",
   "execution_count": 2,
   "metadata": {
    "collapsed": false
   },
   "outputs": [
    {
     "name": "stdout",
     "output_type": "stream",
     "text": [
      "[[-1.38168387  0.83580852  0.72264732]\n",
      " [-0.25487083 -0.05532731  2.10767588]\n",
      " [ 0.95254147 -1.28125687  1.44764889]\n",
      " [ 1.06668774  0.52170236  0.01030359]]\n"
     ]
    }
   ],
   "source": [
    "import numpy as np\n",
    "x = np.random.randn(4, 3)\n",
    "print (x)"
   ]
  },
  {
   "cell_type": "code",
   "execution_count": 3,
   "metadata": {
    "collapsed": false
   },
   "outputs": [
    {
     "data": {
      "text/plain": [
       "array([ 0,  7,  3,  4, 11, 10,  2,  1,  6,  9,  8,  5])"
      ]
     },
     "execution_count": 3,
     "metadata": {},
     "output_type": "execute_result"
    }
   ],
   "source": [
    "np.argsort(x.ravel())"
   ]
  },
  {
   "cell_type": "code",
   "execution_count": 4,
   "metadata": {
    "collapsed": false
   },
   "outputs": [
    {
     "name": "stdout",
     "output_type": "stream",
     "text": [
      "(array([0, 2, 1, 1, 3, 3, 0, 0, 2, 3, 2, 1]), array([0, 1, 0, 1, 2, 1, 2, 1, 0, 0, 2, 2]))\n"
     ]
    }
   ],
   "source": [
    "print (np.unravel_index(np.argsort(x.ravel()), x.shape))"
   ]
  },
  {
   "cell_type": "markdown",
   "metadata": {},
   "source": [
    "just coding the max and min:"
   ]
  },
  {
   "cell_type": "code",
   "execution_count": 5,
   "metadata": {
    "collapsed": false
   },
   "outputs": [
    {
     "name": "stdout",
     "output_type": "stream",
     "text": [
      "[0 7 8 5]\n"
     ]
    }
   ],
   "source": [
    "n_datapoints=2\n",
    "x_ = np.argsort(x.ravel())\n",
    "data_ = np.hstack((x_[:n_datapoints], x_[-n_datapoints:]))\n",
    "print(data_)"
   ]
  },
  {
   "cell_type": "code",
   "execution_count": 6,
   "metadata": {
    "collapsed": false
   },
   "outputs": [],
   "source": [
    "y = np.zeros_like(x)\n",
    "#print(y)"
   ]
  },
  {
   "cell_type": "code",
   "execution_count": 7,
   "metadata": {
    "collapsed": false
   },
   "outputs": [
    {
     "name": "stdout",
     "output_type": "stream",
     "text": [
      "[[-1.  0.  0.]\n",
      " [ 0.  0.  1.]\n",
      " [ 0. -1.  1.]\n",
      " [ 0.  0.  0.]]\n"
     ]
    }
   ],
   "source": [
    "y[np.unravel_index(data_[:n_datapoints], x.shape)] = -1\n",
    "y[np.unravel_index(data_[-n_datapoints:], x.shape)] = 1\n",
    "print(y)"
   ]
  },
  {
   "cell_type": "code",
   "execution_count": null,
   "metadata": {
    "collapsed": true
   },
   "outputs": [],
   "source": []
  },
  {
   "cell_type": "markdown",
   "metadata": {},
   "source": [
    "## applying the principle to the retina"
   ]
  },
  {
   "cell_type": "code",
   "execution_count": 8,
   "metadata": {
    "collapsed": false,
    "deletable": true,
    "editable": true
   },
   "outputs": [
    {
     "name": "stdout",
     "output_type": "stream",
     "text": [
      "Overwriting 2017-05-19_using_eventRetina_testing_local_camera.py\n"
     ]
    }
   ],
   "source": [
    "%%writefile 2017-05-19_using_eventRetina_testing_local_camera.py\n",
    "#! /usr/bin/env python3\n",
    "# -*- coding: utf8 -*-\n",
    "from __future__ import division, print_function\n",
    "\"\"\"\n",
    "openRetina : a photoreceptor layer\n",
    "See https://github.com/laurentperrinet/openRetina\n",
    "\"\"\"\n",
    "__author__ = \"(c) Pierre Albiges, Victor Boutin & Laurent Perrinet INT - CNRS\"\n",
    "\n",
    "from eventRetina import eventRetina\n",
    "phrs = eventRetina(model=dict(layer='phrs', # label for this layer\n",
    "                             input=['camera'], # input: can be the camera, noise, a movie (TODO)\n",
    "                             output=['stream'] # output: can be stream, display, ...\n",
    "                             ))\n",
    "phrs.run()"
   ]
  },
  {
   "cell_type": "raw",
   "metadata": {
    "deletable": true,
    "editable": true
   },
   "source": [
    "!ipython3 2017-05-15_using_openretina_testing_camera.py &"
   ]
  },
  {
   "cell_type": "code",
   "execution_count": 9,
   "metadata": {
    "collapsed": true,
    "deletable": true,
    "editable": true
   },
   "outputs": [],
   "source": [
    "!chmod +x 2017-05-19_using_eventRetina_testing_local_camera.py "
   ]
  },
  {
   "cell_type": "code",
   "execution_count": 10,
   "metadata": {
    "collapsed": false,
    "deletable": true,
    "editable": true
   },
   "outputs": [
    {
     "name": "stdout",
     "output_type": "stream",
     "text": [
      "Overwriting 2017-05-19_using_eventRetina_testing_local_srv.py\n"
     ]
    }
   ],
   "source": [
    "%%writefile 2017-05-19_using_eventRetina_testing_local_srv.py\n",
    "\"\"\"\n",
    "openRetina : a basic thalamic layer\n",
    "See https://github.com/laurentperrinet/openRetina\n",
    "\"\"\"\n",
    "__author__ = \"(c) Victor Boutin & Laurent Perrinet INT - CNRS\"\n",
    "\n",
    "import subprocess\n",
    "p = subprocess.Popen(['./2017-05-19_using_eventRetina_testing_local_camera.py'])\n",
    "\n",
    "from eventRetina import eventRetina\n",
    "camera = eventRetina(model=dict(layer='spikes directly from luminances', # label for this layer\n",
    "                                 input=['stream'], # input: can be the camera, noise, a movie (TODO)\n",
    "                                 output=['display'], # output: can be stream, display, capture,...\n",
    "                                 T_SIM=5, sparseness=0.01))\n",
    "camera.run()"
   ]
  },
  {
   "cell_type": "code",
   "execution_count": 11,
   "metadata": {
    "collapsed": true,
    "deletable": true,
    "editable": true
   },
   "outputs": [],
   "source": [
    "!chmod +x 2017-05-19_using_eventRetina_testing_local_srv.py"
   ]
  },
  {
   "cell_type": "code",
   "execution_count": 12,
   "metadata": {
    "collapsed": false,
    "deletable": true,
    "editable": true,
    "scrolled": false
   },
   "outputs": [
    {
     "name": "stdout",
     "output_type": "stream",
     "text": [
      "\u001b]0;IPython: research/PA_INT-internship\u0007Number of points sent at each frame= 922\n",
      "spikes directly from luminances Connecting to retina with port 5566\n",
      "2017-05-19 21:22:08.002 Python[57731:37466416] ApplePersistenceIgnoreState: Existing state will not be touched. New state will be written to /var/folders/3p/m0g52j9j69z3gj8ktpgg1dm00000gn/T/org.python.python.savedState\n",
      "/usr/local/lib/python3.6/site-packages/IPython/config.py:13: ShimWarning: The `IPython.config` package has been deprecated since IPython 4.0. You should import from traitlets.config instead.\n",
      "  \"You should import from traitlets.config instead.\", ShimWarning)\n",
      "spikes directly from luminances is sending request\n",
      "Before a downscale of 1 dim1 : 720, dim2 : 1280\n",
      "Using OpenCV\n",
      "After a downscale of 1, dim1 : 720.0, dim2 : 1280.0\n",
      "Running out_socket on port:  5566\n",
      "Number of points sent at each frame= 922\n",
      "Capture grabbed\n",
      "phrs Camera client received request b'REQ'\n",
      "Capture grabbed\n",
      "spikes directly from luminances is sending request\n",
      "phrs Camera client received request b'REQ'\n",
      "Capture grabbed\n",
      "spikes directly from luminances is sending request\n",
      "phrs Camera client received request b'REQ'\n",
      "spikes directly from luminances is sending request\n",
      "Capture grabbed\n",
      "phrs Camera client received request b'REQ'\n",
      "Capture grabbed\n",
      "spikes directly from luminances is sending request\n",
      "phrs Camera client received request b'REQ'\n",
      "Capture grabbed\n",
      "spikes directly from luminances is sending request\n",
      "phrs Camera client received request b'REQ'\n",
      "spikes directly from luminances is sending request\n",
      "Capture grabbed\n",
      "phrs Camera client received request b'REQ'\n",
      "spikes directly from luminances is sending request\n",
      "Capture grabbed\n",
      "phrs Camera client received request b'REQ'\n",
      "spikes directly from luminances is sending request\n",
      "Capture grabbed\n",
      "phrs Camera client received request b'REQ'\n",
      "spikes directly from luminances is sending request\n",
      "Capture grabbed\n",
      "phrs Camera client received request b'REQ'\n",
      "spikes directly from luminances is sending request\n",
      "Capture grabbed\n",
      "phrs Camera client received request b'REQ'\n",
      "spikes directly from luminances is sending request\n",
      "Capture grabbed\n",
      "phrs Camera client received request b'REQ'\n",
      "spikes directly from luminances is sending request\n",
      "Capture grabbed\n",
      "phrs Camera client received request b'REQ'\n",
      "spikes directly from luminances is sending request\n",
      "Capture grabbed\n",
      "phrs Camera client received request b'REQ'\n",
      "spikes directly from luminances is sending request\n",
      "Capture grabbed\n",
      "phrs Camera client received request b'REQ'\n",
      "spikes directly from luminances is sending request\n",
      "Capture grabbed\n",
      "phrs Camera client received request b'REQ'\n",
      "spikes directly from luminances is sending request\n",
      "Capture grabbed\n",
      "phrs Camera client received request b'REQ'\n",
      "spikes directly from luminances is sending request\n",
      "Capture grabbed\n",
      "phrs Camera client received request b'REQ'\n",
      "spikes directly from luminances is sending request\n",
      "Capture grabbed\n",
      "phrs Camera client received request b'REQ'\n",
      "Capture grabbed\n",
      "spikes directly from luminances is sending request\n",
      "phrs Camera client received request b'REQ'\n",
      "spikes directly from luminances is sending request\n",
      "Capture grabbed\n",
      "phrs Camera client received request b'REQ'\n",
      "Capture grabbed\n",
      "spikes directly from luminances is sending request\n",
      "phrs Camera client received request b'REQ'\n",
      "spikes directly from luminances is sending request\n",
      "Capture grabbed\n",
      "phrs Camera client received request b'REQ'\n",
      "spikes directly from luminances is sending request\n",
      "Capture grabbed\n",
      "phrs Camera client received request b'REQ'\n",
      "spikes directly from luminances is sending request\n",
      "Capture grabbed\n",
      "phrs Camera client received request b'REQ'\n",
      "spikes directly from luminances is sending request\n",
      "Capture grabbed\n",
      "phrs Camera client received request b'REQ'\n",
      "Capture grabbed\n",
      "spikes directly from luminances is sending request\n",
      "phrs Camera client received request b'REQ'\n",
      "spikes directly from luminances is sending request\n",
      "Capture grabbed\n",
      "phrs Camera client received request b'REQ'\n",
      "spikes directly from luminances is sending request\n",
      "Capture grabbed\n",
      "phrs Camera client received request b'REQ'\n",
      "spikes directly from luminances is sending request\n",
      "Capture grabbed\n",
      "phrs Camera client received request b'REQ'\n",
      "spikes directly from luminances is sending request\n",
      "Capture grabbed\n",
      "phrs Camera client received request b'REQ'\n",
      "spikes directly from luminances is sending request\n",
      "Capture grabbed\n",
      "phrs Camera client received request b'REQ'\n",
      "spikes directly from luminances is sending request\n",
      "Capture grabbed\n",
      "phrs Camera client received request b'REQ'\n",
      "spikes directly from luminances is sending request\n",
      "Capture grabbed\n",
      "phrs Camera client received request b'REQ'\n",
      "spikes directly from luminances is sending request\n",
      "Capture grabbed\n",
      "phrs Camera client received request b'REQ'\n",
      "spikes directly from luminances is sending request\n",
      "Capture grabbed\n",
      "phrs Camera client received request b'REQ'\n",
      "spikes directly from luminances is sending request\n",
      "Capture grabbed\n",
      "phrs Camera client received request b'REQ'\n",
      "spikes directly from luminances is sending request\n",
      "Capture grabbed\n",
      "phrs Camera client received request b'REQ'\n",
      "spikes directly from luminances is sending request\n",
      "Capture grabbed\n",
      "phrs Camera client received request b'REQ'\n",
      "spikes directly from luminances is sending request\n",
      "Capture grabbed\n",
      "phrs Camera client received request b'REQ'\n",
      "spikes directly from luminances is sending request\n",
      "Capture grabbed\n",
      "phrs Camera client received request b'REQ'\n",
      "spikes directly from luminances is sending request\n",
      "Capture grabbed\n",
      "phrs Camera client received request b'REQ'\n",
      "Capture grabbed\n",
      "phrs Camera client received request b'RIP'\n",
      "Sent 42 images in 7 seconds at 5.47fps\n"
     ]
    }
   ],
   "source": [
    "!ipython3 2017-05-19_using_eventRetina_testing_local_srv.py"
   ]
  }
 ],
 "metadata": {
  "kernelspec": {
   "display_name": "Python 3",
   "language": "python",
   "name": "python3"
  },
  "language_info": {
   "codemirror_mode": {
    "name": "ipython",
    "version": 3
   },
   "file_extension": ".py",
   "mimetype": "text/x-python",
   "name": "python",
   "nbconvert_exporter": "python",
   "pygments_lexer": "ipython3",
   "version": "3.6.1"
  }
 },
 "nbformat": 4,
 "nbformat_minor": 2
}
