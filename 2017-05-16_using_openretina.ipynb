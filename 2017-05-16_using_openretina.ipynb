{
 "cells": [
  {
   "cell_type": "code",
   "execution_count": 1,
   "metadata": {
    "collapsed": true
   },
   "outputs": [],
   "source": [
    "%load_ext autoreload\n",
    "%autoreload 2"
   ]
  },
  {
   "cell_type": "code",
   "execution_count": 2,
   "metadata": {},
   "outputs": [
    {
     "name": "stdout",
     "output_type": "stream",
     "text": [
      "Overwriting 2017-05-16_using_openretina.py\n"
     ]
    }
   ],
   "source": [
    "%%writefile 2017-05-16_using_openretina.py\n",
    "#! /usr/bin/env python3\n",
    "# -*- coding: utf8 -*-\n",
    "from __future__ import division, print_function\n",
    "\"\"\"\n",
    "openRetina : a photoreceptor layer\n",
    "See https://github.com/laurentperrinet/openRetina\n",
    "\"\"\"\n",
    "__author__ = \"(c) Pierre Albiges, Victor Boutin & Laurent Perrinet INT - CNRS\"\n",
    "\n",
    "from openRetina import openRetina\n",
    "phrs = openRetina(model=dict(layer='phrs', # label for this layer\n",
    "                             input=['camera'], # input: can be the camera, noise, a movie (TODO)\n",
    "                             output=['stream'] # output: can be stream, display, ...\n",
    "                             ))\n",
    "phrs.run()"
   ]
  },
  {
   "cell_type": "raw",
   "metadata": {},
   "source": [
    "!git add 2017-05-16_using_op*\n",
    "!git status\n",
    "!git add 2017-05-16_using_openretina.py"
   ]
  },
  {
   "cell_type": "code",
   "execution_count": 3,
   "metadata": {
    "collapsed": true
   },
   "outputs": [],
   "source": [
    "!git diff 2017-05-16_using_openretina.py"
   ]
  },
  {
   "cell_type": "code",
   "execution_count": 4,
   "metadata": {},
   "outputs": [
    {
     "name": "stdout",
     "output_type": "stream",
     "text": [
      " \u001b[32mM\u001b[m 2017-05-16_using_openretina.ipynb\n",
      " \u001b[32mM\u001b[m 2017-05-16_using_openretina_server.ipynb\n",
      " \u001b[32mM\u001b[m 2017-05-16_using_openretina_srv.py\n",
      " \u001b[32mM\u001b[m 2017-05-19_using_eventRetina_stacked.ipynb\n",
      " \u001b[32mM\u001b[m 2017-05-19_using_eventRetina_stacked_GCs.py\n",
      " \u001b[32mM\u001b[m 2017-05-19_using_eventRetina_stacked_camera.py\n",
      " \u001b[32mM\u001b[m 2017-05-19_using_eventRetina_stacked_display.py\n",
      " \u001b[32mM\u001b[m 2017-05-20_using_eventRetina_stacked.ipynb\n",
      " \u001b[32mM\u001b[m 2017-06-02_interaction_serverside.ipynb\n",
      "\u001b[36m??\u001b[m 2017-05-19_using_eventRetina_stacked-Copy1.ipynb\n",
      "\u001b[36m??\u001b[m openRetina_capture.png\n",
      "Already up-to-date.\n"
     ]
    }
   ],
   "source": [
    "!git s\n",
    "!git pull\n"
   ]
  },
  {
   "cell_type": "code",
   "execution_count": 5,
   "metadata": {},
   "outputs": [
    {
     "name": "stdout",
     "output_type": "stream",
     "text": [
      "[master 02fe9d8]  updating *_using_openretina.py\n",
      " 9 files changed, 513 insertions(+), 2781 deletions(-)\n",
      " rewrite 2017-05-19_using_eventRetina_stacked.ipynb (95%)\n",
      "Counting objects: 11, done.\n",
      "Delta compression using up to 8 threads.\n",
      "Compressing objects: 100% (11/11), done.\n",
      "Writing objects: 100% (11/11), 9.03 KiB | 0 bytes/s, done.\n",
      "Total 11 (delta 9), reused 0 (delta 0)\n",
      "remote: Resolving deltas: 100% (9/9), completed with 6 local objects.\u001b[K\n",
      "To https://github.com/pierrealbiges/INT-internship.git\n",
      "   eaf459c..02fe9d8  master -> master\n"
     ]
    }
   ],
   "source": [
    "\n",
    "!git commit -am' updating *_using_openretina.py '; git push"
   ]
  },
  {
   "cell_type": "code",
   "execution_count": 6,
   "metadata": {},
   "outputs": [
    {
     "name": "stdout",
     "output_type": "stream",
     "text": [
      "Already up-to-date.\n",
      "From https://github.com/pierrealbiges/INT-internship\n",
      "   eaf459c..02fe9d8  master     -> origin/master\n",
      "Updating eaf459c..02fe9d8\n",
      "Fast-forward\n",
      " 2017-05-16_using_openretina.ipynb               |   63 +-\n",
      " 2017-05-16_using_openretina_server.ipynb        |  186 +-\n",
      " 2017-05-16_using_openretina_srv.py              |    4 +-\n",
      " 2017-05-19_using_eventRetina_stacked.ipynb      | 2517 +----------------------\n",
      " 2017-05-19_using_eventRetina_stacked_GCs.py     |    3 +-\n",
      " 2017-05-19_using_eventRetina_stacked_camera.py  |    7 +-\n",
      " 2017-05-19_using_eventRetina_stacked_display.py |    4 +-\n",
      " 2017-05-20_using_eventRetina_stacked.ipynb      |   60 +-\n",
      " 2017-06-02_interaction_serverside.ipynb         |   30 +-\n",
      " 9 files changed, 303 insertions(+), 2571 deletions(-)\n"
     ]
    }
   ],
   "source": [
    "!ssh pi@10.164.7.213 \"cd ~/openRetina ; git pull; cd ~/INT-internship ; git pull \""
   ]
  },
  {
   "cell_type": "code",
   "execution_count": 7,
   "metadata": {},
   "outputs": [
    {
     "name": "stdout",
     "output_type": "stream",
     "text": [
      "💀  Could not load visualisation\r\n",
      "phrs Running out_socket on port:  5566\r\n",
      "phrs Camera client received request b'SIZ'\r\n",
      "Traceback (most recent call last):\r\n",
      "  File \"2017-05-16_using_openretina.py\", line 15, in <module>\r\n",
      "    phrs.run()\r\n",
      "  File \"/home/pi/openRetina/src/openRetina.py\", line 230, in run\r\n",
      "    data = self.code(self.frame)\r\n",
      "  File \"/home/pi/openRetina/src/openRetina.py\", line 319, in code\r\n",
      "    return image.astype(np.uint8)\r\n",
      "AttributeError: 'NoneType' object has no attribute 'astype'\r\n"
     ]
    }
   ],
   "source": [
    "!ssh pi@10.164.7.213 \"cd ~/INT-internship ; python3 2017-05-16_using_openretina.py \""
   ]
  },
  {
   "cell_type": "code",
   "execution_count": 8,
   "metadata": {},
   "outputs": [
    {
     "name": "stdout",
     "output_type": "stream",
     "text": [
      "python3: no process found\r\n"
     ]
    }
   ],
   "source": [
    "!ssh pi@10.164.7.213 \"killall python3\""
   ]
  },
  {
   "cell_type": "code",
   "execution_count": null,
   "metadata": {
    "collapsed": true
   },
   "outputs": [],
   "source": []
  }
 ],
 "metadata": {
  "kernelspec": {
   "display_name": "Python 3",
   "language": "python",
   "name": "python3"
  },
  "language_info": {
   "codemirror_mode": {
    "name": "ipython",
    "version": 3
   },
   "file_extension": ".py",
   "mimetype": "text/x-python",
   "name": "python",
   "nbconvert_exporter": "python",
   "pygments_lexer": "ipython3",
   "version": "3.6.1"
  }
 },
 "nbformat": 4,
 "nbformat_minor": 2
}
