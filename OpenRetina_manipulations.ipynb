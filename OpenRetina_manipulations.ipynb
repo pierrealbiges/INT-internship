{
 "cells": [
  {
   "cell_type": "code",
   "execution_count": 1,
   "metadata": {
    "collapsed": false
   },
   "outputs": [],
   "source": [
    "'''\n",
    "File name : OpenRetina_manipulations.ipynb\n",
    "Authors : Pierre Albiges, Victor Boutin and Laurent Perrinet\n",
    "Date created : 2017-04-25\n",
    "Date last modified : 2017-04-25\n",
    "Object : Apprehend the OpenRetina project through the manipulation of the Photoreceptor class\n",
    "\n",
    "See https://github.com/laurentperrinet/openRetina/blob/master/src/openRetina.py\n",
    "'''\n",
    "\n",
    "class PhotoReceptor :\n",
    "    def __init__(self, w, h, cam_id = 0, DOWNSCALE = 0, verbose = True ) :\n",
    "        self.sleep_time = 2 #Letting the camera warming up for 2 seconds\n",
    "        print 'h = ', h, 'w = ', w"
   ]
  },
  {
   "cell_type": "code",
   "execution_count": null,
   "metadata": {
    "collapsed": true
   },
   "outputs": [],
   "source": []
  },
  {
   "cell_type": "code",
   "execution_count": null,
   "metadata": {
    "collapsed": true
   },
   "outputs": [],
   "source": []
  }
 ],
 "metadata": {
  "kernelspec": {
   "display_name": "Python 2",
   "language": "python",
   "name": "python2"
  },
  "language_info": {
   "codemirror_mode": {
    "name": "ipython",
    "version": 2
   },
   "file_extension": ".py",
   "mimetype": "text/x-python",
   "name": "python",
   "nbconvert_exporter": "python",
   "pygments_lexer": "ipython2",
   "version": "2.7.13"
  }
 },
 "nbformat": 4,
 "nbformat_minor": 2
}
