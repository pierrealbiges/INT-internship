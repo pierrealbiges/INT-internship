{
 "cells": [
  {
   "cell_type": "code",
   "execution_count": 1,
   "metadata": {},
   "outputs": [],
   "source": [
    "%load_ext autoreload\n",
    "%autoreload 2"
   ]
  },
  {
   "cell_type": "code",
   "execution_count": 2,
   "metadata": {},
   "outputs": [
    {
     "name": "stdout",
     "output_type": "stream",
     "text": [
      "Overwriting 2017-05-16_using_openretina.py\n"
     ]
    }
   ],
   "source": [
    "%%writefile 2017-05-16_using_openretina.py\n",
    "#! /usr/bin/env python3\n",
    "# -*- coding: utf8 -*-\n",
    "from __future__ import division, print_function\n",
    "\"\"\"\n",
    "openRetina : a photoreceptor layer\n",
    "See https://github.com/laurentperrinet/openRetina\n",
    "\"\"\"\n",
    "__author__ = \"(c) Pierre Albiges, Victor Boutin & Laurent Perrinet INT - CNRS\"\n",
    "\n",
    "from openRetina import openRetina\n",
    "phrs = openRetina(model=dict(layer='phrs', # label for this layer\n",
    "                             input=['camera'], # input: can be the camera, noise, a movie (TODO)\n",
    "                             output=['stream'] # output: can be stream, display, ...\n",
    "                             ))\n",
    "phrs.run()"
   ]
  },
  {
   "cell_type": "raw",
   "metadata": {},
   "source": [
    "!git add 2017-05-16_using_op*\n",
    "!git status\n",
    "!git add 2017-05-16_using_openretina.py"
   ]
  },
  {
   "cell_type": "code",
   "execution_count": 3,
   "metadata": {
    "collapsed": true
   },
   "outputs": [],
   "source": [
    "!git diff 2017-05-16_using_openretina.py"
   ]
  },
  {
   "cell_type": "code",
   "execution_count": null,
   "metadata": {},
   "outputs": [
    {
     "name": "stdout",
     "output_type": "stream",
     "text": [
      " \u001b[32mM\u001b[m 2017-05-16_using_openretina.ipynb\n",
      " \u001b[32mM\u001b[m 2017-05-16_using_openretina_server.ipynb\n",
      "\u001b[36m??\u001b[m 2017-05-19_using_eventRetina_stacked-Copy1.ipynb\n",
      "\u001b[36m??\u001b[m openRetina_capture.png\n",
      "remote: Counting objects: 5, done.\u001b[K\n",
      "remote: Compressing objects: 100% (2/2), done.\u001b[K\n",
      "remote: Total 5 (delta 3), reused 5 (delta 3), pack-reused 0\u001b[K\n",
      "Unpacking objects: 100% (5/5), done.\n",
      "From https://github.com/pierrealbiges/INT-internship\n",
      "   2cf0ae4..cfbebbb  master     -> origin/master\n",
      "\u001b[?1000h\u001b[?2004h\u001b7\u001b[?47h\u001b[?1h\u001b=\u001b[?2004h\u001b[1;24r\u001b[m\u001b[3244m\u001b[H\u001b[2J\u001b[24;1H\"~/research/PA_INT-internship/.git/MERGE_MSG\" 10L, 388C\u001b[>c\u001b[2;1H▽\u001b[6n\u001b[2;1H  \u001b[1;1H\u001b[1;1H\u001b[1m\u001b[33m1   \u001b[m\u001b[3244m\u001b[364m\u001b[4235mMerge branch 'master' of https://github.com/pierre\u001b[m\u001b[3244m\u001b[4235malbiges/INT-internship¬   \u001b[m\u001b[3244m\u001b[2;1H\u001b[3239m\u001b[4235m  1 \u001b[m\u001b[3244m\u001b[3240m¬\u001b[m\u001b[3244m\n",
      "\u001b[3239m\u001b[4235m  2 \u001b[m\u001b[3244m* 'master' of https://github.com/pierrealbiges/INT-internship:\u001b[3240m¬\u001b[m\u001b[3244m\n",
      "\u001b[3239m\u001b[4235m  3 \u001b[m\u001b[3244m  Working on the poster\u001b[3240m¬\u001b[m\u001b[3244m\n",
      "\u001b[3239m\u001b[4235m  4 \u001b[m\u001b[3244m\u001b[3240m¬\u001b[m\u001b[3244m\n",
      "\u001b[3239m\u001b[4235m  5 \u001b[m\u001b[3244m\u001b[3239m# Please enter a commit message to explain why this merge is necessary,\u001b[m\u001b[3244m\u001b[3240m¬\u001b[m\u001b[3244m\n",
      "\u001b[3239m\u001b[4235m  6 \u001b[m\u001b[3244m\u001b[3239m# especially if it merges an updated upstream into a topic branch.\u001b[m\u001b[3244m\u001b[3240m¬\u001b[m\u001b[3244m\n",
      "\u001b[3239m\u001b[4235m  7 \u001b[m\u001b[3244m\u001b[3239m#\u001b[m\u001b[3244m\u001b[3240m¬\u001b[m\u001b[3244m\n",
      "\u001b[3239m\u001b[4235m  8 \u001b[m\u001b[3244m\u001b[3239m# Lines starting with '#' will be ignored, and an empty message aborts\u001b[m\u001b[3244m\u001b[3240m¬\u001b[m\u001b[3244m\n",
      "\u001b[3239m\u001b[4235m  9 \u001b[m\u001b[3244m\u001b[3239m# the commit.\u001b[m\u001b[3244m\u001b[3240m¬\n",
      "~                                                                               \u001b[12;1H~                                                                               \u001b[13;1H~                                                                               \u001b[14;1H~                                                                               \u001b[15;1H~                                                                               \u001b[16;1H~                                                                               \u001b[17;1H~                                                                               \u001b[18;1H~                                                                               \u001b[19;1H~                                                                               \u001b[20;1H~                                                                               \u001b[21;1H~                                                                               \u001b[22;1H~                                                                               \u001b[m\u001b[3244m\u001b[23;1H\u001b[1m\u001b[7m\u001b[3245m\u001b[4235mMERGE_MSG                                                     1,1            All\u001b[1;5H"
     ]
    }
   ],
   "source": [
    "!git s\n",
    "!git pull\n"
   ]
  },
  {
   "cell_type": "code",
   "execution_count": 4,
   "metadata": {},
   "outputs": [
    {
     "name": "stdout",
     "output_type": "stream",
     "text": [
      "[master 32ee65e]  updating *_using_openretina.py\n",
      " 2 files changed, 178 insertions(+), 304 deletions(-)\n",
      " rewrite 2017-06-02_interaction_serverside.ipynb (82%)\n",
      "To https://github.com/pierrealbiges/INT-internship.git\n",
      " ! [rejected]        master -> master (fetch first)\n",
      "error: failed to push some refs to 'https://github.com/pierrealbiges/INT-internship.git'\n",
      "hint: Updates were rejected because the remote contains work that you do\n",
      "hint: not have locally. This is usually caused by another repository pushing\n",
      "hint: to the same ref. You may want to first integrate the remote changes\n",
      "hint: (e.g., 'git pull ...') before pushing again.\n",
      "hint: See the 'Note about fast-forwards' in 'git push --help' for details.\n"
     ]
    }
   ],
   "source": [
    "!git commit -am' updating *_using_openretina.py '; git push"
   ]
  },
  {
   "cell_type": "code",
   "execution_count": 5,
   "metadata": {},
   "outputs": [
    {
     "name": "stdout",
     "output_type": "stream",
     "text": [
      "From https://github.com/laurentperrinet/openRetina\n",
      "   c23b196..53e9e64  master     -> origin/master\n",
      "Updating c23b196..53e9e64\n",
      "Fast-forward\n",
      " src/eventRetina.py |  1 +\n",
      " src/openRetina.py  | 40 +++++++++++++++++++++++++++-------------\n",
      " 2 files changed, 28 insertions(+), 13 deletions(-)\n",
      "From https://github.com/pierrealbiges/INT-internship\n",
      "   35e1127..cfbebbb  master     -> origin/master\n",
      "Updating 35e1127..cfbebbb\n",
      "Fast-forward\n",
      " .gitignore                                         |    6 +\n",
      " ...5-05_grabing_frames_with_opencv_on_ubuntu.ipynb |  331 ---\n",
      " 2017-05-11_interaction_clientside.ipynb            |    4 +-\n",
      " 2017-05-11_interaction_serverside.ipynb            |  191 --\n",
      " 2017-05-16_using_openretina.ipynb                  |  117 +-\n",
      " 2017-05-16_using_openretina_server.ipynb           |   53 +-\n",
      " 2017-05-19_using_eventRetina_stacked.ipynb         | 2663 +++++++++++++++-----\n",
      " 2017-05-19_using_eventRetina_stacked_GCs.py        |    2 +-\n",
      " 2017-05-19_using_eventRetina_stacked_camera.py     |    5 +-\n",
      " 2017-05-19_using_eventRetina_stacked_display.py    |    5 +-\n",
      " 2017-05-19_using_eventRetina_testing_local.ipynb   |   90 +-\n",
      " 2017-05-20_using_eventRetina_stacked.ipynb         | 1407 +----------\n",
      " ...6-02_grabing_frames_with_opencv_on_ubuntu.ipynb | 1330 ++++++++++\n",
      " 2017-06-02_interaction_serverside.ipynb            |  280 ++\n",
      " AlbigesPerrinet2017-blx.bib                        |   11 -\n",
      " AlbigesPerrinet2017.aux                            |   33 -\n",
      " AlbigesPerrinet2017.dvi                            |  Bin 21716 -> 0 bytes\n",
      " AlbigesPerrinet2017.log                            | 2478 ------------------\n",
      " AlbigesPerrinet2017.pdf                            |  Bin 941547 -> 2810251 bytes\n",
      " AlbigesPerrinet2017.run.xml                        |   96 -\n",
      " AlbigesPerrinet2017.synctex.gz                     |  Bin 18490 -> 0 bytes\n",
      " AlbigesPerrinet2017.tex                            |  389 ++-\n",
      " PACA1-coul_RVB__03__01.jpg                         |  Bin 716457 -> 0 bytes\n",
      " Python_git.pdf                                     |  Bin 0 -> 13801 bytes\n",
      " W6_Progress_and_notes.ipynb                        |   54 +-\n",
      " W7_Progress_and_notes.ipynb                        |   86 +\n",
      " amidex_logo_2.png                                  |  Bin 23011 -> 0 bytes\n",
      " benchmark_fig.png                                  |  Bin 0 -> 536851 bytes\n",
      " biomimetism.pdf                                    |  Bin 0 -> 30960 bytes\n",
      " eventRetina_capture.png                            |  Bin 0 -> 2995 bytes\n",
      " layered.pdf                                        |  Bin 0 -> 18713 bytes\n",
      " logoINT.jpg                                        |  Bin 0 -> 42664 bytes\n",
      " logo_amu_rvb.jpg                                   |  Bin 0 -> 454618 bytes\n",
      " logosamidexinveavenir.jpg                          |  Bin 142208 -> 0 bytes\n",
      " AlbigesPerrinet2017.out => pic_picam.png           |    0\n",
      " proc_fig.png                                       |  Bin 0 -> 226277 bytes\n",
      " raspberrypi.jpg                                    |  Bin 0 -> 417901 bytes\n",
      " region-paca_small.jpg                              |  Bin 23218 -> 0 bytes\n",
      " unproc_fig.png                                     |  Bin 0 -> 787259 bytes\n",
      " 39 files changed, 4073 insertions(+), 5558 deletions(-)\n",
      " delete mode 100644 2017-05-05_grabing_frames_with_opencv_on_ubuntu.ipynb\n",
      " delete mode 100644 2017-05-11_interaction_serverside.ipynb\n",
      " create mode 100644 2017-06-02_grabing_frames_with_opencv_on_ubuntu.ipynb\n",
      " create mode 100644 2017-06-02_interaction_serverside.ipynb\n",
      " delete mode 100644 AlbigesPerrinet2017-blx.bib\n",
      " delete mode 100644 AlbigesPerrinet2017.aux\n",
      " delete mode 100644 AlbigesPerrinet2017.dvi\n",
      " delete mode 100644 AlbigesPerrinet2017.log\n",
      " delete mode 100644 AlbigesPerrinet2017.run.xml\n",
      " delete mode 100644 AlbigesPerrinet2017.synctex.gz\n",
      " delete mode 100644 PACA1-coul_RVB__03__01.jpg\n",
      " create mode 100644 Python_git.pdf\n",
      " create mode 100644 W7_Progress_and_notes.ipynb\n",
      " delete mode 100644 amidex_logo_2.png\n",
      " create mode 100644 benchmark_fig.png\n",
      " create mode 100644 biomimetism.pdf\n",
      " create mode 100644 eventRetina_capture.png\n",
      " create mode 100644 layered.pdf\n",
      " create mode 100644 logoINT.jpg\n",
      " create mode 100644 logo_amu_rvb.jpg\n",
      " delete mode 100644 logosamidexinveavenir.jpg\n",
      " rename AlbigesPerrinet2017.out => pic_picam.png (100%)\n",
      " create mode 100644 proc_fig.png\n",
      " create mode 100644 raspberrypi.jpg\n",
      " delete mode 100644 region-paca_small.jpg\n",
      " create mode 100644 unproc_fig.png\n"
     ]
    }
   ],
   "source": [
    "!ssh pi@10.164.7.213 \"cd ~/openRetina ; git pull; cd ~/INT-internship ; git pull \""
   ]
  },
  {
   "cell_type": "code",
   "execution_count": 6,
   "metadata": {},
   "outputs": [
    {
     "name": "stdout",
     "output_type": "stream",
     "text": [
      "💀  Could not load visualisation\r\n",
      "phrs Running out_socket on port:  5566\r\n",
      "phrs Camera client received request b'SIZ'\r\n",
      "Traceback (most recent call last):\r\n",
      "  File \"2017-05-16_using_openretina.py\", line 15, in <module>\r\n",
      "    phrs.run()\r\n",
      "  File \"/home/pi/openRetina/src/openRetina.py\", line 230, in run\r\n",
      "    data = self.code(self.frame)\r\n",
      "  File \"/home/pi/openRetina/src/openRetina.py\", line 319, in code\r\n",
      "    return image.astype(np.uint8)\r\n",
      "AttributeError: 'NoneType' object has no attribute 'astype'\r\n"
     ]
    }
   ],
   "source": [
    "!ssh pi@10.164.7.213 \"cd ~/INT-internship ; python3 2017-05-16_using_openretina.py \""
   ]
  },
  {
   "cell_type": "code",
   "execution_count": 7,
   "metadata": {},
   "outputs": [
    {
     "name": "stdout",
     "output_type": "stream",
     "text": [
      "python3: no process found\r\n"
     ]
    }
   ],
   "source": [
    "!ssh pi@10.164.7.213 \"killall python3\""
   ]
  },
  {
   "cell_type": "code",
   "execution_count": null,
   "metadata": {
    "collapsed": true
   },
   "outputs": [],
   "source": []
  }
 ],
 "metadata": {
  "kernelspec": {
   "display_name": "Python 3",
   "language": "python",
   "name": "python3"
  },
  "language_info": {
   "codemirror_mode": {
    "name": "ipython",
    "version": 3
   },
   "file_extension": ".py",
   "mimetype": "text/x-python",
   "name": "python",
   "nbconvert_exporter": "python",
   "pygments_lexer": "ipython3",
   "version": "3.6.1"
  }
 },
 "nbformat": 4,
 "nbformat_minor": 2
}
