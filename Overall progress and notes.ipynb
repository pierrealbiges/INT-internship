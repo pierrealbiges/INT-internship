{
 "cells": [
  {
   "cell_type": "markdown",
   "metadata": {},
   "source": [
    "# 2017-04-24"
   ]
  },
  {
   "cell_type": "markdown",
   "metadata": {},
   "source": [
    "Sign up to Github : Done\n",
    "\n",
    "Github tutorial (Create depositories, branchs and pull requests) : https://guides.github.com/activities/hello-world/  \n",
    "More informations about pull requests : https://guides.github.com/introduction/flow/  \n",
    "Remember to use the ISO 8601 time standard, more informations : https://en.wikipedia.org/wiki/ISO_8601  \n",
    "\n",
    "Creating a depository : Done\n",
    "\n",
    "More informations about creating a Github depository and using ipython notebooks : https://blog.invibe.net/posts/2014-06-18-stage-m1-chloe-pasturel-week-1.html\n",
    "\n",
    "Defining L. Perrinet as a collaborator : Done  \n",
    "Creating a Jupyter notebook : Done  \n",
    "Importing that notebook to Github : Done  \n",
    "Creating a progress notebook : Done, need to be regularly uptated\n",
    "\n",
    "More informations about pushing on Github : https://www.grafikart.fr/formations/git/remote-push-pull"
   ]
  }
 ],
 "metadata": {
  "kernelspec": {
   "display_name": "Python 2",
   "language": "python",
   "name": "python2"
  },
  "language_info": {
   "codemirror_mode": {
    "name": "ipython",
    "version": 2
   },
   "file_extension": ".py",
   "mimetype": "text/x-python",
   "name": "python",
   "nbconvert_exporter": "python",
   "pygments_lexer": "ipython2",
   "version": "2.7.13"
  }
 },
 "nbformat": 4,
 "nbformat_minor": 2
}
