{
 "cells": [
  {
   "cell_type": "code",
   "execution_count": 8,
   "metadata": {},
   "outputs": [
    {
     "name": "stdout",
     "output_type": "stream",
     "text": [
      "<type '_io.BytesIO'>\n",
      "Connection closed\n"
     ]
    },
    {
     "ename": "AttributeError",
     "evalue": "'Image' object has no attribute 'merge'",
     "output_type": "error",
     "traceback": [
      "\u001b[0;31m---------------------------------------------------------------------------\u001b[0m",
      "\u001b[0;31mAttributeError\u001b[0m                            Traceback (most recent call last)",
      "\u001b[0;32m<ipython-input-8-6d636bac3ba5>\u001b[0m in \u001b[0;36m<module>\u001b[0;34m()\u001b[0m\n\u001b[1;32m     25\u001b[0m         \u001b[0mimage\u001b[0m \u001b[0;34m=\u001b[0m \u001b[0mImage\u001b[0m\u001b[0;34m.\u001b[0m\u001b[0mopen\u001b[0m\u001b[0;34m(\u001b[0m\u001b[0mimage_stream\u001b[0m\u001b[0;34m)\u001b[0m\u001b[0;34m\u001b[0m\u001b[0m\n\u001b[1;32m     26\u001b[0m         \u001b[0mimage\u001b[0m \u001b[0;34m=\u001b[0m \u001b[0mimage\u001b[0m\u001b[0;34m.\u001b[0m\u001b[0mrotate\u001b[0m\u001b[0;34m(\u001b[0m\u001b[0;36m270\u001b[0m\u001b[0;34m)\u001b[0m\u001b[0;34m\u001b[0m\u001b[0m\n\u001b[0;32m---> 27\u001b[0;31m         \u001b[0mimage\u001b[0m \u001b[0;34m=\u001b[0m \u001b[0mimage\u001b[0m\u001b[0;34m.\u001b[0m\u001b[0mmerge\u001b[0m\u001b[0;34m(\u001b[0m\u001b[0;34m)\u001b[0m\u001b[0;34m\u001b[0m\u001b[0m\n\u001b[0m\u001b[1;32m     28\u001b[0m         \u001b[0mimage\u001b[0m\u001b[0;34m.\u001b[0m\u001b[0mshow\u001b[0m\u001b[0;34m(\u001b[0m\u001b[0;34m)\u001b[0m\u001b[0;34m\u001b[0m\u001b[0m\n\u001b[1;32m     29\u001b[0m         \u001b[0;32mprint\u001b[0m\u001b[0;34m(\u001b[0m\u001b[0;34m'Image is %d%d pixels'\u001b[0m \u001b[0;34m%\u001b[0m \u001b[0mimage\u001b[0m\u001b[0;34m.\u001b[0m\u001b[0msize\u001b[0m\u001b[0;34m)\u001b[0m\u001b[0;34m\u001b[0m\u001b[0m\n",
      "\u001b[0;31mAttributeError\u001b[0m: 'Image' object has no attribute 'merge'"
     ]
    }
   ],
   "source": [
    "import io #Allows to work with streams on python\n",
    "import socket\n",
    "import struct #Allows the convertion between binary data (here from connection network) and python strings \n",
    "from PIL import Image\n",
    "\n",
    "server_socket = socket.socket()      #Create a new socket\n",
    "server_socket.bind(('0.0.0.0', 8000)) #Bind the socket to the adress\n",
    "server_socket.listen(0)              #Listen the connection made to the socket\n",
    "\n",
    "connection = server_socket.accept()[0].makefile('rb') #Accept the connection. The socket must be binded and listened\n",
    "\n",
    "try: \n",
    "    access = True\n",
    "    while access == True :\n",
    "        image_len = struct.unpack('<L', connection.read(struct.calcsize('<L')))[0] #Unpack the string ; .unpack(format, string)\n",
    "        if not image_len: #If the string is empty (length = 0) or is missing, break the connection\n",
    "            print('Image length missing or zero')\n",
    "            access = False\n",
    "\n",
    "        image_stream = io.BytesIO()\n",
    "        image_stream.write(connection.read(image_len))\n",
    "        image_stream.seek(0)\n",
    "\n",
    "        print(type(image_stream))\n",
    "        image = Image.open(image_stream)\n",
    "        image = image.rotate(270)\n",
    "        image.show()\n",
    "        print('Image is %d%d pixels' % image.size)\n",
    "        image.verify()\n",
    "        print('Image is verified \\n')\n",
    "\n",
    "finally:\n",
    "    connection.close()    #Close the connection\n",
    "    server_socket.close() # Close the socket\n",
    "    print('Connection closed')"
   ]
  }
 ],
 "metadata": {
  "kernelspec": {
   "display_name": "Python 2",
   "language": "python",
   "name": "python2"
  },
  "language_info": {
   "codemirror_mode": {
    "name": "ipython",
    "version": 2
   },
   "file_extension": ".py",
   "mimetype": "text/x-python",
   "name": "python",
   "nbconvert_exporter": "python",
   "pygments_lexer": "ipython2",
   "version": "2.7.12+"
  }
 },
 "nbformat": 4,
 "nbformat_minor": 2
}
