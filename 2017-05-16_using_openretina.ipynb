{
 "cells": [
  {
   "cell_type": "code",
   "execution_count": 3,
   "metadata": {},
   "outputs": [
    {
     "name": "stdout",
     "output_type": "stream",
     "text": [
      "The autoreload extension is already loaded. To reload it, use:\n",
      "  %reload_ext autoreload\n"
     ]
    }
   ],
   "source": [
    "%load_ext autoreload\n",
    "%autoreload 2"
   ]
  },
  {
   "cell_type": "code",
   "execution_count": 2,
   "metadata": {},
   "outputs": [
    {
     "name": "stdout",
     "output_type": "stream",
     "text": [
      "Writing 2017-05-15_using_openretina.py\n"
     ]
    }
   ],
   "source": [
    "%%writefile 2017-05-16_using_openretina.py\n",
    "#! /usr/bin/env python3\n",
    "# -*- coding: utf8 -*-\n",
    "from __future__ import division, print_function\n",
    "\"\"\"\n",
    "openRetina : a photoreceptor layer\n",
    "See https://github.com/laurentperrinet/openRetina\n",
    "\"\"\"\n",
    "__author__ = \"(c) Pierre Albiges, Victor Boutin & Laurent Perrinet INT - CNRS\"\n",
    "\n",
    "from openRetina import openRetina\n",
    "phrs = openRetina(model=dict(layer='phrs', # label for this layer\n",
    "                             input=['camera'], # input: can be the camera, noise, a movie (TODO)\n",
    "                             output=['stream'] # output: can be stream, display, ...\n",
    "                             ))\n",
    "phrs.run()"
   ]
  },
  {
   "cell_type": "raw",
   "metadata": {},
   "source": [
    "!git add 2017-05-16_using_op*\n",
    "!git status\n",
    "!git add 2017-05-16_using_openretina.py"
   ]
  },
  {
   "cell_type": "code",
   "execution_count": 3,
   "metadata": {
    "collapsed": true
   },
   "outputs": [],
   "source": [
    "!git diff 2017-05-16_using_openretina.py"
   ]
  },
  {
   "cell_type": "code",
   "execution_count": 4,
   "metadata": {},
   "outputs": [
    {
     "name": "stdout",
     "output_type": "stream",
     "text": [
      "[master fe67d82]  updating *_using_openretina.py\r\n",
      " 2 files changed, 424 deletions(-)\r\n",
      " delete mode 100644 2017-05-12_using_openretina.ipynb\r\n",
      " delete mode 100644 2017-05-12_using_openretina_server.ipynb\r\n",
      "fatal: The current branch master has no upstream branch.\r\n",
      "To push the current branch and set the remote as upstream, use\r\n",
      "\r\n",
      "    git push --set-upstream origin master\r\n",
      "\r\n"
     ]
    }
   ],
   "source": [
    "!git commit -am' updating *_using_openretina.py '; git push"
   ]
  },
  {
   "cell_type": "code",
   "execution_count": 5,
   "metadata": {},
   "outputs": [
    {
     "name": "stdout",
     "output_type": "stream",
     "text": [
      "From https://github.com/laurentperrinet/openRetina\n",
      "   8791e62..380cd0e  master     -> origin/master\n",
      "Updating 8791e62..380cd0e\n",
      "Fast-forward\n",
      " {src => old}/DoG.py               |  0\n",
      " {dev => old}/DoG_layer.py         |  0\n",
      " {src => old}/GCB.py               |  0\n",
      " {src/old => old}/GCB_old.py       |  0\n",
      " {dev => old}/M1.py                |  0\n",
      " {dev => old}/M2.py                |  0\n",
      " {dev => old}/M3.py                |  0\n",
      " {dev => old}/M4.py                |  0\n",
      " {dev => old}/M5.py                |  0\n",
      " {dev => old}/MacOS_cam.py         |  0\n",
      " {src => old}/Monitor.py           |  0\n",
      " {dev => old}/PiCam.py             |  0\n",
      " {src => old}/VisionSensor.py      |  0\n",
      " {dev => old}/noise_display.py     |  0\n",
      " {dev => old}/retina.py            |  0\n",
      " {src => old}/test/test.py         |  0\n",
      " {src => old}/test/testGCB2.py     |  0\n",
      " {src => old}/test/testGCB2b.py    |  0\n",
      " {src => old}/test/testGCB2c.py    |  0\n",
      " {src => old}/test/test_class.py   |  0\n",
      " {src => old}/test/test_client.py  |  0\n",
      " {src => old}/test/test_client1.py |  0\n",
      " {src => old}/test/test_client2.py |  0\n",
      " {src => old}/test/test_rep.py     |  0\n",
      " {src => old}/test/test_req.py     |  0\n",
      " {src => old}/test/test_serv.py    |  0\n",
      " {src => old}/test/test_serv2.py   |  0\n",
      " {dev => old}/thalamus_receiver.py |  0\n",
      " src/openRetina.py                 | 26 ++++++--------------------\n",
      " 29 files changed, 6 insertions(+), 20 deletions(-)\n",
      " rename {src => old}/DoG.py (100%)\n",
      " rename {dev => old}/DoG_layer.py (100%)\n",
      " rename {src => old}/GCB.py (100%)\n",
      " rename {src/old => old}/GCB_old.py (100%)\n",
      " rename {dev => old}/M1.py (100%)\n",
      " rename {dev => old}/M2.py (100%)\n",
      " rename {dev => old}/M3.py (100%)\n",
      " rename {dev => old}/M4.py (100%)\n",
      " rename {dev => old}/M5.py (100%)\n",
      " rename {dev => old}/MacOS_cam.py (100%)\n",
      " rename {src => old}/Monitor.py (100%)\n",
      " rename {dev => old}/PiCam.py (100%)\n",
      " rename {src => old}/VisionSensor.py (100%)\n",
      " rename {dev => old}/noise_display.py (100%)\n",
      " rename {dev => old}/retina.py (100%)\n",
      " rename {src => old}/test/test.py (100%)\n",
      " rename {src => old}/test/testGCB2.py (100%)\n",
      " rename {src => old}/test/testGCB2b.py (100%)\n",
      " rename {src => old}/test/testGCB2c.py (100%)\n",
      " rename {src => old}/test/test_class.py (100%)\n",
      " rename {src => old}/test/test_client.py (100%)\n",
      " rename {src => old}/test/test_client1.py (100%)\n",
      " rename {src => old}/test/test_client2.py (100%)\n",
      " rename {src => old}/test/test_rep.py (100%)\n",
      " rename {src => old}/test/test_req.py (100%)\n",
      " rename {src => old}/test/test_serv.py (100%)\n",
      " rename {src => old}/test/test_serv2.py (100%)\n",
      " rename {dev => old}/thalamus_receiver.py (100%)\n",
      "From https://github.com/pierrealbiges/INT-internship\n",
      "   162093a..da3fdea  master     -> origin/master\n",
      "Updating 162093a..da3fdea\n",
      "Fast-forward\n",
      " ...5-05_grabing_frames_with_opencv_on_ubuntu.ipynb |   2 +-\n",
      " 2017-05-12_using_openretina_testing_local.ipynb    | 674 ---------------------\n",
      " 2017-05-12_using_openretina_testing_noise.ipynb    | 337 ++++++++++-\n",
      " 2017-05-12_using_openretina_testing_noise.py       |   1 +\n",
      " ...tina.ipynb => 2017-05-15_using_openretina.ipynb |  68 ++-\n",
      " 2017-05-15_using_openretina.py                     |  15 +\n",
      " ...ynb => 2017-05-15_using_openretina_server.ipynb |  88 ++-\n",
      " 2017-05-15_using_openretina_srv.py                 |  13 +\n",
      " 2017-05-15_using_openretina_testing_camera.py      |  15 +\n",
      " 2017-05-15_using_openretina_testing_camera_srv.py  |  15 +\n",
      " 2017-05-15_using_openretina_testing_local.ipynb    | 375 ++++++++++++\n",
      " W1_Progress_and_notes.ipynb                        |   2 +-\n",
      " W2_Progress_and_notes.ipynb                        |   2 +-\n",
      " W3_Progress_and_notes.ipynb                        | 261 +++++++-\n",
      " W4_Progress_and_notes.ipynb                        | 145 +++++\n",
      " camera.py                                          |   3 +-\n",
      " 16 files changed, 1268 insertions(+), 748 deletions(-)\n",
      " delete mode 100644 2017-05-12_using_openretina_testing_local.ipynb\n",
      " rename 2017-05-12_using_openretina.ipynb => 2017-05-15_using_openretina.ipynb (62%)\n",
      " create mode 100644 2017-05-15_using_openretina.py\n",
      " rename 2017-05-12_using_openretina_server.ipynb => 2017-05-15_using_openretina_server.ipynb (62%)\n",
      " create mode 100644 2017-05-15_using_openretina_srv.py\n",
      " create mode 100755 2017-05-15_using_openretina_testing_camera.py\n",
      " create mode 100644 2017-05-15_using_openretina_testing_camera_srv.py\n",
      " create mode 100644 2017-05-15_using_openretina_testing_local.ipynb\n",
      " create mode 100644 W4_Progress_and_notes.ipynb\n"
     ]
    }
   ],
   "source": [
    "!ssh pi@10.164.7.213 \"cd ~/openRetina ; git pull; cd ~/INT-internship ; git pull \""
   ]
  },
  {
   "cell_type": "code",
   "execution_count": 2,
   "metadata": {},
   "outputs": [
    {
     "name": "stdout",
     "output_type": "stream",
     "text": [
      "💀  Could not load visualisation\r\n",
      "Running retina on port:  5566\r\n",
      "Received request b'REQ'\r\n",
      "Received request b'REQ'\r\n",
      "Received request b'REQ'\r\n",
      "Received request b'REQ'\r\n",
      "Received request b'REQ'\r\n",
      "Received request b'REQ'\r\n",
      "Received request b'RIP'\r\n"
     ]
    }
   ],
   "source": [
    "!ssh pi@10.164.7.213 \"cd ~/INT-internship ; python3 2017-05-15_using_openretina.py \""
   ]
  },
  {
   "cell_type": "code",
   "execution_count": 7,
   "metadata": {},
   "outputs": [
    {
     "name": "stdout",
     "output_type": "stream",
     "text": [
      "python3: no process found\r\n"
     ]
    }
   ],
   "source": [
    "!ssh pi@10.164.7.213 \"killall python3\""
   ]
  },
  {
   "cell_type": "code",
   "execution_count": null,
   "metadata": {
    "collapsed": true
   },
   "outputs": [],
   "source": []
  }
 ],
 "metadata": {
  "kernelspec": {
   "display_name": "Python 3",
   "language": "python",
   "name": "python3"
  },
  "language_info": {
   "codemirror_mode": {
    "name": "ipython",
    "version": 3
   },
   "file_extension": ".py",
   "mimetype": "text/x-python",
   "name": "python",
   "nbconvert_exporter": "python",
   "pygments_lexer": "ipython3",
   "version": "3.5.2+"
  }
 },
 "nbformat": 4,
 "nbformat_minor": 2
}
