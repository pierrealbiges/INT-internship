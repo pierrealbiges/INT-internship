{
 "cells": [
  {
   "cell_type": "code",
   "execution_count": 1,
   "metadata": {},
   "outputs": [],
   "source": [
    "%matplotlib inline\n",
    "import matplotlib.pyplot as plt\n",
    "import time"
   ]
  },
  {
   "cell_type": "code",
   "execution_count": 2,
   "metadata": {
    "collapsed": true
   },
   "outputs": [],
   "source": [
    "from camera import PhotoReceptor"
   ]
  },
  {
   "cell_type": "markdown",
   "metadata": {},
   "source": [
    "# Grabbing one frame and exiting"
   ]
  },
  {
   "cell_type": "code",
   "execution_count": 25,
   "metadata": {},
   "outputs": [
    {
     "name": "stdout",
     "output_type": "stream",
     "text": [
      "Before a downscale of 4, dim1 : 720, dim2 : 1280\n",
      "Using OpenCV\n",
      "After a downscale of 4, dim1 : 0.0, dim2 : 0.0\n"
     ]
    },
    {
     "ename": "TypeError",
     "evalue": "Image data can not convert to float",
     "output_type": "error",
     "traceback": [
      "\u001b[0;31m---------------------------------------------------------------------------\u001b[0m",
      "\u001b[0;31mTypeError\u001b[0m                                 Traceback (most recent call last)",
      "\u001b[0;32m<ipython-input-25-3791b07754a0>\u001b[0m in \u001b[0;36m<module>\u001b[0;34m()\u001b[0m\n\u001b[1;32m      8\u001b[0m \u001b[0mPh\u001b[0m\u001b[0;34m.\u001b[0m\u001b[0mclose\u001b[0m\u001b[0;34m(\u001b[0m\u001b[0;34m)\u001b[0m\u001b[0;34m\u001b[0m\u001b[0m\n\u001b[1;32m      9\u001b[0m \u001b[0;34m\u001b[0m\u001b[0m\n\u001b[0;32m---> 10\u001b[0;31m \u001b[0mplt\u001b[0m\u001b[0;34m.\u001b[0m\u001b[0mimshow\u001b[0m\u001b[0;34m(\u001b[0m\u001b[0mframe\u001b[0m\u001b[0;34m)\u001b[0m\u001b[0;34m\u001b[0m\u001b[0m\n\u001b[0m",
      "\u001b[0;32m/usr/local/lib/python2.7/dist-packages/matplotlib/pyplot.pyc\u001b[0m in \u001b[0;36mimshow\u001b[0;34m(X, cmap, norm, aspect, interpolation, alpha, vmin, vmax, origin, extent, shape, filternorm, filterrad, imlim, resample, url, hold, data, **kwargs)\u001b[0m\n\u001b[1;32m   3156\u001b[0m                         \u001b[0mfilternorm\u001b[0m\u001b[0;34m=\u001b[0m\u001b[0mfilternorm\u001b[0m\u001b[0;34m,\u001b[0m \u001b[0mfilterrad\u001b[0m\u001b[0;34m=\u001b[0m\u001b[0mfilterrad\u001b[0m\u001b[0;34m,\u001b[0m\u001b[0;34m\u001b[0m\u001b[0m\n\u001b[1;32m   3157\u001b[0m                         \u001b[0mimlim\u001b[0m\u001b[0;34m=\u001b[0m\u001b[0mimlim\u001b[0m\u001b[0;34m,\u001b[0m \u001b[0mresample\u001b[0m\u001b[0;34m=\u001b[0m\u001b[0mresample\u001b[0m\u001b[0;34m,\u001b[0m \u001b[0murl\u001b[0m\u001b[0;34m=\u001b[0m\u001b[0murl\u001b[0m\u001b[0;34m,\u001b[0m \u001b[0mdata\u001b[0m\u001b[0;34m=\u001b[0m\u001b[0mdata\u001b[0m\u001b[0;34m,\u001b[0m\u001b[0;34m\u001b[0m\u001b[0m\n\u001b[0;32m-> 3158\u001b[0;31m                         **kwargs)\n\u001b[0m\u001b[1;32m   3159\u001b[0m     \u001b[0;32mfinally\u001b[0m\u001b[0;34m:\u001b[0m\u001b[0;34m\u001b[0m\u001b[0m\n\u001b[1;32m   3160\u001b[0m         \u001b[0max\u001b[0m\u001b[0;34m.\u001b[0m\u001b[0m_hold\u001b[0m \u001b[0;34m=\u001b[0m \u001b[0mwashold\u001b[0m\u001b[0;34m\u001b[0m\u001b[0m\n",
      "\u001b[0;32m/usr/local/lib/python2.7/dist-packages/matplotlib/__init__.pyc\u001b[0m in \u001b[0;36minner\u001b[0;34m(ax, *args, **kwargs)\u001b[0m\n\u001b[1;32m   1890\u001b[0m                     warnings.warn(msg % (label_namer, func.__name__),\n\u001b[1;32m   1891\u001b[0m                                   RuntimeWarning, stacklevel=2)\n\u001b[0;32m-> 1892\u001b[0;31m             \u001b[0;32mreturn\u001b[0m \u001b[0mfunc\u001b[0m\u001b[0;34m(\u001b[0m\u001b[0max\u001b[0m\u001b[0;34m,\u001b[0m \u001b[0;34m*\u001b[0m\u001b[0margs\u001b[0m\u001b[0;34m,\u001b[0m \u001b[0;34m**\u001b[0m\u001b[0mkwargs\u001b[0m\u001b[0;34m)\u001b[0m\u001b[0;34m\u001b[0m\u001b[0m\n\u001b[0m\u001b[1;32m   1893\u001b[0m         \u001b[0mpre_doc\u001b[0m \u001b[0;34m=\u001b[0m \u001b[0minner\u001b[0m\u001b[0;34m.\u001b[0m\u001b[0m__doc__\u001b[0m\u001b[0;34m\u001b[0m\u001b[0m\n\u001b[1;32m   1894\u001b[0m         \u001b[0;32mif\u001b[0m \u001b[0mpre_doc\u001b[0m \u001b[0;32mis\u001b[0m \u001b[0mNone\u001b[0m\u001b[0;34m:\u001b[0m\u001b[0;34m\u001b[0m\u001b[0m\n",
      "\u001b[0;32m/usr/local/lib/python2.7/dist-packages/matplotlib/axes/_axes.pyc\u001b[0m in \u001b[0;36mimshow\u001b[0;34m(self, X, cmap, norm, aspect, interpolation, alpha, vmin, vmax, origin, extent, shape, filternorm, filterrad, imlim, resample, url, **kwargs)\u001b[0m\n\u001b[1;32m   5116\u001b[0m                               resample=resample, **kwargs)\n\u001b[1;32m   5117\u001b[0m \u001b[0;34m\u001b[0m\u001b[0m\n\u001b[0;32m-> 5118\u001b[0;31m         \u001b[0mim\u001b[0m\u001b[0;34m.\u001b[0m\u001b[0mset_data\u001b[0m\u001b[0;34m(\u001b[0m\u001b[0mX\u001b[0m\u001b[0;34m)\u001b[0m\u001b[0;34m\u001b[0m\u001b[0m\n\u001b[0m\u001b[1;32m   5119\u001b[0m         \u001b[0mim\u001b[0m\u001b[0;34m.\u001b[0m\u001b[0mset_alpha\u001b[0m\u001b[0;34m(\u001b[0m\u001b[0malpha\u001b[0m\u001b[0;34m)\u001b[0m\u001b[0;34m\u001b[0m\u001b[0m\n\u001b[1;32m   5120\u001b[0m         \u001b[0;32mif\u001b[0m \u001b[0mim\u001b[0m\u001b[0;34m.\u001b[0m\u001b[0mget_clip_path\u001b[0m\u001b[0;34m(\u001b[0m\u001b[0;34m)\u001b[0m \u001b[0;32mis\u001b[0m \u001b[0mNone\u001b[0m\u001b[0;34m:\u001b[0m\u001b[0;34m\u001b[0m\u001b[0m\n",
      "\u001b[0;32m/usr/local/lib/python2.7/dist-packages/matplotlib/image.pyc\u001b[0m in \u001b[0;36mset_data\u001b[0;34m(self, A)\u001b[0m\n\u001b[1;32m    543\u001b[0m         if (self._A.dtype != np.uint8 and\n\u001b[1;32m    544\u001b[0m                 not np.can_cast(self._A.dtype, np.float)):\n\u001b[0;32m--> 545\u001b[0;31m             \u001b[0;32mraise\u001b[0m \u001b[0mTypeError\u001b[0m\u001b[0;34m(\u001b[0m\u001b[0;34m\"Image data can not convert to float\"\u001b[0m\u001b[0;34m)\u001b[0m\u001b[0;34m\u001b[0m\u001b[0m\n\u001b[0m\u001b[1;32m    546\u001b[0m \u001b[0;34m\u001b[0m\u001b[0m\n\u001b[1;32m    547\u001b[0m         if (self._A.ndim not in (2, 3) or\n",
      "\u001b[0;31mTypeError\u001b[0m: Image data can not convert to float"
     ]
    },
    {
     "data": {
      "image/png": "[encoded data removed]",
      "text/plain": [
       "<matplotlib.figure.Figure at 0x7fb979238490>"
      ]
     },
     "metadata": {},
     "output_type": "display_data"
    }
   ],
   "source": [
    "Ph = PhotoReceptor(w=1280, h=720, DOWNSCALE=4)\n",
    "\n",
    "#Ph.cap.set(cv2.CAP_PROP_FRAME_WIDTH, 640.)\n",
    "#Ph.cap.set(cv2.CAP_PROP_FRAME_HEIGHT, 360)\n",
    "#print(Ph.cap.get(cv2.CAP_PROP_FRAME_HEIGHT), Ph.cap.get(cv2.CAP_PROP_FRAME_WIDTH))\n",
    "#frame = Ph.grab()\n",
    "frame = Ph.grab()\n",
    "Ph.close()\n",
    "\n",
    "plt.imshow(frame)"
   ]
  },
  {
   "cell_type": "markdown",
   "metadata": {},
   "source": [
    "# Benchmarking camera for different sizes"
   ]
  },
  {
   "cell_type": "code",
   "execution_count": 28,
   "metadata": {},
   "outputs": [],
   "source": [
    "import numpy as np\n",
    "\n",
    "downscales = [1, 1.25, 1.5, 2, 3, 4, 6, 6.5]"
   ]
  },
  {
   "cell_type": "code",
   "execution_count": 29,
   "metadata": {
    "scrolled": false
   },
   "outputs": [
    {
     "name": "stdout",
     "output_type": "stream",
     "text": [
      "Before a downscale of 1, dim1 : 720, dim2 : 1280\n",
      "Using OpenCV\n",
      "After a downscale of 1, dim1 : 720.0, dim2 : 1280.0\n",
      "Frame rate : 15.4404384266 \n",
      "\n",
      "Before a downscale of 1.25, dim1 : 720, dim2 : 1280\n",
      "Using OpenCV\n",
      "After a downscale of 1.25, dim1 : 576.0, dim2 : 1024.0\n",
      "Frame rate : 15.4303557922 \n",
      "\n",
      "Before a downscale of 1.5, dim1 : 720, dim2 : 1280\n",
      "Using OpenCV\n",
      "After a downscale of 1.5, dim1 : 480.0, dim2 : 720.0\n",
      "Frame rate : 15.567002366 \n",
      "\n",
      "Before a downscale of 2, dim1 : 720, dim2 : 1280\n",
      "Using OpenCV\n",
      "After a downscale of 2, dim1 : 288.0, dim2 : 352.0\n",
      "Frame rate : 15.4050024652 \n",
      "\n",
      "Before a downscale of 3, dim1 : 720, dim2 : 1280\n",
      "Using OpenCV\n",
      "After a downscale of 3, dim1 : 240.0, dim2 : 320.0\n",
      "Frame rate : 15.3867690714 \n",
      "\n",
      "Before a downscale of 4, dim1 : 720, dim2 : 1280\n",
      "Using OpenCV\n",
      "After a downscale of 4, dim1 : 144.0, dim2 : 176.0\n",
      "Frame rate : 15.3833469331 \n",
      "\n",
      "Before a downscale of 6, dim1 : 720, dim2 : 1280\n",
      "Using OpenCV\n",
      "After a downscale of 6, dim1 : 120.0, dim2 : 160.0\n",
      "Frame rate : 15.3828019243 \n",
      "\n",
      "Before a downscale of 6.5, dim1 : 720, dim2 : 1280\n",
      "Using OpenCV\n",
      "After a downscale of 6.5, dim1 : 480.0, dim2 : 640.0\n",
      "Frame rate : 15.3990525386 \n",
      "\n"
     ]
    }
   ],
   "source": [
    "'''  Version a : Run the program and calculate the framerate (limit = number of frames recorded) '''\n",
    "\n",
    "num_frames = 50\n",
    "sizes_a, frames_a = [], []\n",
    "for ds in downscales:\n",
    "    \n",
    "    Ph = PhotoReceptor(w=1280, h=720, DOWNSCALE = ds)\n",
    "    frame = Ph.grab()\n",
    "\n",
    "    time.sleep(1)\n",
    "    start = time.time()\n",
    "\n",
    "    for i in range(num_frames):\n",
    "        frame = Ph.grab()\n",
    "\n",
    "    seconds = time.time() - start\n",
    "        \n",
    "    sizes_a.append(Ph.h*Ph.w)\n",
    "    Ph.close()\n",
    "\n",
    "    fps = num_frames / seconds\n",
    "    frames_a.append(fps)\n",
    "    print ('Frame rate : %s \\n' % fps)"
   ]
  },
  {
   "cell_type": "code",
   "execution_count": 30,
   "metadata": {
    "scrolled": true
   },
   "outputs": [
    {
     "name": "stdout",
     "output_type": "stream",
     "text": [
      "Before a downscale of 1, dim1 : 720, dim2 : 1280\n",
      "Using OpenCV\n",
      "After a downscale of 1, dim1 : 720.0, dim2 : 1280.0\n",
      "Frame rate 13.0453401299 \n",
      "\n",
      "Before a downscale of 1.25, dim1 : 720, dim2 : 1280\n",
      "Using OpenCV\n",
      "After a downscale of 1.25, dim1 : 576.0, dim2 : 1024.0\n",
      "Frame rate 13.0462340644 \n",
      "\n",
      "Before a downscale of 1.5, dim1 : 720, dim2 : 1280\n",
      "Using OpenCV\n",
      "After a downscale of 1.5, dim1 : 480.0, dim2 : 720.0\n",
      "Frame rate 13.3746203564 \n",
      "\n",
      "Before a downscale of 2, dim1 : 720, dim2 : 1280\n",
      "Using OpenCV\n",
      "After a downscale of 2, dim1 : 288.0, dim2 : 352.0\n",
      "Frame rate 13.2618059846 \n",
      "\n",
      "Before a downscale of 3, dim1 : 720, dim2 : 1280\n",
      "Using OpenCV\n",
      "After a downscale of 3, dim1 : 240.0, dim2 : 320.0\n",
      "Frame rate 13.2625967492 \n",
      "\n",
      "Before a downscale of 4, dim1 : 720, dim2 : 1280\n",
      "Using OpenCV\n",
      "After a downscale of 4, dim1 : 144.0, dim2 : 176.0\n",
      "Frame rate 13.263489468 \n",
      "\n",
      "Before a downscale of 6, dim1 : 720, dim2 : 1280\n",
      "Using OpenCV\n",
      "After a downscale of 6, dim1 : 120.0, dim2 : 160.0\n",
      "Frame rate 13.2642898953 \n",
      "\n",
      "Before a downscale of 6.5, dim1 : 720, dim2 : 1280\n",
      "Using OpenCV\n",
      "After a downscale of 6.5, dim1 : 480.0, dim2 : 640.0\n",
      "Frame rate 13.2597223238 \n",
      "\n"
     ]
    }
   ],
   "source": [
    "''' Version b : Run the program and calculate the framerate (limit = time recorded) '''\n",
    "\n",
    "sizes_b, frames_b = [], []\n",
    "for ds in downscales:\n",
    "    Ph = PhotoReceptor(w=1280, h=720, DOWNSCALE = ds)\n",
    "    Rec = True\n",
    "    nb_frames = 0\n",
    "\n",
    "    start = time.time()\n",
    "\n",
    "    while(Rec == True):\n",
    "\n",
    "        frame = Ph.grab()\n",
    "        nb_frames += 1\n",
    "        \n",
    "        seconds = time.time() - start\n",
    "        \n",
    "        if seconds >= 10 :\n",
    "            Rec = False\n",
    "    sizes_b.append(Ph.h*Ph.w)\n",
    "           \n",
    "    Ph.close()\n",
    "\n",
    "    fps = nb_frames / seconds\n",
    "    frames_b.append(fps)\n",
    "    print ('Frame rate %s \\n' % fps)"
   ]
  },
  {
   "cell_type": "code",
   "execution_count": 32,
   "metadata": {},
   "outputs": [
    {
     "data": {
      "image/png": "[encoded data removed]",
      "text/plain": [
       "<matplotlib.figure.Figure at 0x7fb979278290>"
      ]
     },
     "metadata": {},
     "output_type": "display_data"
    }
   ],
   "source": [
    "fig, ax = plt.subplots(figsize=(8,5))\n",
    "ax.plot(sizes_a, frames_a, 'b', marker='o', label='method a')\n",
    "ax.plot(sizes_b, frames_b, 'r', marker='o', label='method b')\n",
    "ax.grid(linestyle='--')\n",
    "plt.legend()\n",
    "ax.set_title('Effect of downscale on framerate, per method used')\n",
    "ax.set_xlabel('# of pixels')\n",
    "ax.set_ylabel('Framerate')\n",
    "ax.set_ylim(0, 1.1*max(max(frames_a), max(frames_b)))\n",
    "plt.show()"
   ]
  }
 ],
 "metadata": {
  "kernelspec": {
   "display_name": "Python 2",
   "language": "python",
   "name": "python2"
  },
  "language_info": {
   "codemirror_mode": {
    "name": "ipython",
    "version": 2
   },
   "file_extension": ".py",
   "mimetype": "text/x-python",
   "name": "python",
   "nbconvert_exporter": "python",
   "pygments_lexer": "ipython2",
   "version": "2.7.12+"
  }
 },
 "nbformat": 4,
 "nbformat_minor": 2
}
