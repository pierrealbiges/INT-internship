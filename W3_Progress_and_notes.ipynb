{
 "cells": [
  {
   "cell_type": "markdown",
   "metadata": {},
   "source": [
    "# 2017-04-09\n",
    "----\n",
    "Reminders : I'm trying to write a pythn-on script that run as background (daemon) on the Pi, that allow to interact with few command lines (API, maybe using zmq and/or socket) to do 3 tasks :\n",
    "- Ask the camera if it's ready to record\n",
    "- Allow the camera to answer positively or negatively\n",
    "- Ask the camera to cut down the connection  \n",
    "\n",
    "\n",
    "- [ ] Create a daemon\n",
    "\n",
    "Like last week, I have connection problems to the Pi. But this time, restarting it didn't solved the problem. After talking with L. Perrinet, we didn't found where it come from.  \n",
    "I'll work on the daemon/API script until further notice.  \n",
    "More informations about zmq : http://zeromq.org/, http://api.zeromq.org/ and http://zguide.zeromq.org/py:all  \n",
    "Going further with the interactive python scripts : https://docs.python.org/2/library/thread.html#module-thread and https://docs.python.org/2/library/threading.html  \n",
    "\n",
    "The daemon script is under construction : pi_interaction.ipynb\n",
    "\n",
    "The connection to the Pi works with a new IP : __10.164.7.213__\n",
    "\n",
    "    ssh pi@10.164.7.213\n",
    "\n",
    "To learn how zmq is working, I'm reading documentation : http://zguide.zeromq.org/py:all  \n",
    "The zmq python library isn't installed on the pi. Problem : When trying to install it through\n",
    "\n",
    "    sudo aptitude install python3-zmq\n",
    "\n",
    "output :\n",
    "\n",
    "    E: Could not get lock /var/lib/dpkg/lock - open (11: Resource temporarily unavailable)\n",
    "    E: Unable to lock the administration directory (/var/lib/dpkg/), is another process using it?\n",
    "    W: Could not lock the cache file; this usually means that dpkg or another apt tool is already installing packages.\n",
    "    (...)\n",
    "    \n",
    "But no other apt process should be running.\n",
    "\n",
    "    ps aux | grep apt\n",
    "\n",
    "output 3 apt process running :\n",
    "\n",
    "    root       747  0.0  0.3   6184  2956 pts/0    S+   14:26   0:00 sudo apt-get upgrade\n",
    "    root       751  7.3  3.4  33656 30592 pts/0    S+   14:26   3:32 apt-get upgrade\n",
    "    pi       13293  0.0  0.1   4248  1432 pts/2    S+   15:14   0:00 grep --color=auto apt\n",
    "    \n",
    "After verification, they were launched by L. Perrinet. Waiting their end to install zmq.  \n",
    "zmq python library is succesfully installed on the pi.\n"
   ]
  }
 ],
 "metadata": {
  "kernelspec": {
   "display_name": "Python 3",
   "language": "python",
   "name": "python3"
  },
  "language_info": {
   "codemirror_mode": {
    "name": "ipython",
    "version": 3
   },
   "file_extension": ".py",
   "mimetype": "text/x-python",
   "name": "python",
   "nbconvert_exporter": "python",
   "pygments_lexer": "ipython3",
   "version": "3.5.2+"
  }
 },
 "nbformat": 4,
 "nbformat_minor": 2
}
