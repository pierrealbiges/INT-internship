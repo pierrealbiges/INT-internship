{
 "cells": [
  {
   "cell_type": "code",
   "execution_count": 4,
   "metadata": {
    "collapsed": true
   },
   "outputs": [],
   "source": [
    "%load_ext autoreload\n",
    "%autoreload 2"
   ]
  },
  {
   "cell_type": "markdown",
   "metadata": {},
   "source": [
    "# Capturing a video to a file with the Pi"
   ]
  },
  {
   "cell_type": "code",
   "execution_count": 5,
   "metadata": {},
   "outputs": [
    {
     "name": "stdout",
     "output_type": "stream",
     "text": [
      "Overwriting 2017-05-19_capture_videos.py\n"
     ]
    }
   ],
   "source": [
    "%%writefile 2017-05-19_capture_videos.py\n",
    "#! /usr/bin/env python3\n",
    "# -*- coding: utf8 -*-\n",
    "\n",
    "import picamera\n",
    "\n",
    "class Rec_video():\n",
    "    def __init__(self):\n",
    "        cam = picamera.PiCamera()\n",
    "        cam.resolution = (640,480) #Defining the camera resolution        \n",
    "        cam.start_recording(output='video_picam2', format='h264') #Start recording in 'filename.filetype'\n",
    "        cam.wait_recording(5) #Better integrated time.wait() that allow to continually check for errors\n",
    "        cam.stop_recording() #Stop recording\n",
    "\n",
    "        print('Recording end') #Control line\n",
    "        \n",
    "rec = Rec_video() #Calling the Rec_video class"
   ]
  },
  {
   "cell_type": "code",
   "execution_count": 39,
   "metadata": {},
   "outputs": [
    {
     "name": "stdout",
     "output_type": "stream",
     "text": [
      "On branch master\n",
      "Your branch is up-to-date with 'origin/master'.\n",
      "nothing to commit, working tree clean\n",
      "Everything up-to-date\n",
      "Already up-to-date.\n",
      "From https://github.com/pierrealbiges/INT-internship\n",
      "   e24d0b1..18a5418  master     -> origin/master\n",
      "Updating b975f4a..18a5418\n",
      "Fast-forward\n",
      " .gitignore                                         |  3 +-\n",
      " ...-05-17_capture_videos_with_openretina_server.py | 16 ++--\n",
      " ...2017-05-18_capture_videos_with_openretina.ipynb | 94 +++++++++++++---------\n",
      " 2017-05-18_capture_videos_with_openretina.py       | 16 ++++\n",
      " ...-18_capture_videos_with_openretina_server.ipynb | 84 ++++++++++++-------\n",
      " ...-05-18_capture_videos_with_openretina_server.py | 39 +++++++++\n",
      " W4_Progress_and_notes.ipynb                        | 16 +++-\n",
      " 7 files changed, 189 insertions(+), 79 deletions(-)\n",
      " rename 2017-05-17_capture_videos_with_openretina.ipynb => 2017-05-18_capture_videos_with_openretina.ipynb (62%)\n",
      " create mode 100644 2017-05-18_capture_videos_with_openretina.py\n",
      " rename 2017-05-17_capture_videos_with_openretina_server.ipynb => 2017-05-18_capture_videos_with_openretina_server.ipynb (57%)\n",
      " create mode 100644 2017-05-18_capture_videos_with_openretina_server.py\n"
     ]
    }
   ],
   "source": [
    "!git add 2017-05-19_capture_videos.py\n",
    "!git commit -m' updating *_capture_videos.py '; git push\n",
    "!ssh pi@10.164.7.213 \"cd ~/openRetina ; git pull; cd ~/INT-internship ; git pull\""
   ]
  },
  {
   "cell_type": "code",
   "execution_count": 6,
   "metadata": {},
   "outputs": [
    {
     "name": "stdout",
     "output_type": "stream",
     "text": [
      "Recording end\r\n"
     ]
    }
   ],
   "source": [
    "!ssh pi@10.164.7.213 \"cd ~/INT-internship ; python3 2017-05-19_capture_videos.py\""
   ]
  },
  {
   "cell_type": "markdown",
   "metadata": {},
   "source": [
    "# Sending the video file to the computer"
   ]
  },
  {
   "cell_type": "code",
   "execution_count": 1,
   "metadata": {},
   "outputs": [
    {
     "name": "stdout",
     "output_type": "stream",
     "text": [
      "Overwriting 2017-05-19_capture_videos_client.py\n"
     ]
    }
   ],
   "source": [
    "%%writefile 2017-05-19_capture_videos_client.py\n",
    "\"\"\" Pi side \"\"\"\n",
    "\n",
    "import zmq\n",
    "CHUNK_SIZE = 250000\n",
    "\n",
    "try:\n",
    "    context = zmq.Context()\n",
    "    router = context.socket(zmq.ROUTER)\n",
    "    \n",
    "    router.sndhwm = router.rcvhwm = CHUNK_SIZE\n",
    "    router.hwm = CHUNK_SIZE\n",
    "    router.bind(\"tcp://*:5555\")\n",
    "    print(\"Connected to computer\")\n",
    "    \n",
    "    file = open(\"video_picam2\",\"rb\")\n",
    "    print('File opened')\n",
    "    while True:\n",
    "        identity, command = router.recv_multipart()\n",
    "        \n",
    "        assert command == b\"fetch\"\n",
    "        print('Command received')\n",
    "        \n",
    "        while True:\n",
    "            data = file.read(CHUNK_SIZE)\n",
    "            router.send_multipart([identity, data])\n",
    "            print('Sending data...')\n",
    "            if not data:\n",
    "                print('\\nNo more data')\n",
    "                break\n",
    "        if not data: break\n",
    "\n",
    "finally:\n",
    "    router.close()\n",
    "    context.term()\n",
    "    print(\"\\nConnection closed\")"
   ]
  },
  {
   "cell_type": "code",
   "execution_count": 2,
   "metadata": {},
   "outputs": [
    {
     "name": "stdout",
     "output_type": "stream",
     "text": [
      "PUSHING\n",
      "[master a0fca1f]  updating *_capture_videos_client.py\n",
      " 1 file changed, 1 insertion(+), 1 deletion(-)\n",
      "Counting objects: 3, done.\n",
      "Delta compression using up to 2 threads.\n",
      "Compressing objects: 100% (3/3), done.\n",
      "Writing objects: 100% (3/3), 326 bytes | 0 bytes/s, done.\n",
      "Total 3 (delta 2), reused 0 (delta 0)\n",
      "remote: Resolving deltas: 100% (2/2), completed with 2 local objects.\u001b[K\n",
      "To github.com:pierrealbiges/INT-internship.git\n",
      "   4b5b86c..a0fca1f  master -> master\n",
      "\n",
      "PULLING\n",
      "From https://github.com/laurentperrinet/openRetina\n",
      "   ea4c762..1059322  master     -> origin/master\n",
      "Updating ea4c762..1059322\n",
      "Fast-forward\n",
      " src/__init__.py    |   4 +-\n",
      " src/eventRetina.py |  52 ++++++++++\n",
      " src/openRetina.py  | 277 ++++++++++++++++++++++++++++++++---------------------\n",
      " 3 files changed, 225 insertions(+), 108 deletions(-)\n",
      " create mode 100644 src/eventRetina.py\n",
      "From https://github.com/pierrealbiges/INT-internship\n",
      "   1ebfb23..a0fca1f  master     -> origin/master\n",
      "Updating 1ebfb23..a0fca1f\n",
      "Fast-forward\n",
      " .gitignore                                         |    1 +\n",
      " 2017-05-03_camera.py                               |  121 ++\n",
      " ...5-03_grabing_frames_with_opencv3_on_MacOS.ipynb |  187 ++-\n",
      " 2017-05-04_networking_clientside.ipynb             |    2 +-\n",
      " 2017-05-12_using_openretina_testing_noise.ipynb    | 1613 +++++++++++---------\n",
      " 2017-05-12_using_openretina_testing_noise_srv.py   |    4 +-\n",
      " 2017-05-15_using_openretina_testing_camera_srv.py  |    4 +-\n",
      " 2017-05-15_using_openretina_testing_local.ipynb    | 1005 +++++++++---\n",
      " ...-05-18_capture_videos_with_openretina_server.py |    7 +-\n",
      " ...retina.ipynb => 2017-05-19_capture_videos.ipynb |   97 +-\n",
      " 2017-05-19_capture_videos.py                       |   16 +\n",
      " 2017-05-19_capture_videos_client.py                |   35 +\n",
      " 2017-05-19_capture_videos_server.ipynb             |  231 +++\n",
      " 2017-05-19_capture_videos_server.py                |   38 +\n",
      " 2017-05-19_capture_videos_with_openretina.py       |   16 +\n",
      " ...-05-19_capture_videos_with_openretina_client.py |   35 +\n",
      " ...-05-19_capture_videos_with_openretina_server.py |   38 +\n",
      " 2017-05-19_using_eventRetina_stacked_GCs.py        |   18 +\n",
      " 2017-05-19_using_eventRetina_stacked_camera.py     |   16 +\n",
      " 2017-05-19_using_eventRetina_stacked_display.py    |   17 +\n",
      " 2017-05-19_using_eventRetina_testing_local.ipynb   | 1140 ++++++++++++++\n",
      " ...05-19_using_eventRetina_testing_local_camera.py |   15 +\n",
      " 2017-05-19_using_eventRetina_testing_local_srv.py  |   15 +\n",
      " 2017-05-20_using_eventRetina_stacked.ipynb         | 1576 +++++++++++++++++++\n",
      " ...ipynb => 2017-05-22_capture_videos_server.ipynb |  109 +-\n",
      " W4_Progress_and_notes.ipynb                        |  128 +-\n",
      " W5_Progress_and_notes.ipynb                        |   91 ++\n",
      " camera.py                                          |  120 --\n",
      " 28 files changed, 5511 insertions(+), 1184 deletions(-)\n",
      " create mode 100644 2017-05-03_camera.py\n",
      " rename 2017-05-18_capture_videos_with_openretina.ipynb => 2017-05-19_capture_videos.ipynb (62%)\n",
      " create mode 100644 2017-05-19_capture_videos.py\n",
      " create mode 100644 2017-05-19_capture_videos_client.py\n",
      " create mode 100644 2017-05-19_capture_videos_server.ipynb\n",
      " create mode 100644 2017-05-19_capture_videos_server.py\n",
      " create mode 100644 2017-05-19_capture_videos_with_openretina.py\n",
      " create mode 100644 2017-05-19_capture_videos_with_openretina_client.py\n",
      " create mode 100644 2017-05-19_capture_videos_with_openretina_server.py\n",
      " create mode 100755 2017-05-19_using_eventRetina_stacked_GCs.py\n",
      " create mode 100755 2017-05-19_using_eventRetina_stacked_camera.py\n",
      " create mode 100644 2017-05-19_using_eventRetina_stacked_display.py\n",
      " create mode 100644 2017-05-19_using_eventRetina_testing_local.ipynb\n",
      " create mode 100755 2017-05-19_using_eventRetina_testing_local_camera.py\n",
      " create mode 100755 2017-05-19_using_eventRetina_testing_local_srv.py\n",
      " create mode 100644 2017-05-20_using_eventRetina_stacked.ipynb\n",
      " rename 2017-05-18_capture_videos_with_openretina_server.ipynb => 2017-05-22_capture_videos_server.ipynb (62%)\n",
      " create mode 100644 W5_Progress_and_notes.ipynb\n",
      " delete mode 100644 camera.py\n"
     ]
    }
   ],
   "source": [
    "!git add 2017-05-19_capture_videos_client.py\n",
    "print('PUSHING')\n",
    "!git commit -m' updating *_capture_videos_client.py '; git push\n",
    "print('\\nPULLING')\n",
    "!ssh pi@10.164.7.213 \"cd ~/openRetina ; git pull; cd ~/INT-internship ; git pull\""
   ]
  },
  {
   "cell_type": "code",
   "execution_count": 1,
   "metadata": {},
   "outputs": [
    {
     "name": "stdout",
     "output_type": "stream",
     "text": [
      "ssh: connect to host 10.164.7.213 port 22: No route to host\r",
      "\r\n"
     ]
    }
   ],
   "source": [
    "!ssh pi@10.164.7.213 \"cd ~/INT-internship/ ; python3 2017-05-19_capture_videos_client.py\""
   ]
  },
  {
   "cell_type": "code",
   "execution_count": null,
   "metadata": {
    "collapsed": true
   },
   "outputs": [],
   "source": []
  }
 ],
 "metadata": {
  "kernelspec": {
   "display_name": "Python 3",
   "language": "python",
   "name": "python3"
  },
  "language_info": {
   "codemirror_mode": {
    "name": "ipython",
    "version": 3
   },
   "file_extension": ".py",
   "mimetype": "text/x-python",
   "name": "python",
   "nbconvert_exporter": "python",
   "pygments_lexer": "ipython3",
   "version": "3.5.2+"
  }
 },
 "nbformat": 4,
 "nbformat_minor": 2
}
