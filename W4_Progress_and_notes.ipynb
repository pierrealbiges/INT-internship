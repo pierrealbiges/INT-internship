{
 "cells": [
  {
   "cell_type": "markdown",
   "metadata": {},
   "source": [
    "# 2017-05-15\n",
    "---\n",
    "\n",
    "Progress of my work : After some weeks of reverse-engineering the OpenRetina scripts, I understood them enough to work direclty on them. L. Perrinet and I built some testing scripts that allowed me to try these scripts. The first one, with a fully-noised input, was run successfully. I still have some problems to run the second one, that use a local camera as an input.\n",
    "\n",
    "- [ ] Run the local testing script\n",
    "    - [ ] Solve the empty capture problem\n",
    "    \n",
    "Since the code() function seems to receive empty inputs, the problem may come from the run() function.  \n",
    "Trying to find the source of that problem.  \n",
    "\n",
    "    def run(self):\n",
    "        (...)\n",
    "        print('dbg_key1', self.frame)\n",
    "        data = self.code(self.frame)\n",
    "        (...)\n",
    "        \n",
    "Output : \n",
    "\n",
    "    dbg_key1 None\n",
    "    \n",
    "Then :\n",
    "\n",
    "    def grab(self):\n",
    "        (...)\n",
    "        print('dbg_key1', frame)\n",
    "        print('dbg_key2', self.cap.read())\n",
    "        (...)\n",
    "        \n",
    "Output : \n",
    "    \n",
    "    dbg_key1 None\n",
    "    dbg_key2 (False, None)\n",
    "    \n",
    "The problem seem to come from the PhotoReceptor() class, as trying to call it alone don't work : \n",
    "\n",
    "    from openRetina import openRetina\n",
    "    from openRetina import PhotoReceptor\n",
    "    import cv2\n",
    "\n",
    "    cam = PhotoReceptor(640,480)\n",
    "    cam.grab()\n",
    "    \n",
    "Output : \n",
    "\n",
    "    Unable to capture video\n",
    "    dbg_key1 (False, None)\n",
    "\n",
    "I had some internet problems that slowed down my work. My computer get randomly disconnected, forcing me to restart it to make it work again.  \n",
    "The script problem come from the PhotoReceptor class, as : \n",
    "\n",
    "    (...)\n",
    "    if not self.cap.isOpened(): \n",
    "        print('Camera is not opened')\n",
    "        stop\n",
    "    print('dbgkey1')\n",
    "    (...)\n",
    "    \n",
    "Output :\n",
    "\n",
    "    Camera is not opened"
   ]
  },
  {
   "cell_type": "markdown",
   "metadata": {},
   "source": [
    "# Outline\n",
    "---\n",
    "\n",
    "- [ ] Run the local testing script\n",
    "    - [ ] Solve the empy capture problem"
   ]
  }
 ],
 "metadata": {
  "kernelspec": {
   "display_name": "Python 3",
   "language": "python",
   "name": "python3"
  },
  "language_info": {
   "codemirror_mode": {
    "name": "ipython",
    "version": 3
   },
   "file_extension": ".py",
   "mimetype": "text/x-python",
   "name": "python",
   "nbconvert_exporter": "python",
   "pygments_lexer": "ipython3",
   "version": "3.5.2+"
  }
 },
 "nbformat": 4,
 "nbformat_minor": 2
}
