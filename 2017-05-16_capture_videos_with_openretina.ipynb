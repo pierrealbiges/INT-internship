{
 "cells": [
  {
   "cell_type": "code",
   "execution_count": 1,
   "metadata": {},
   "outputs": [],
   "source": [
    "%load_ext autoreload\n",
    "%autoreload 2"
   ]
  },
  {
   "cell_type": "code",
   "execution_count": 114,
   "metadata": {},
   "outputs": [
    {
     "name": "stdout",
     "output_type": "stream",
     "text": [
      "Overwriting 2017-05-16_capture_videos_with_openretina.py\n"
     ]
    }
   ],
   "source": [
    "%%writefile 2017-05-16_capture_videos_with_openretina.py\n",
    "#! /usr/bin/env python3\n",
    "# -*- coding: utf8 -*-\n",
    "\n",
    "import picamera\n",
    "\n",
    "class Rec_video():\n",
    "    def __init__(self):\n",
    "        cam = picamera.PiCamera()\n",
    "        cam.resolution = (640,480) #Defining the camera resolution\n",
    "        cam.start_recording(output='video_picam2', format='h264') #Start recording in 'filename.filetype'\n",
    "        cam.wait_recording(5) #Better integrated time.wait() that allow to continually check for errors\n",
    "        cam.stop_recording() #Stop recording\n",
    "\n",
    "        print('It went fine!') #Control line"
   ]
  },
  {
   "cell_type": "code",
   "execution_count": 115,
   "metadata": {},
   "outputs": [
    {
     "name": "stdout",
     "output_type": "stream",
     "text": [
      "On branch master\n",
      "Your branch is up-to-date with 'origin/master'.\n",
      "Changes not staged for commit:\n",
      "\t\u001b[31mmodified:   2017-05-16_capture_videos_with_openretina.ipynb\u001b[m\n",
      "\n",
      "no changes added to commit\n",
      "Everything up-to-date\n",
      "Already up-to-date.\n",
      "Already up-to-date.\n"
     ]
    }
   ],
   "source": [
    "!git add 2017-05-16_capture_videos_with_openretina.py\n",
    "!git commit -m' updating *_capture_videos_with_openRetina.py '; git push\n",
    "!ssh pi@10.164.7.213 \"cd ~/openRetina ; git pull; cd ~/INT-internship ; git pull\""
   ]
  },
  {
   "cell_type": "code",
   "execution_count": 116,
   "metadata": {},
   "outputs": [],
   "source": [
    "!ssh pi@10.164.7.213 \"cd ~/INT-internship ; python3 2017-05-16_capture_videos_with_openretina.py\""
   ]
  },
  {
   "cell_type": "code",
   "execution_count": 13,
   "metadata": {},
   "outputs": [
    {
     "name": "stdout",
     "output_type": "stream",
     "text": [
      "Overwriting 2017-05-16_capture_videos_with_openretina_client.py\n"
     ]
    }
   ],
   "source": [
    "%%writefile 2017-05-16_capture_videos_with_openretina_client.py\n",
    "\"\"\" Client side \"\"\"\n",
    "\n",
    "import zmq\n",
    "import struct\n",
    "import io\n",
    "\n",
    "context = zmq.Context()\n",
    "socket = context.socket(zmq.REP)\n",
    "socket.bind(\"tcp://*:5555\")\n",
    "print('Server connected')\n",
    "\n",
    "try:\n",
    "    message = socket.recv()\n",
    "    print('Received request : %s', message)\n",
    "    \n",
    "    Vid = open('video_picam','r')\n",
    "    socket.send(Vid)\n",
    "\n",
    "finally:\n",
    "    socket.close()\n",
    "    context.term()\n",
    "    print('Connection closed')"
   ]
  },
  {
   "cell_type": "code",
   "execution_count": 5,
   "metadata": {},
   "outputs": [
    {
     "ename": "NameError",
     "evalue": "name 'socket' is not defined",
     "output_type": "error",
     "traceback": [
      "\u001b[0;31m---------------------------------------------------------------------------\u001b[0m",
      "\u001b[0;31mNameError\u001b[0m                                 Traceback (most recent call last)",
      "\u001b[0;32m<ipython-input-5-d6940bdc1472>\u001b[0m in \u001b[0;36m<module>\u001b[0;34m()\u001b[0m\n\u001b[0;32m----> 1\u001b[0;31m \u001b[0msocket\u001b[0m\u001b[0;34m.\u001b[0m\u001b[0mclose\u001b[0m\u001b[0;34m(\u001b[0m\u001b[0;34m)\u001b[0m\u001b[0;34m\u001b[0m\u001b[0m\n\u001b[0m\u001b[1;32m      2\u001b[0m \u001b[0mcontext\u001b[0m\u001b[0;34m.\u001b[0m\u001b[0mterm\u001b[0m\u001b[0;34m(\u001b[0m\u001b[0;34m)\u001b[0m\u001b[0;34m\u001b[0m\u001b[0m\n\u001b[1;32m      3\u001b[0m \u001b[0mprint\u001b[0m\u001b[0;34m(\u001b[0m\u001b[0;34m'Connection closed'\u001b[0m\u001b[0;34m)\u001b[0m\u001b[0;34m\u001b[0m\u001b[0m\n",
      "\u001b[0;31mNameError\u001b[0m: name 'socket' is not defined"
     ]
    }
   ],
   "source": [
    "socket.close()\n",
    "context.term()\n",
    "print('Connection closed')"
   ]
  },
  {
   "cell_type": "code",
   "execution_count": 15,
   "metadata": {},
   "outputs": [
    {
     "name": "stdout",
     "output_type": "stream",
     "text": [
      "[master 29eb195]  updating *_capture_videos_with_openRetina_client.py\n",
      " 1 file changed, 11 insertions(+), 10 deletions(-)\n",
      "Counting objects: 3, done.\n",
      "Delta compression using up to 2 threads.\n",
      "Compressing objects: 100% (3/3), done.\n",
      "Writing objects: 100% (3/3), 444 bytes | 0 bytes/s, done.\n",
      "Total 3 (delta 2), reused 0 (delta 0)\n",
      "remote: Resolving deltas: 100% (2/2), completed with 2 local objects.\u001b[K\n",
      "To github.com:pierrealbiges/INT-internship.git\n",
      "   a00bfc1..29eb195  master -> master\n",
      "Already up-to-date.\n",
      "From https://github.com/pierrealbiges/INT-internship\n",
      "   a00bfc1..29eb195  master     -> origin/master\n",
      "Updating a00bfc1..29eb195\n",
      "Fast-forward\n",
      " 2017-05-16_capture_videos_with_openretina_client.py | 21 +++++++++++----------\n",
      " 1 file changed, 11 insertions(+), 10 deletions(-)\n"
     ]
    }
   ],
   "source": [
    "!git add 2017-05-16_capture_videos_with_openretina_client.py\n",
    "!git commit -m' updating *_capture_videos_with_openRetina_client.py '; git push\n",
    "!ssh pi@10.164.7.213 \"cd ~/openRetina ; git pull; cd ~/INT-internship ; git pull\""
   ]
  },
  {
   "cell_type": "code",
   "execution_count": 6,
   "metadata": {},
   "outputs": [
    {
     "name": "stdout",
     "output_type": "stream",
     "text": [
      "Traceback (most recent call last):\r\n",
      "  File \"2017-05-16_capture_videos_with_openretina_client.py\", line 9, in <module>\r\n",
      "    socket.bind(\"tcp://*:5555\")\r\n",
      "  File \"socket.pyx\", line 444, in zmq.backend.cython.socket.Socket.bind (zmq/backend/cython/socket.c:4124)\r\n",
      "  File \"checkrc.pxd\", line 21, in zmq.backend.cython.checkrc._check_rc (zmq/backend/cython/socket.c:6103)\r\n",
      "zmq.error.ZMQError: Address already in use\r\n"
     ]
    }
   ],
   "source": [
    "!ssh pi@10.164.7.213 \"cd ~/INT-internship/ ; python3 2017-05-16_capture_videos_with_openretina_client.py\""
   ]
  },
  {
   "cell_type": "code",
   "execution_count": null,
   "metadata": {
    "collapsed": true
   },
   "outputs": [],
   "source": []
  }
 ],
 "metadata": {
  "kernelspec": {
   "display_name": "Python 3",
   "language": "python",
   "name": "python3"
  },
  "language_info": {
   "codemirror_mode": {
    "name": "ipython",
    "version": 3
   },
   "file_extension": ".py",
   "mimetype": "text/x-python",
   "name": "python",
   "nbconvert_exporter": "python",
   "pygments_lexer": "ipython3",
   "version": "3.5.2+"
  }
 },
 "nbformat": 4,
 "nbformat_minor": 2
}
