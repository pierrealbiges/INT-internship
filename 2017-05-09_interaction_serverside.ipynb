{
 "cells": [
  {
   "cell_type": "code",
   "execution_count": 1,
   "metadata": {},
   "outputs": [
    {
     "name": "stdout",
     "output_type": "stream",
     "text": [
      "Connecting to client...\n",
      "Client connected\n",
      "Sending request 0...\n",
      "Received reply 0 [ b'World' ]\n",
      "Sending request 1...\n",
      "Received reply 1 [ b'World' ]\n",
      "Sending request 2...\n",
      "Received reply 2 [ b'World' ]\n",
      "Sending request 3...\n",
      "Received reply 3 [ b'World' ]\n",
      "Sending request 4...\n",
      "Received reply 4 [ b'World' ]\n",
      "Sending request 5...\n",
      "Received reply 5 [ b'World' ]\n",
      "Sending request 6...\n",
      "Received reply 6 [ b'World' ]\n",
      "Sending request 7...\n",
      "Received reply 7 [ b'World' ]\n",
      "Sending request 8...\n",
      "Received reply 8 [ b'World' ]\n",
      "Sending request 9...\n",
      "Received reply 9 [ b'World' ]\n",
      "No more requests\n"
     ]
    }
   ],
   "source": [
    "import zmq\n",
    "\n",
    "context = zmq.Context()\n",
    "print('Connecting to client...')\n",
    "socket = context.socket(zmq.REQ)\n",
    "socket.connect(\"tcp://10.164.7.213:5555\")\n",
    "print('Client connected')\n",
    "\n",
    "for request in range(10):\n",
    "    print(\"Sending request %s...\" % request)\n",
    "    socket.send(b'Hello')\n",
    "    \n",
    "    message = socket.recv() #Wait for next request from client\n",
    "    print(\"Received reply %s [ %s ]\" % (request, message))\n",
    "\n",
    "socket.send('END')\n",
    "print('No more requests')"
   ]
  }
 ],
 "metadata": {
  "kernelspec": {
   "display_name": "Python 3",
   "language": "python",
   "name": "python3"
  },
  "language_info": {
   "codemirror_mode": {
    "name": "ipython",
    "version": 3
   },
   "file_extension": ".py",
   "mimetype": "text/x-python",
   "name": "python",
   "nbconvert_exporter": "python",
   "pygments_lexer": "ipython3",
   "version": "3.5.2+"
  }
 },
 "nbformat": 4,
 "nbformat_minor": 2
}
