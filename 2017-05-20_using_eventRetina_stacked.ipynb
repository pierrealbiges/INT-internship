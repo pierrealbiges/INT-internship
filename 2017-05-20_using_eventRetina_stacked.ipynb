{
 "cells": [
  {
   "cell_type": "markdown",
   "metadata": {},
   "source": [
    "# stacking different programs\n",
    "\n",
    "\n",
    "Launching on the same computer \n",
    "- a client grabbing the display and sending it over the network (stays in the localhost),\n",
    "- a middle layer which converts the input to spikes\n",
    "- a server displaying it on the host's display\n"
   ]
  },
  {
   "cell_type": "code",
   "execution_count": 1,
   "metadata": {
    "collapsed": true
   },
   "outputs": [],
   "source": [
    "%load_ext autoreload\n",
    "%autoreload 2"
   ]
  },
  {
   "cell_type": "markdown",
   "metadata": {},
   "source": [
    "## a simple retina"
   ]
  },
  {
   "cell_type": "code",
   "execution_count": 2,
   "metadata": {},
   "outputs": [
    {
     "name": "stdout",
     "output_type": "stream",
     "text": [
      "Overwriting 2017-05-19_using_eventRetina_stacked_camera.py\n"
     ]
    }
   ],
   "source": [
    "%%writefile 2017-05-19_using_eventRetina_stacked_camera.py\n",
    "#! /usr/bin/env python3\n",
    "# -*- coding: utf8 -*-\n",
    "from __future__ import division, print_function\n",
    "\"\"\"\n",
    "openRetina : a photoreceptor layer\n",
    "See https://github.com/laurentperrinet/openRetina\n",
    "\"\"\"\n",
    "__author__ = \"(c) Pierre Albiges, Victor Boutin & Laurent Perrinet INT - CNRS\"\n",
    "\n",
    "from openRetina import openRetina\n",
    "phrs = openRetina(model=dict(layer='phrs', # label for this layer\n",
    "                             input=['camera'], # input: can be the camera, noise, a movie (TODO)\n",
    "                             output=['stream'], # output: can be stream, display, ...\n",
    "                             out_port=5555,\n",
    "                             ))\n",
    "phrs.run()"
   ]
  },
  {
   "cell_type": "code",
   "execution_count": 3,
   "metadata": {
    "collapsed": true
   },
   "outputs": [],
   "source": [
    "!chmod +x 2017-05-19_using_eventRetina_stacked_camera.py "
   ]
  },
  {
   "cell_type": "markdown",
   "metadata": {},
   "source": [
    "## a simple spiking layer"
   ]
  },
  {
   "cell_type": "code",
   "execution_count": 4,
   "metadata": {},
   "outputs": [
    {
     "name": "stdout",
     "output_type": "stream",
     "text": [
      "Overwriting 2017-05-19_using_eventRetina_stacked_GCs.py\n"
     ]
    }
   ],
   "source": [
    "%%writefile 2017-05-19_using_eventRetina_stacked_GCs.py\n",
    "#! /usr/bin/env python3\n",
    "# -*- coding: utf8 -*-\n",
    "from __future__ import division, print_function\n",
    "\"\"\"\n",
    "openRetina : a photoreceptor layer\n",
    "See https://github.com/laurentperrinet/openRetina\n",
    "\"\"\"\n",
    "__author__ = \"(c) Pierre Albiges, Victor Boutin & Laurent Perrinet INT - CNRS\"\n",
    "\n",
    "from eventRetina import eventRetina\n",
    "phrs = eventRetina(model=dict(layer='GCs', # label for this layer\n",
    "                             input=['stream'], # input: can be the camera, noise, a movie (TODO)\n",
    "                             in_port=5555,\n",
    "                             output=['stream'], # output: can be stream, display, ...\n",
    "                             name_capture = 'retina_capture',\n",
    "                             out_port=5556\n",
    "                             ))\n",
    "print\n",
    "phrs.run()"
   ]
  },
  {
   "cell_type": "code",
   "execution_count": 5,
   "metadata": {
    "collapsed": true
   },
   "outputs": [],
   "source": [
    "!chmod +x 2017-05-19_using_eventRetina_stacked_GCs.py "
   ]
  },
  {
   "cell_type": "code",
   "execution_count": null,
   "metadata": {},
   "outputs": [
    {
     "name": "stdout",
     "output_type": "stream",
     "text": [
      "Overwriting 2017-05-19_using_eventRetina_stacked_display.py\n"
     ]
    }
   ],
   "source": [
    "%%writefile 2017-05-19_using_eventRetina_stacked_display.py\n",
    "\"\"\"\n",
    "openRetina : a basic thalamic layer\n",
    "See https://github.com/laurentperrinet/openRetina\n",
    "\"\"\"\n",
    "__author__ = \"(c) Victor Boutin & Laurent Perrinet INT - CNRS\"\n",
    "\n",
    "import subprocess\n",
    "p = subprocess.Popen(['./2017-05-19_using_eventRetina_stacked_camera.py'])\n",
    "GCs = subprocess.Popen(['./2017-05-19_using_eventRetina_stacked_GCs.py'])\n",
    "\n",
    "from eventRetina import eventRetina\n",
    "camera = eventRetina(model=dict(layer='output', title='A three layered network: retina - GCs - display', # label for this layer\n",
    "                                 input=['stream'], # input: can be the camera, noise, a movie (TODO)\n",
    "                                 in_port=5556,\n",
    "                                 output=['display', 'capture'], # output: can be stream, display, capture,...\n",
    "                                 name_capture = 'event_capture',\n",
    "                                 T_SIM=5, sparseness=0.01))\n",
    "camera.run()"
   ]
  },
  {
   "cell_type": "code",
   "execution_count": null,
   "metadata": {
    "scrolled": false
   },
   "outputs": [
    {
     "name": "stdout",
     "output_type": "stream",
     "text": [
      "\u001b]0;IPython: research/PA_INT-internship\u0007output Connecting to retina with port 5556\n",
      "output is asking for the size\n",
      "GCs Connecting to retina with port 5555\n",
      "GCs Running out_socket on port:  5556\n",
      "GCs is asking for the size\n"
     ]
    }
   ],
   "source": [
    "!ipython3 2017-05-19_using_eventRetina_stacked_display.py"
   ]
  }
 ],
 "metadata": {
  "kernelspec": {
   "display_name": "Python 3",
   "language": "python",
   "name": "python3"
  },
  "language_info": {
   "codemirror_mode": {
    "name": "ipython",
    "version": 3
   },
   "file_extension": ".py",
   "mimetype": "text/x-python",
   "name": "python",
   "nbconvert_exporter": "python",
   "pygments_lexer": "ipython3",
   "version": "3.6.1"
  }
 },
 "nbformat": 4,
 "nbformat_minor": 2
}
