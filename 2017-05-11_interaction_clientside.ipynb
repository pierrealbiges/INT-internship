{
 "cells": [
  {
   "cell_type": "code",
   "execution_count": 12,
   "metadata": {},
   "outputs": [
    {
     "name": "stdout",
     "output_type": "stream",
     "text": [
      "Overwriting 2017-05-11_interaction_clientside.py\n"
     ]
    }
   ],
   "source": [
    "%%writefile 2017-05-11_interaction_clientside.py\n",
    "''' Pi side\n",
    "\n",
    "\n",
    "'''\n",
    "\n",
    "import time\n",
    "import zmq\n",
    "import picamera\n",
    "import struct\n",
    "import io\n",
    "\n",
    "context = zmq.Context()\n",
    "socket = context.socket(zmq.REP)\n",
    "socket.bind(\"tcp://*:5555\")\n",
    "print('Server connected')\n",
    "\n",
    "camera = picamera.PiCamera()\n",
    "camera.resolution = (640, 480)\n",
    "\n",
    "try:\n",
    "    while True:\n",
    "        message = socket.recv()\n",
    "        print(\"Received request: %s\" % message)\n",
    "\n",
    "        if message == b'END':\n",
    "            break\n",
    "\n",
    "        stream = io.BytesIO()\n",
    "        camera.start_preview()\n",
    "        time.sleep(0.2)\n",
    "        \n",
    "        camera.capture(stream, format='jpeg')\n",
    "        socket.send(stream.getvalue())\n",
    "\n",
    "finally:\n",
    "    socket.close()\n",
    "    context.term()\n",
    "    print('Connection closed')"
   ]
  },
  {
   "cell_type": "code",
   "execution_count": 2,
   "metadata": {},
   "outputs": [
    {
     "name": "stdout",
     "output_type": "stream",
     "text": [
      "[master 4c34a37]  updating 2017-05-11_interaction_clientside.py\n",
      " 2 files changed, 218 insertions(+), 186 deletions(-)\n",
      " rewrite 2017-05-11_interaction_serverside.ipynb (93%)\n",
      "Counting objects: 4, done.\n",
      "Delta compression using up to 8 threads.\n",
      "Compressing objects: 100% (4/4), done.\n",
      "Writing objects: 100% (4/4), 126.55 KiB | 0 bytes/s, done.\n",
      "Total 4 (delta 2), reused 0 (delta 0)\n",
      "remote: Resolving deltas: 100% (2/2), completed with 2 local objects.\u001b[K\n",
      "To https://github.com/pierrealbiges/INT-internship.git\n",
      "   e18883c..4c34a37  master -> master\n"
     ]
    }
   ],
   "source": [
    "!git commit -am' updating 2017-05-11_interaction_clientside.py '; git push"
   ]
  },
  {
   "cell_type": "code",
   "execution_count": 3,
   "metadata": {},
   "outputs": [
    {
     "name": "stdout",
     "output_type": "stream",
     "text": [
      "From https://github.com/pierrealbiges/INT-internship\n",
      "   e18883c..4c34a37  master     -> origin/master\n",
      "Updating e18883c..4c34a37\n",
      "Fast-forward\n",
      " 2017-05-11_interaction_clientside.ipynb | 44 +++++++++++++++--------\n",
      " 2017-05-11_interaction_serverside.ipynb | 64 +++++++++++++++++++++------------\n",
      " 2 files changed, 70 insertions(+), 38 deletions(-)\n"
     ]
    }
   ],
   "source": [
    "!ssh pi@10.164.7.213 \"cd ~/INT-internship ; git pull \""
   ]
  },
  {
   "cell_type": "code",
   "execution_count": 2,
   "metadata": {},
   "outputs": [
    {
     "name": "stdout",
     "output_type": "stream",
     "text": [
      "Server connected\r\n",
      "Received request: b'Client camera request'\r\n",
      "Received request: b'Client camera request'\r\n",
      "Received request: b'Client camera request'\r\n",
      "Received request: b'Client camera request'\r\n",
      "Received request: b'Client camera request'\r\n",
      "Received request: b'END'\r\n",
      "Connection closed\r\n"
     ]
    }
   ],
   "source": [
    "!ssh pi@10.164.7.213 \"cd ~/INT-internship ; python3 2017-05-11_interaction_clientside.py \""
   ]
  },
  {
   "cell_type": "code",
   "execution_count": null,
   "metadata": {
    "collapsed": true
   },
   "outputs": [],
   "source": []
  }
 ],
 "metadata": {
  "kernelspec": {
   "display_name": "Python 3",
   "language": "python",
   "name": "python3"
  },
  "language_info": {
   "codemirror_mode": {
    "name": "ipython",
    "version": 3
   },
   "file_extension": ".py",
   "mimetype": "text/x-python",
   "name": "python",
   "nbconvert_exporter": "python",
   "pygments_lexer": "ipython3",
   "version": "3.5.2+"
  }
 },
 "nbformat": 4,
 "nbformat_minor": 2
}
