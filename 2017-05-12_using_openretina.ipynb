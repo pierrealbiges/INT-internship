{
 "cells": [
  {
   "cell_type": "code",
   "execution_count": null,
   "metadata": {
    "collapsed": true
   },
   "outputs": [],
   "source": [
    "%load_ext autoreload\n",
    "%autoreload 2"
   ]
  },
  {
   "cell_type": "code",
   "execution_count": 1,
   "metadata": {},
   "outputs": [
    {
     "name": "stdout",
     "output_type": "stream",
     "text": [
      "Overwriting 2017-05-12_using_openretina.py\n"
     ]
    }
   ],
   "source": [
    "%%writefile 2017-05-12_using_openretina.py\n",
    "#! /usr/bin/env python3\n",
    "# -*- coding: utf8 -*-\n",
    "from __future__ import division, print_function\n",
    "\"\"\"\n",
    "openRetina : a photoreceptor layer\n",
    "See https://github.com/laurentperrinet/openRetina\n",
    "\"\"\"\n",
    "__author__ = \"(c) Pierre Albiges, Victor Boutin & Laurent Perrinet INT - CNRS\"\n",
    "\n",
    "from openRetina import openRetina\n",
    "phrs = openRetina(model=dict(layer='phrs', # label for this layer\n",
    "                             input=['camera'], # input: can be the camera, noise, a movie (TODO)\n",
    "                             output=['stream'] # output: can be stream, display, ...\n",
    "                             ))\n",
    "phrs.run()"
   ]
  },
  {
   "cell_type": "raw",
   "metadata": {},
   "source": [
    "!git add 2017-05-12_using_op*\n",
    "!git status\n",
    "!git add 2017-05-12_using_openretina.py"
   ]
  },
  {
   "cell_type": "code",
   "execution_count": 2,
   "metadata": {},
   "outputs": [
    {
     "name": "stdout",
     "output_type": "stream",
     "text": [
      "\u001b[1;33mdiff --git a/2017-05-12_using_openretina.py b/2017-05-12_using_openretina.py\u001b[m\r\n",
      "\u001b[1;33mindex 38af732..c14ff2c 100644\u001b[m\r\n",
      "\u001b[1;33m--- a/2017-05-12_using_openretina.py\u001b[m\r\n",
      "\u001b[1;33m+++ b/2017-05-12_using_openretina.py\u001b[m\r\n",
      "\u001b[1;35m@@ -5,7 +5,7 @@\u001b[m \u001b[mfrom __future__ import division, print_function\u001b[m\r\n",
      " openRetina : a photoreceptor layer\u001b[m\r\n",
      " See https://github.com/laurentperrinet/openRetina\u001b[m\r\n",
      " \"\"\"\u001b[m\r\n",
      "\u001b[31m-__author__ = \"(c) Victor Boutin & Laurent Perrinet INT - CNRS\"\u001b[m\r\n",
      "\u001b[32m+\u001b[m\u001b[32m__author__ = \"(c) Pierre Albiges, Victor Boutin & Laurent Perrinet INT - CNRS\"\u001b[m\r\n",
      " \u001b[m\r\n",
      " from openRetina import openRetina\u001b[m\r\n",
      " phrs = openRetina(model=dict(layer='phrs', # label for this layer\u001b[m\r\n"
     ]
    }
   ],
   "source": [
    "!git diff 2017-05-12_using_openretina.py"
   ]
  },
  {
   "cell_type": "code",
   "execution_count": 3,
   "metadata": {},
   "outputs": [
    {
     "name": "stdout",
     "output_type": "stream",
     "text": [
      "[master 90b11df]  updating 2017-05-12_using_openretina.py\n",
      " 1 file changed, 1 insertion(+), 1 deletion(-)\n",
      "Counting objects: 3, done.\n",
      "Delta compression using up to 8 threads.\n",
      "Compressing objects: 100% (3/3), done.\n",
      "Writing objects: 100% (3/3), 333 bytes | 0 bytes/s, done.\n",
      "Total 3 (delta 2), reused 0 (delta 0)\n",
      "remote: Resolving deltas: 100% (2/2), completed with 2 local objects.\u001b[K\n",
      "To https://github.com/pierrealbiges/INT-internship.git\n",
      "   968ccbd..90b11df  master -> master\n"
     ]
    }
   ],
   "source": [
    "!git commit -am' updating 2017-05-12_using_openretina.py '; git push"
   ]
  },
  {
   "cell_type": "code",
   "execution_count": 8,
   "metadata": {},
   "outputs": [
    {
     "name": "stdout",
     "output_type": "stream",
     "text": [
      "From https://github.com/laurentperrinet/openRetina\n",
      "   4fe5ed9..a747265  master     -> origin/master\n",
      "Updating 4fe5ed9..a747265\n",
      "Fast-forward\n",
      " src/openRetina.py | 4 +---\n",
      " 1 file changed, 1 insertion(+), 3 deletions(-)\n",
      "Already up-to-date.\n"
     ]
    }
   ],
   "source": [
    "!ssh pi@10.164.7.213 \"cd ~/openRetina ; git pull; cd ~/INT-internship ; git pull \""
   ]
  },
  {
   "cell_type": "code",
   "execution_count": 5,
   "metadata": {},
   "outputs": [
    {
     "name": "stdout",
     "output_type": "stream",
     "text": [
      "💀  Could not load visualisation\r\n",
      "1280\r\n",
      "720\r\n",
      "Unable to capture video\r\n",
      "Running retina on port:  5566\r\n",
      "Received request b'REQ'\r\n",
      "Traceback (most recent call last):\r\n",
      "  File \"2017-05-12_using_openretina.py\", line 15, in <module>\r\n",
      "    phrs.run()\r\n",
      "  File \"/home/pi/openRetina/src/openRetina.py\", line 189, in run\r\n",
      "    returned, cam_data = self.camera.cap.read()\r\n",
      "AttributeError: 'PiCamera' object has no attribute 'read'\r\n"
     ]
    }
   ],
   "source": [
    "!ssh pi@10.164.7.213 \"cd ~/INT-internship ; python3 2017-05-12_using_openretina.py \""
   ]
  },
  {
   "cell_type": "code",
   "execution_count": 6,
   "metadata": {},
   "outputs": [
    {
     "name": "stdout",
     "output_type": "stream",
     "text": [
      "python3: no process found\r\n"
     ]
    }
   ],
   "source": [
    "!ssh pi@10.164.7.213 \"killall python3\""
   ]
  }
 ],
 "metadata": {
  "kernelspec": {
   "display_name": "Python 3",
   "language": "python",
   "name": "python3"
  },
  "language_info": {
   "codemirror_mode": {
    "name": "ipython",
    "version": 3
   },
   "file_extension": ".py",
   "mimetype": "text/x-python",
   "name": "python",
   "nbconvert_exporter": "python",
   "pygments_lexer": "ipython3",
   "version": "3.6.1"
  }
 },
 "nbformat": 4,
 "nbformat_minor": 2
}
