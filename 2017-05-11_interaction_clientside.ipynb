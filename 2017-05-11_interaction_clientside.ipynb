{
 "cells": [
  {
   "cell_type": "code",
   "execution_count": 1,
   "metadata": {},
   "outputs": [
    {
     "name": "stdout",
     "output_type": "stream",
     "text": [
      "Overwriting 2017-05-11_interaction_clientside.py\n"
     ]
    }
   ],
   "source": [
    "%%writefile 2017-05-11_interaction_clientside.py\n",
    "''' Pi side\n",
    "\n",
    "\n",
    "'''\n",
    "\n",
    "import time\n",
    "import zmq\n",
    "import picamera\n",
    "import struct\n",
    "import io\n",
    "\n",
    "context = zmq.Context()\n",
    "socket = context.socket(zmq.REP)\n",
    "socket.bind(\"tcp://*:5555\")\n",
    "print('Server connected')\n",
    "\n",
    "camera = picamera.PiCamera()\n",
    "camera.resolution = (640, 480)\n",
    "\n",
    "try:\n",
    "    while True:\n",
    "        message = socket.recv()\n",
    "        print(\"Received request: %s\" % message)\n",
    "\n",
    "        if message == 'END':\n",
    "            break\n",
    "\n",
    "        stream = io.BytesIO()\n",
    "        camera.start_preview()\n",
    "        time.sleep(0.2)\n",
    "        \n",
    "        camera.capture(stream, format='jpeg')\n",
    "        socket.send(stream.getvalue())\n",
    "\n",
    "finally:\n",
    "    socket.close()\n",
    "    context.term()\n",
    "    print('Connection closed')"
   ]
  },
  {
   "cell_type": "code",
   "execution_count": 2,
   "metadata": {},
   "outputs": [
    {
     "name": "stdout",
     "output_type": "stream",
     "text": [
      "[master 3a6ad68]  updating 2017-05-11_interaction_clientside.py\n",
      " 3 files changed, 90 insertions(+), 16 deletions(-)\n",
      "Counting objects: 5, done.\n",
      "Delta compression using up to 8 threads.\n",
      "Compressing objects: 100% (5/5), done.\n",
      "Writing objects: 100% (5/5), 1.65 KiB | 0 bytes/s, done.\n",
      "Total 5 (delta 3), reused 0 (delta 0)\n",
      "remote: Resolving deltas: 100% (3/3), completed with 3 local objects.\u001b[K\n",
      "To https://github.com/pierrealbiges/INT-internship.git\n",
      "   81f6382..3a6ad68  master -> master\n"
     ]
    }
   ],
   "source": [
    "!git commit -am' updating 2017-05-11_interaction_clientside.py '; git push"
   ]
  },
  {
   "cell_type": "code",
   "execution_count": 3,
   "metadata": {},
   "outputs": [
    {
     "name": "stdout",
     "output_type": "stream",
     "text": [
      "From https://github.com/pierrealbiges/INT-internship\n",
      "   81f6382..3a6ad68  master     -> origin/master\n",
      "Updating 81f6382..3a6ad68\n",
      "Fast-forward\n",
      " 2017-05-11_interaction_clientside.ipynb | 80 +++++++++++++++++++++++++++++++--\n",
      " 2017-05-11_interaction_clientside.py    |  2 +-\n",
      " 2017-05-11_interaction_serverside.ipynb | 24 +++++-----\n",
      " 3 files changed, 90 insertions(+), 16 deletions(-)\n"
     ]
    }
   ],
   "source": [
    "!ssh pi@10.164.7.213 \"cd ~/INT-internship ; git pull \""
   ]
  },
  {
   "cell_type": "code",
   "execution_count": 4,
   "metadata": {},
   "outputs": [
    {
     "name": "stdout",
     "output_type": "stream",
     "text": [
      "^C\r\n",
      "Killed by signal 2.\r",
      "\r\n"
     ]
    }
   ],
   "source": [
    "!ssh pi@10.164.7.213 \"cd ~/INT-internship ; python3 2017-05-11_interaction_clientside.py \""
   ]
  },
  {
   "cell_type": "code",
   "execution_count": null,
   "metadata": {
    "collapsed": true
   },
   "outputs": [],
   "source": []
  }
 ],
 "metadata": {
  "kernelspec": {
   "display_name": "Python 3",
   "language": "python",
   "name": "python3"
  },
  "language_info": {
   "codemirror_mode": {
    "name": "ipython",
    "version": 3
   },
   "file_extension": ".py",
   "mimetype": "text/x-python",
   "name": "python",
   "nbconvert_exporter": "python",
   "pygments_lexer": "ipython3",
   "version": "3.6.1"
  }
 },
 "nbformat": 4,
 "nbformat_minor": 2
}
