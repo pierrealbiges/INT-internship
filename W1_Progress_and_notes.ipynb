{
 "cells": [
  {
   "cell_type": "markdown",
   "metadata": {},
   "source": [
    "# 2017-04-24 : learning to handle gits and GitHub"
   ]
  },
  {
   "cell_type": "markdown",
   "metadata": {},
   "source": [
    "+ Sign up to Github : Done\n",
    "\n",
    "Github tutorial (Create depositories, branchs and pull requests) : https://guides.github.com/activities/hello-world/  \n",
    "More informations about pull requests : https://guides.github.com/introduction/flow/  \n",
    "Remember to use the ISO 8601 time standard, more informations : https://en.wikipedia.org/wiki/ISO_8601  \n",
    "\n",
    "+ Creating a depository : Done\n",
    "\n",
    "More informations about creating a Github depository and using ipython notebooks : https://blog.invibe.net/posts/2014-06-18-stage-m1-chloe-pasturel-week-1.html\n",
    "\n",
    "+ Defining L. Perrinet as a collaborator : Done  \n",
    "+ Creating a Jupyter notebook : Done  \n",
    "+ Importing that notebook to Github : Done  \n",
    "+ Creating a progress notebook : Done, need to be regularly uptated\n",
    "\n",
    "More informations about git : https://doc.ubuntu-fr.org/git  \n",
    "More informations about pushing : https://www.grafikart.fr/formations/git/remote-push-pull\n",
    "\n",
    "+ Installing and initialising git : Done"
   ]
  },
  {
   "cell_type": "markdown",
   "metadata": {
    "collapsed": true
   },
   "source": [
    "    sudo apt install git  \n",
    "    cd \"directory path\"  \n",
    "    git init  \n",
    "    git remote add origin https://github.com/pierrealbiges/INT-internship.git"
   ]
  },
  {
   "cell_type": "markdown",
   "metadata": {},
   "source": [
    " + Pushing a document into github : Done\n"
   ]
  },
  {
   "cell_type": "markdown",
   "metadata": {},
   "source": [
    "    git push origin --all  \n",
    "    #Username for 'https://github.com': pierrealbiges  \n",
    "    #Password for 'https://pierrealbiges@github.com': ************  \n",
    "    #Everything up-to-date\n"
   ]
  },
  {
   "cell_type": "markdown",
   "metadata": {},
   "source": [
    "Problem : The push function don't show any error but the github isn't updated  \n",
    "Seem to work with the following commands (more informations on http://readwrite.com/2013/10/02/github-for-beginners-part-2/ and https://stackoverflow.com/questions/21264738/error-src-refspec-master-does-not-match-any) :"
   ]
  },
  {
   "cell_type": "markdown",
   "metadata": {
    "collapsed": true
   },
   "source": [
    "    git add \"directory path\"\n",
    "    git commit -m 'commit name'\n",
    "    git push origin master"
   ]
  },
  {
   "cell_type": "markdown",
   "metadata": {},
   "source": [
    "# 2017-04-25 : starting to write the program and learning about kernels "
   ]
  },
  {
   "cell_type": "markdown",
   "metadata": {},
   "source": [
    "More informations about markdown : https://daringfireball.net/projects/markdown/\n",
    "\n",
    "+ Learning to create lists using markdown : Done\n",
    "+ Learning how to bypass the login step during a git push : Done  \n",
    "\n",
    "Needed to create a ssh key and to link it to my GitHub account (more informations on https://help.github.com/articles/generating-a-new-ssh-key-and-adding-it-to-the-ssh-agent/ and https://help.github.com/articles/adding-a-new-ssh-key-to-your-github-account/ ).  \n",
    "Needed to change my remote url (aka. github url) to be \"git@github.com:username/repo.git\" instead of \"https://github.com/username/repo.git\" (more informations on http://stackoverflow.com/questions/6565357/git-push-requires-username-and-password)  \n",
    "\n",
    "+ Creating the notebook that'll contain the OpenRetina program : Done\n",
    "+ Writing a header for that notebook : Done\n",
    "\n",
    "More informations about headers and conventions on http://stackoverflow.com/questions/16220930/python-what-is-a-header and https://www.python.org/dev/peps/pep-0257/.  \n",
    "\n",
    "+ Copying the PhotoReceptor class : Done  \n",
    "\n",
    "PhotoReceptor class taken from : https://github.com/laurentperrinet/openRetina/blob/master/src/openRetina.py  \n",
    "More informations about __future __ on http://stackoverflow.com/questions/7075082/what-is-future-in-python-used-for-and-how-when-to-use-it-and-how-it-works  \n",
    "I still have questions about some lines of that class  \n",
    "More informations about classes : https://apprendre-python.com/page-apprendre-programmation-orientee-objet-poo-classes-python-cours-debutants  \n",
    "\n",
    "+ Preparing the Apple computer to run the program : Done\n",
    "\n",
    "Required to install Pip3, Jupyter and git (more informations on https://jupyter.readthedocs.io/en/latest/install.html).\n",
    "\n",
    "+ Trying to run the program on the Apple computer : In Progress\n",
    "\n",
    "Jupyter use Python3 while I want it to use Python2. I need to find a way to change that. Still,"
   ]
  },
  {
   "cell_type": "markdown",
   "metadata": {},
   "source": [
    "    python -v\n",
    "    #python 2.7.12+"
   ]
  },
  {
   "cell_type": "markdown",
   "metadata": {},
   "source": [
    "I needed to create a new Kernel in Jupyter using the lines (more informations : https://github.com/jupyter/jupyter/issues/71)"
   ]
  },
  {
   "cell_type": "markdown",
   "metadata": {},
   "source": [
    "    python2 -m pip install --upgrade ipykernel\n",
    "    python2 -m ipykernel install"
   ]
  },
  {
   "cell_type": "markdown",
   "metadata": {},
   "source": [
    "But the installation of ipykernel failed at first, asking the last pip version."
   ]
  },
  {
   "cell_type": "markdown",
   "metadata": {},
   "source": [
    "    pip install --upgrade pip"
   ]
  },
  {
   "cell_type": "markdown",
   "metadata": {},
   "source": [
    "Didn't work (it said the newest version was already installed) so I had to force it with :"
   ]
  },
  {
   "cell_type": "markdown",
   "metadata": {},
   "source": [
    "    sudo -H pip install --upgrade pip"
   ]
  },
  {
   "cell_type": "markdown",
   "metadata": {},
   "source": [
    "Then I was able to install ipykernel and Python2 on Jupyter."
   ]
  },
  {
   "cell_type": "markdown",
   "metadata": {},
   "source": [
    "# 2017-04-26 : debugging the program to make it finally work"
   ]
  },
  {
   "cell_type": "markdown",
   "metadata": {},
   "source": [
    "+ Installing the missing python libraries through Aptitude : Done\n",
    "+ Trying to run the program : Done\n",
    "\n",
    "Problem : Calling the PhotoReceptor class ask for more arguments (3) than given (1). Solved by defining h (720) and w (1280). These numbers were taken from the original script but could be updated as the native screen resolution of the used Mac computer is 1920x1200.  \n",
    "Problem : The PhotoReceptor class is correctly launched but output :"
   ]
  },
  {
   "cell_type": "markdown",
   "metadata": {},
   "source": [
    "    h = 720 w = 1280\n",
    "    Unable to capture video"
   ]
  },
  {
   "cell_type": "markdown",
   "metadata": {},
   "source": [
    "That may means that the program is unable to achieve the previous \"try\" and \"except\". Maybe picamera and cv2 are not installed on this computer?"
   ]
  },
  {
   "cell_type": "markdown",
   "metadata": {},
   "source": [
    "    python -c \"import pycamera\"\n",
    "    #Import error : No module named picamera\n",
    "    \n",
    "    python -c \"import cv2\"\n",
    "    echo $?\n",
    "    #0"
   ]
  },
  {
   "cell_type": "markdown",
   "metadata": {},
   "source": [
    "As expected, pycamera is not installed, but cv2 is. Then why is the code block using it not working?  \n",
    "The problem seems to come from the following line, as the \"try\" block is closing after it :"
   ]
  },
  {
   "cell_type": "markdown",
   "metadata": {},
   "source": [
    "    print(\"dim1 : {0}, dim2 : {1}\".format(self.h,self.w))"
   ]
  },
  {
   "cell_type": "markdown",
   "metadata": {},
   "source": [
    "More informations about format() : https://pyformat.info/  \n",
    "\n",
    "Learning more about OpenCV may help solve the problem (more informations on https://opencv-python-tutroals.readthedocs.io/en/latest/index.html)  \n",
    "The grab() function seems to not launch.\n",
    "\n",
    "A part of the problem was caused by undefined self.h and self.w. I had to add the following line (but the self.cap.set lines are still not working):"
   ]
  },
  {
   "cell_type": "markdown",
   "metadata": {},
   "source": [
    "    self.h, self.w = h, w"
   ]
  },
  {
   "cell_type": "markdown",
   "metadata": {},
   "source": [
    "A part of the problem was caused by utilisation of a different cv2 version than the source program (more informations on http://stackoverflow.com/questions/26559179/cap-prop-frame-count-constant-is-missing-in-opencv-cv2-python-module). While in it, functions were :"
   ]
  },
  {
   "cell_type": "markdown",
   "metadata": {},
   "source": [
    "    self.cap.set(cv2.CAP_PROP_FRAME_WIDTH, self.w)\n",
    "    self.cap.set(cv2.CAP_PROP_FRAME_HEIGHT, self.h)"
   ]
  },
  {
   "cell_type": "markdown",
   "metadata": {},
   "source": [
    "I needed to add some characters to fit with my version :"
   ]
  },
  {
   "cell_type": "markdown",
   "metadata": {},
   "source": [
    "    self.cap.set(cv2.cv.CV_CAP_PROP_FRAME_WIDTH, self.w)\n",
    "    self.cap.set(cv2.cv.CV_CAP_PROP_FRAME_HEIGHT, self.h)"
   ]
  },
  {
   "cell_type": "markdown",
   "metadata": {},
   "source": [
    "At that point, I still don't understand why the grab function and the computer camera are not launching.  \n",
    "When trying to launch grab() manually :"
   ]
  },
  {
   "cell_type": "markdown",
   "metadata": {},
   "source": [
    "    frame = frame_bgr[:, :, ::-1] --> #TypeError : 'NoneType' object has no attribute '__getitem__'"
   ]
  },
  {
   "cell_type": "markdown",
   "metadata": {},
   "source": [
    "So it seems that \"frame\" is not defined. So the following lines that are supposed to do it are not working (which may be caused by the camera not launching) :"
   ]
  },
  {
   "cell_type": "markdown",
   "metadata": {},
   "source": [
    "    ref, frame_bgr = self.cap.read()"
   ]
  },
  {
   "cell_type": "markdown",
   "metadata": {},
   "source": [
    "Other problem : the following block is activated one in two program execution, without any apparent reason : "
   ]
  },
  {
   "cell_type": "markdown",
   "metadata": {},
   "source": [
    "    if not self.cap.isOpened() : toto"
   ]
  },
  {
   "cell_type": "markdown",
   "metadata": {},
   "source": [
    "The video capture may not open/close correctly. It seemes to be solved by forcing the function grab() to launch. But it does not solve the primary problem.  \n",
    "I've read on the cv2 doc that converting the data from to BGR to RGB has to be done to keep the right colors on the image. It is necessary because cv2 and mathplotlib use different display modes. Deleting the line concerned erase the error plus allow the function close() to launch.  \n",
    "The program seems to run without errors, but no image is displayed so something is still not working."
   ]
  },
  {
   "cell_type": "markdown",
   "metadata": {},
   "source": [
    "    print(self.cap.read())\n",
    "    #(False, None)"
   ]
  },
  {
   "cell_type": "raw",
   "metadata": {},
   "source": [
    "So self.cap.read contain nothing. Everything seems to come from the fact that the camera is not opening.  \n",
    "The following program work if written in a independant .py, so the problem do not come from the camera :"
   ]
  },
  {
   "cell_type": "markdown",
   "metadata": {},
   "source": [
    "    import cv2\n",
    "    import numpy as np\n",
    "    \n",
    "    cap = cv2.VideoCapture(0)\n",
    "    while(True):\n",
    "        ret,frame = cap.read()\n",
    "        cv2.imshow('frame', frame)\n",
    "        if cv2.waitKey(1) & 0xFF == ord('q'):\n",
    "            break\n",
    "    cap.release()\n",
    "    cv2.destroyAllWindows()"
   ]
  },
  {
   "cell_type": "markdown",
   "metadata": {},
   "source": [
    "Implenting the while loop solved the problem. A window is opening and showing what the selected camera is recording.  \n",
    "A minor problem appened : I can cut the recording with the 'q' key, but it do not close the window. So I have to kill the kernel to stop the program."
   ]
  },
  {
   "cell_type": "markdown",
   "metadata": {},
   "source": [
    "# 2017-04-27 : simplifying the program and recording FPS"
   ]
  },
  {
   "cell_type": "markdown",
   "metadata": {},
   "source": [
    "+ Solving the cv2.destroyAllWindows() problem : Cancelled\n",
    "\n",
    "We modified the program and deleted all the references to Raspbian. I'll work without it for now.  \n",
    "Problem : Modifications introduced the matplotlib library into the program. Even it is installed on the computer and is working fine in a independant .py, the Jupyter kernel seems to not be able to import it.  \n",
    "\n",
    "    import matplotlib.pyplot as plt\n",
    "    #ImportError: No module named 'matplotlib'\n",
    "\n",
    "The .ipynb was saved using a python3 kernel, as used on M. Perrinet's computer. Switching to a python2 kernel solved the problem.  \n",
    "Later I may take a look at pygame : https://softwarerecs.stackexchange.com/questions/18134/python-library-for-taking-camera-images (Will it allow to obtain better performances?)  \n",
    "More informations about OpenCv v.3 : http://wiki.ros.org/opencv3#Python  \n",
    "\n",
    "+ Printing a frame per second (FPS or frame rate) after a recording : Done. Need to check if the frame rate recorded is correct\n",
    "\n",
    "I need to write a loop as following :\n",
    "\n",
    "    init()\n",
    "    while (not stop):\n",
    "        grab()\n",
    "        print FPS\n",
    "        key? \n",
    "            stop\n",
    "    close()\n",
    "    \n",
    "More informations about the closeAllWindows() bug in OpenCv : http://code.opencv.org/issues/2911  \n",
    "The FPS can be recorded with OpenCv through the following function, but it seems to only work for video files (more informations : https://www.learnopencv.com/how-to-find-frame-rate-or-frames-per-second-fps-in-opencv-python-cpp/) :\n",
    "\n",
    "    FPS = video.get(cv2.CAP_PROP_FPS)\n",
    "\n",
    "So I need to calculate it manually by dividing the number of frames recorded by the recording time. I may use the following functions but their outputs are always -1 for an unknown reason :\n",
    "\n",
    "    currentFrame = self.cap.get(cv2.cv.CV_CAP_PROP_POS_FRAMES)\n",
    "    currentTime = self.cap.get(cv2.cv.CV_CAP_PROP_POS_MSEC)\n",
    "    \n",
    "I manually recorded the number of frames and the recording time using two methods, and both seems to record 7 fps. I don't know if this result is correct as it seems a bit too low to me for a integrated camera.  \n",
    "The first method is predefining the recording time and capture the number of frames."
   ]
  },
  {
   "cell_type": "code",
   "execution_count": null,
   "metadata": {
    "collapsed": true
   },
   "outputs": [],
   "source": [
    "import cv2\n",
    "\n",
    "Ph = PhotoReceptor(w=1280, h=720)\n",
    "Rec = True\n",
    "\n",
    "start = time.time()\n",
    "nb_frames = 0\n",
    "\n",
    "while(Rec == True):\n",
    "    end = time.time()\n",
    "    seconds = end - start\n",
    "\n",
    "    Ph.grab()\n",
    "    frame = Ph.grab()\n",
    "    nb_frames += 1\n",
    "\n",
    "    if seconds >= 5 :\n",
    "        Rec = False\n",
    "Ph.close()\n",
    "\n",
    "fps = nb_frames // seconds\n",
    "print ('Frame rate :',fps)"
   ]
  },
  {
   "cell_type": "markdown",
   "metadata": {},
   "source": [
    "The second method is predifining the number of frames that'll be recorded and capture the time necessary to do so."
   ]
  },
  {
   "cell_type": "code",
   "execution_count": null,
   "metadata": {
    "collapsed": true
   },
   "outputs": [],
   "source": [
    "import cv2\n",
    "\n",
    "Ph = PhotoReceptor(w=1280, h=720)\n",
    "\n",
    "start = time.time()\n",
    "num_frames = 50\n",
    "\n",
    "for i in range(0,num_frames):\n",
    "    Ph.grab()\n",
    "    frame = Ph.grab()\n",
    "    \n",
    "    cv2.imshow('Camera frame',frame)\n",
    "    if cv2.waitKey(1) & 0xFF == ord('q'):\n",
    "        break\n",
    "    end = time.time()\n",
    "    seconds = end - start\n",
    "Ph.close()\n",
    "\n",
    "fps = num_frames // seconds\n",
    "print (fps)"
   ]
  }
 ],
 "metadata": {
  "kernelspec": {
   "display_name": "Python 2",
   "language": "python",
   "name": "python2"
  },
  "language_info": {
   "codemirror_mode": {
    "name": "ipython",
    "version": 2
   },
   "file_extension": ".py",
   "mimetype": "text/x-python",
   "name": "python",
   "nbconvert_exporter": "python",
   "pygments_lexer": "ipython2",
   "version": "2.7.12+"
  }
 },
 "nbformat": 4,
 "nbformat_minor": 2
}
