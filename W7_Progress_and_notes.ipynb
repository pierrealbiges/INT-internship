{
 "cells": [
  {
   "cell_type": "markdown",
   "metadata": {},
   "source": [
    "# 2017-06-09\n",
    "---\n",
    "That week document will be short because I had the possibility to go to the lab only on friday.  \n",
    "During the few last days, I worked anyway on my figures and created the three that I was missing. I added them in my poster.  \n",
    "\n",
    "I also discovered a big issue : I built my poster as an A0 landscape, while it is asked as a A0 portrait. I need to change that and rework all my sections around the new orientation.  \n",
    "To do so, I need to take a look at the *sciposter* package documentation (available here : http://distrib-coffee.ipsl.jussieu.fr/pub/mirrors/ctan/macros/latex/contrib/sciposter/scipostermanual.pdf).  \n",
    "\n",
    "I understood why the columns looked broken (big blank spaces between paragraphs) : when I use the *\\columnbreak* command line, LaTeX tries to fill the braked columns, so it stretch its content.  \n",
    "\n",
    "I wanted to remove the numbers before each section/subsection, and I easily did by going from :\n",
    "\n",
    "    \\section{Section title}\n",
    "    \n",
    "To : \n",
    "\n",
    "    \\section*{Section title}"
   ]
  },
  {
   "cell_type": "markdown",
   "metadata": {},
   "source": [
    "# Outline\n",
    "---\n",
    "- [ ] Introduce comparaisons between frames to only code moving pixels\n",
    "    - [ ] Solve an issue : incomplete processing\n",
    "- [ ] Implement the scripts into OpenRetina\n",
    "- [ ] Make the Pi do the GC layer work \n",
    "- [ ] [OPT] Add a way to delete the video file on the Pi after sending and processing are done.\n",
    "- [ ] [OPT] Try to find the optimal chunk size for a faster file transfer.\n",
    "- [ ] [OPT] Rewrite the scripts to introduce classes\n",
    "- [ ] [OPT] Dive into the video processing steps to find out when the sixth second (if the video is 5s long) is added\n",
    "\n",
    "Going further :\n",
    "- [ ] Study the program bottlenecks (Where does the program lose computing time?)\n",
    "    - [ ] Add flags to monitors each script\n",
    "- [ ] Switch from synchronous (phrs grabbing and sending frames when receiving other layers requests) to asynchronous (phrs grabbing continously and sending frames when requested) processes\n",
    "- [ ] Add a way to use external videos (e.g from Youtube) as a video input\n",
    "\n",
    "Poster :\n",
    "- [ ] Make pictures for each section\n",
    "    - [x] Unprocessed picture\n",
    "        - [ ] Wihout the frame\n",
    "    - [x] Processed (same) picture\n",
    "        - [ ] Wihout the frame\n",
    "    - [x] Benchmarking\n",
    "        - [x] Solve an issue : Move the legends to the bottom-left of the figure\n",
    "    - [x] Multilayered architecture\n",
    "    - [x] Biological/Artificial systems comparison    \n",
    "    - [x] Python/GitHub networking\n",
    "- [x] Solve an issue : Non-independant columns\n",
    "- [x] Add all figures to the poster\n",
    "- [x] Solve an issue : Go from landscape to portrait\n",
    "- [x] Go from numbered sections to unnumbered sections"
   ]
  }
 ],
 "metadata": {
  "kernelspec": {
   "display_name": "Python 3",
   "language": "python",
   "name": "python3"
  },
  "language_info": {
   "codemirror_mode": {
    "name": "ipython",
    "version": 3
   },
   "file_extension": ".py",
   "mimetype": "text/x-python",
   "name": "python",
   "nbconvert_exporter": "python",
   "pygments_lexer": "ipython3",
   "version": "3.5.2+"
  }
 },
 "nbformat": 4,
 "nbformat_minor": 2
}
