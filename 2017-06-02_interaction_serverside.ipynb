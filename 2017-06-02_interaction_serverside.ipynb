{
 "cells": [
  {
   "cell_type": "code",
   "execution_count": 21,
   "metadata": {
    "scrolled": true
   },
   "outputs": [
    {
     "name": "stdout",
     "output_type": "stream",
     "text": [
      "Connecting to server...\n",
      "Server connected\n",
      "Sending request n.0...\n",
      "Received reply n.0 [ 179611 ]\n",
      "(480, 640, 3)\n",
      "Sending request n.1...\n",
      "Received reply n.1 [ 176958 ]\n",
      "(480, 640, 3)\n",
      "Sending request n.2...\n",
      "Received reply n.2 [ 178488 ]\n",
      "(480, 640, 3)\n",
      "Sending request n.3...\n",
      "Received reply n.3 [ 177206 ]\n",
      "(480, 640, 3)\n",
      "Sending request n.4...\n",
      "Received reply n.4 [ 176518 ]\n",
      "(480, 640, 3)\n",
      "\n",
      "No more requests, sending kill signal\n",
      "\n",
      "Socket and context closed\n"
     ]
    }
   ],
   "source": [
    "''' Computer side'''\n",
    "\n",
    "import zmq\n",
    "import io\n",
    "from PIL import Image\n",
    "import numpy as np\n",
    "\n",
    "try: \n",
    "    context = zmq.Context()\n",
    "    print('Connecting to server...')\n",
    "    socket = context.socket(zmq.REQ)\n",
    "    socket.connect(\"tcp://10.164.7.213:5555\")\n",
    "    print('Server connected')\n",
    " \n",
    "    pic = open(\"pic_picam.png\", \"r+b\")\n",
    "    \n",
    "    for request in range(5):\n",
    "        print(\"Sending request n.%s...\" % request)\n",
    "        socket.send(b'Client camera request')\n",
    "\n",
    "        image_stream = io.BytesIO()\n",
    "        message = socket.recv()\n",
    "        print(\"Received reply n.%s [ %s ]\" % (request, len(message)))\n",
    "        \n",
    "        image_stream.write(message)\n",
    "        image_stream.seek(0)\n",
    "\n",
    "        image = Image.open(image_stream)        \n",
    "        array = np.array(image.getdata()).reshape(image.size[1], image.size[0], 3)\n",
    "        print(array.shape)\n",
    "\n",
    "finally:         \n",
    "    print('\\nNo more requests, sending kill signal')\n",
    "    socket.send(b'END')\n",
    "    \n",
    "    socket.close()\n",
    "    context.term()\n",
    "    print('\\nSocket and context closed')"
   ]
  },
  {
   "cell_type": "markdown",
   "metadata": {},
   "source": [
    "# Grabbing the picture and creating a unprocessed and/or processed file from it\n",
    "---"
   ]
  },
  {
   "cell_type": "code",
   "execution_count": 23,
   "metadata": {},
   "outputs": [
    {
     "name": "stdout",
     "output_type": "stream",
     "text": [
      "[[[13  9  0]\n",
      "  [13  9  0]\n",
      "  [13  9  0]\n",
      "  ..., \n",
      "  [27 31 17]\n",
      "  [30 32 18]\n",
      "  [30 32 18]]\n",
      "\n",
      " [[12  8  0]\n",
      "  [14 10  0]\n",
      "  [12  8  0]\n",
      "  ..., \n",
      "  [29 33 19]\n",
      "  [30 32 18]\n",
      "  [29 31 17]]\n",
      "\n",
      " [[12  9  0]\n",
      "  [11  8  0]\n",
      "  [11  8  0]\n",
      "  ..., \n",
      "  [28 32 18]\n",
      "  [27 31 17]\n",
      "  [26 30 16]]\n",
      "\n",
      " ..., \n",
      " [[29 23  9]\n",
      "  [29 23  9]\n",
      "  [29 23  9]\n",
      "  ..., \n",
      "  [48 47 27]\n",
      "  [49 48 27]\n",
      "  [50 50 26]]\n",
      "\n",
      " [[25 21  9]\n",
      "  [27 23 11]\n",
      "  [30 24 12]\n",
      "  ..., \n",
      "  [45 47 26]\n",
      "  [47 49 27]\n",
      "  [47 49 27]]\n",
      "\n",
      " [[27 25 12]\n",
      "  [26 24 11]\n",
      "  [30 24 12]\n",
      "  ..., \n",
      "  [45 47 26]\n",
      "  [47 49 27]\n",
      "  [45 47 25]]]\n",
      "[[[255   0   0]\n",
      "  [255   0   0]\n",
      "  [255   0   0]\n",
      "  ..., \n",
      "  [255   0   0]\n",
      "  [255   0   0]\n",
      "  [255   0   0]]\n",
      "\n",
      " [[255   0   0]\n",
      "  [255   0   0]\n",
      "  [255   0   0]\n",
      "  ..., \n",
      "  [255   0   0]\n",
      "  [255   0   0]\n",
      "  [255   0   0]]\n",
      "\n",
      " [[255   0   0]\n",
      "  [255   0   0]\n",
      "  [255   0   0]\n",
      "  ..., \n",
      "  [255   0   0]\n",
      "  [255   0   0]\n",
      "  [255   0   0]]\n",
      "\n",
      " ..., \n",
      " [[255   0   0]\n",
      "  [255   0   0]\n",
      "  [255   0   0]\n",
      "  ..., \n",
      "  [  0   0   0]\n",
      "  [  0   0   0]\n",
      "  [  0   0   0]]\n",
      "\n",
      " [[255   0   0]\n",
      "  [255   0   0]\n",
      "  [255   0   0]\n",
      "  ..., \n",
      "  [  0   0   0]\n",
      "  [  0   0   0]\n",
      "  [  0   0   0]]\n",
      "\n",
      " [[255   0   0]\n",
      "  [255   0   0]\n",
      "  [255   0   0]\n",
      "  ..., \n",
      "  [  0   0   0]\n",
      "  [  0   0   0]\n",
      "  [  0   0   0]]]\n"
     ]
    },
    {
     "data": {
      "image/png": "[encoded data removed]",
      "text/plain": [
       "<matplotlib.figure.Figure at 0x7fba98743390>"
      ]
     },
     "metadata": {},
     "output_type": "display_data"
    }
   ],
   "source": [
    "%matplotlib inline\n",
    "\n",
    "import numpy as np\n",
    "import matplotlib.pyplot as plt\n",
    "import matplotlib.image as mpimg\n",
    "\n",
    "### Unprocessed file ###\n",
    "#img = plt.imshow(255-array*1.)\n",
    "#plt.savefig('unproc_fig.png', dpi=1000) #dpi=1000 output a high-quality file but greatly increase processing time\n",
    "\n",
    "### Processed file ###\n",
    "h, w = 480, 640\n",
    "sparseness = 0.35\n",
    "rgb2gray = [0.2989, 0.5870, 0.1140]\n",
    "\n",
    "n_datapoints = int(np.ceil(sparseness*h*w)) #Calculating the maximum number of data points according to these paramaters\n",
    "\n",
    "frame = array.astype(np.float)          #Convert the data to float (modifications will be easier)\n",
    "frame *= np.array(rgb2gray)[np.newaxis, np.newaxis, :]\n",
    "frame = frame.sum(axis=-1)              #Sum the data along an axis (negative : count from the last to the first axis)\n",
    "\n",
    "data_ = np.argsort(frame.ravel()) #Put the data into one dimension and sort it; return the indices (initial position #)\n",
    "data = np.hstack((data_[:n_datapoints], data_[-n_datapoints:]))\n",
    "\n",
    "frame = np.zeros((h, w, 3), dtype = np.uint8)\n",
    "frame[:, :, 0][np.unravel_index(data[:n_datapoints], (h, w))] = 255\n",
    "frame[:, :, -1][np.unravel_index(data[-n_datapoints:], (h, w))] = 255\n",
    "\n",
    "img = plt.imshow(frame)\n",
    "plt.savefig('proc_fig.png', dpi=1000) #dpi=1000 output a high-quality file but greatly increase processing time"
   ]
  },
  {
   "cell_type": "code",
   "execution_count": 5,
   "metadata": {},
   "outputs": [
    {
     "data": {
      "text/plain": [
       "250"
      ]
     },
     "execution_count": 5,
     "metadata": {},
     "output_type": "execute_result"
    }
   ],
   "source": [
    "print(array.min(), array.max())"
   ]
  }
 ],
 "metadata": {
  "kernelspec": {
   "display_name": "Python 3",
   "language": "python",
   "name": "python3"
  },
  "language_info": {
   "codemirror_mode": {
    "name": "ipython",
    "version": 3
   },
   "file_extension": ".py",
   "mimetype": "text/x-python",
   "name": "python",
   "nbconvert_exporter": "python",
   "pygments_lexer": "ipython3",
   "version": "3.6.1"
  }
 },
 "nbformat": 4,
 "nbformat_minor": 2
}
