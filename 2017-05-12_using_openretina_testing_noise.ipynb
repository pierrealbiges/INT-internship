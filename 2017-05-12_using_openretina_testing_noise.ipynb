{
 "cells": [
  {
   "cell_type": "markdown",
   "metadata": {
    "deletable": true,
    "editable": true
   },
   "source": [
    "# Testing OpenRetina with noise\n",
    "\n",
    "\n",
    "Launching on the same computer \n",
    "- a client generating noise and sending it over the network,\n",
    "- a server displaying it on the host's display\n"
   ]
  },
  {
   "cell_type": "code",
   "execution_count": 1,
   "metadata": {
    "collapsed": true,
    "deletable": true,
    "editable": true
   },
   "outputs": [],
   "source": [
    "%load_ext autoreload\n",
    "%autoreload 2"
   ]
  },
  {
   "cell_type": "code",
   "execution_count": 2,
   "metadata": {
    "collapsed": false,
    "deletable": true,
    "editable": true
   },
   "outputs": [
    {
     "name": "stdout",
     "output_type": "stream",
     "text": [
      "Overwriting 2017-05-12_using_openretina_testing_noise.py\n"
     ]
    }
   ],
   "source": [
    "%%writefile 2017-05-12_using_openretina_testing_noise.py\n",
    "#! /usr/bin/env python3\n",
    "# -*- coding: utf8 -*-\n",
    "from __future__ import division, print_function\n",
    "\"\"\"\n",
    "openRetina : a photoreceptor layer\n",
    "See https://github.com/laurentperrinet/openRetina\n",
    "\"\"\"\n",
    "__author__ = \"(c) Pierre Albiges, Victor Boutin & Laurent Perrinet INT - CNRS\"\n",
    "\n",
    "from openRetina import openRetina\n",
    "\n",
    "phrs = openRetina(model=dict(layer='phrs', # label for this layer\n",
    "                             input=['noise'], # input: can be the camera, noise, a movie (TODO)\n",
    "                             output=['stream'] # output: can be stream, display, ...\n",
    "                             ))\n",
    "phrs.run()"
   ]
  },
  {
   "cell_type": "raw",
   "metadata": {
    "deletable": true,
    "editable": true
   },
   "source": [
    "!ipython3 2017-05-12_using_openretina_testing_noise.py"
   ]
  },
  {
   "cell_type": "code",
   "execution_count": 3,
   "metadata": {
    "collapsed": true,
    "deletable": true,
    "editable": true
   },
   "outputs": [],
   "source": [
    "!chmod +x 2017-05-12_using_openretina_testing_noise.py "
   ]
  },
  {
   "cell_type": "code",
   "execution_count": 4,
   "metadata": {
    "collapsed": false,
    "deletable": true,
    "editable": true
   },
   "outputs": [
    {
     "name": "stdout",
     "output_type": "stream",
     "text": [
      "Overwriting 2017-05-12_using_openretina_testing_noise_srv.py\n"
     ]
    }
   ],
   "source": [
    "%%writefile 2017-05-12_using_openretina_testing_noise_srv.py\n",
    "\"\"\"\n",
    "openRetina : a basic thalamic layer\n",
    "See https://github.com/laurentperrinet/openRetina\n",
    "\"\"\"\n",
    "__author__ = \"(c) Victor Boutin & Laurent Perrinet INT - CNRS\"\n",
    "\n",
    "import subprocess\n",
    "p = subprocess.Popen(['./2017-05-12_using_openretina_testing_noise.py'])\n",
    "\n",
    "from openRetina import openRetina\n",
    "noise = openRetina(model=dict(layer='noise', # label for this layer\n",
    "                                 input=['stream'], # input: can be the camera, noise, a movie (TODO)\n",
    "                                 output=['display'], # output: can be stream, display, capture,...\n",
    "                                 T_SIM=4))\n",
    "noise.run()"
   ]
  },
  {
   "cell_type": "code",
   "execution_count": 5,
   "metadata": {
    "collapsed": false,
    "deletable": true,
    "editable": true
   },
   "outputs": [
    {
     "name": "stdout",
     "output_type": "stream",
     "text": [
      "\u001b]0;IPython: research/PA_INT-internship\u0007Connecting to retina with port 5566\n",
      "Running retina on port:  5566\n",
      "2017-05-19 17:32:37.782 Python[54893:37363985] ApplePersistenceIgnoreState: Existing state will not be touched. New state will be written to /var/folders/3p/m0g52j9j69z3gj8ktpgg1dm00000gn/T/org.python.python.savedState\n",
      "/usr/local/lib/python3.6/site-packages/IPython/config.py:13: ShimWarning: The `IPython.config` package has been deprecated since IPython 4.0. You should import from traitlets.config instead.\n",
      "  \"You should import from traitlets.config instead.\", ShimWarning)\n",
      "Duration:  0.018646955490112305\n",
      "Sending request\n",
      "Received request b'REQ'\n",
      "Image shape:  (1280, 720, 3) Image min:  0 Image max: 254\n",
      "Duration:  0.252608060836792\n",
      "Sending request\n",
      "Received request b'REQ'\n",
      "Image shape:  (1280, 720, 3) Image min:  0 Image max: 254\n",
      "Duration:  0.41867494583129883\n",
      "Sending request\n",
      "Received request b'REQ'\n",
      "Image shape:  (1280, 720, 3) Image min:  0 Image max: 254\n",
      "Duration:  0.5297091007232666\n",
      "Sending request\n",
      "Received request b'REQ'\n",
      "Image shape:  (1280, 720, 3) Image min:  0 Image max: 254\n",
      "Duration:  0.6392149925231934\n",
      "Sending request\n",
      "Received request b'REQ'\n",
      "Image shape:  (1280, 720, 3) Image min:  0 Image max: 254\n",
      "Duration:  0.7356960773468018\n",
      "Sending request\n",
      "Received request b'REQ'\n",
      "Image shape:  (1280, 720, 3) Image min:  0 Image max: 254\n",
      "Duration:  0.8216209411621094\n",
      "Sending request\n",
      "Received request b'REQ'\n",
      "Image shape:  (1280, 720, 3) Image min:  0 Image max: 254\n",
      "Duration:  0.9057028293609619\n",
      "Sending request\n",
      "Received request b'REQ'\n",
      "Image shape:  (1280, 720, 3) Image min:  0 Image max: 254\n",
      "Duration:  0.9934539794921875\n",
      "Sending request\n",
      "Received request b'REQ'\n",
      "Image shape:  (1280, 720, 3) Image min:  0 Image max: 254\n",
      "Duration:  1.0858359336853027\n",
      "Sending request\n",
      "Received request b'REQ'\n",
      "Image shape:  (1280, 720, 3) Image min:  0 Image max: 254\n",
      "Duration:  1.1737620830535889\n",
      "Sending request\n",
      "Received request b'REQ'\n",
      "Image shape:  (1280, 720, 3) Image min:  0 Image max: 254\n",
      "Duration:  1.2607438564300537\n",
      "Sending request\n",
      "Received request b'REQ'\n",
      "Image shape:  (1280, 720, 3) Image min:  0 Image max: 254\n",
      "Duration:  1.3485040664672852\n",
      "Sending request\n",
      "Received request b'REQ'\n",
      "Image shape:  (1280, 720, 3) Image min:  0 Image max: 254\n",
      "Duration:  1.4374699592590332\n",
      "Sending request\n",
      "Received request b'REQ'\n",
      "Image shape:  (1280, 720, 3) Image min:  0 Image max: 254\n",
      "Duration:  1.526522159576416\n",
      "Sending request\n",
      "Received request b'REQ'\n",
      "Image shape:  (1280, 720, 3) Image min:  0 Image max: 254\n",
      "Duration:  1.613481044769287\n",
      "Sending request\n",
      "Received request b'REQ'\n",
      "Image shape:  (1280, 720, 3) Image min:  0 Image max: 254\n",
      "Duration:  1.7009449005126953\n",
      "Sending request\n",
      "Received request b'REQ'\n",
      "Image shape:  (1280, 720, 3) Image min:  0 Image max: 254\n",
      "Duration:  1.7887248992919922\n",
      "Sending request\n",
      "Received request b'REQ'\n",
      "Image shape:  (1280, 720, 3) Image min:  0 Image max: 254\n",
      "Duration:  1.8769500255584717\n",
      "Sending request\n",
      "Received request b'REQ'\n",
      "Image shape:  (1280, 720, 3) Image min:  0 Image max: 254\n",
      "Duration:  1.96822190284729\n",
      "Sending request\n",
      "Received request b'REQ'\n",
      "Image shape:  (1280, 720, 3) Image min:  0 Image max: 254\n",
      "Duration:  2.0539259910583496\n",
      "Sending request\n",
      "Received request b'REQ'\n",
      "Image shape:  (1280, 720, 3) Image min:  0 Image max: 254\n",
      "Duration:  2.1446940898895264\n",
      "Sending request\n",
      "Received request b'REQ'\n",
      "Image shape:  (1280, 720, 3) Image min:  0 Image max: 254\n",
      "Duration:  2.2351748943328857\n",
      "Sending request\n",
      "Received request b'REQ'\n",
      "Image shape:  (1280, 720, 3) Image min:  0 Image max: 254\n",
      "Duration:  2.323683023452759\n",
      "Sending request\n",
      "Received request b'REQ'\n",
      "Image shape:  (1280, 720, 3) Image min:  0 Image max: 254\n",
      "Duration:  2.4114959239959717\n",
      "Sending request\n",
      "Received request b'REQ'\n",
      "Image shape:  (1280, 720, 3) Image min:  0 Image max: 254\n",
      "Duration:  2.501246929168701\n",
      "Sending request\n",
      "Received request b'REQ'\n",
      "Image shape:  (1280, 720, 3) Image min:  0 Image max: 254\n",
      "Duration:  2.5878288745880127\n",
      "Sending request\n",
      "Received request b'REQ'\n",
      "Image shape:  (1280, 720, 3) Image min:  0 Image max: 254\n",
      "Received request b'RIP'\n"
     ]
    }
   ],
   "source": [
    "!ipython3 2017-05-12_using_openretina_testing_noise_srv.py"
   ]
  }
 ],
 "metadata": {
  "kernelspec": {
   "display_name": "Python 3",
   "language": "python",
   "name": "python3"
  },
  "language_info": {
   "codemirror_mode": {
    "name": "ipython",
    "version": 3
   },
   "file_extension": ".py",
   "mimetype": "text/x-python",
   "name": "python",
   "nbconvert_exporter": "python",
   "pygments_lexer": "ipython3",
   "version": "3.6.1"
  }
 },
 "nbformat": 4,
 "nbformat_minor": 2
}
