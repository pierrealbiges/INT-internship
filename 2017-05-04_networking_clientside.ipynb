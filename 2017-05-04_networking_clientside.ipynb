{
 "cells": [
  {
   "cell_type": "code",
   "execution_count": null,
   "metadata": {
    "collapsed": true
   },
   "outputs": [],
   "source": [
    "import io\n",
    "import socket\n",
    "import struct\n",
    "import time\n",
    "import picamera\n",
    "\n",
    "client.socket = socket.socket()\n",
    "client.socket.connect(('Ubunte_server',8000))\n",
    "\n",
    "connection = client_socket.makefile('wb')\n",
    "try:\n",
    "    camera = picamera.PiCamera()\n",
    "    camera.resolution = (640, 480)\n",
    "    \n",
    "    camera.start_preview()\n",
    "    time.sleep(2)\n",
    "    \n",
    "    start = time.time()\n",
    "    stream = io.BytesIO()\n",
    "    for capture in camera.capture_continuous(stream, 'jpeg'):\n",
    "        connection.write(struct.pack('<L', stream.tell()))\n",
    "        connection.flush\n",
    "        \n",
    "        stream.seek(0)\n",
    "        connection.write(stream.read())\n",
    "        \n",
    "        if time.time() - start >= 5:\n",
    "            break\n",
    "        \n",
    "        stream.seek(0)\n",
    "        stream.truncate()\n",
    "        \n",
    "    connection.write(struct.pack('<L', 0))\n",
    "\n",
    "finally:\n",
    "    connection.close()\n",
    "    client_socket.close()"
   ]
  }
 ],
 "metadata": {
  "kernelspec": {
   "display_name": "Python 2",
   "language": "python",
   "name": "python2"
  },
  "language_info": {
   "codemirror_mode": {
    "name": "ipython",
    "version": 2
   },
   "file_extension": ".py",
   "mimetype": "text/x-python",
   "name": "python",
   "nbconvert_exporter": "python",
   "pygments_lexer": "ipython2",
   "version": "2.7.12+"
  }
 },
 "nbformat": 4,
 "nbformat_minor": 2
}
