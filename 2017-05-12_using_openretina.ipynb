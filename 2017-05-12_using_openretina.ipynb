{
 "cells": [
  {
   "cell_type": "code",
   "execution_count": 1,
   "metadata": {
    "collapsed": true
   },
   "outputs": [],
   "source": [
    "%load_ext autoreload\n",
    "%autoreload 2"
   ]
  },
  {
   "cell_type": "code",
   "execution_count": 2,
   "metadata": {},
   "outputs": [
    {
     "name": "stdout",
     "output_type": "stream",
     "text": [
      "Overwriting 2017-05-12_using_openretina.py\n"
     ]
    }
   ],
   "source": [
    "%%writefile 2017-05-12_using_openretina.py\n",
    "#! /usr/bin/env python3\n",
    "# -*- coding: utf8 -*-\n",
    "from __future__ import division, print_function\n",
    "\"\"\"\n",
    "openRetina : a photoreceptor layer\n",
    "See https://github.com/laurentperrinet/openRetina\n",
    "\"\"\"\n",
    "__author__ = \"(c) Pierre Albiges, Victor Boutin & Laurent Perrinet INT - CNRS\"\n",
    "\n",
    "from openRetina import openRetina\n",
    "phrs = openRetina(model=dict(layer='phrs', # label for this layer\n",
    "                             input=['camera'], # input: can be the camera, noise, a movie (TODO)\n",
    "                             output=['stream'] # output: can be stream, display, ...\n",
    "                             ))\n",
    "phrs.run()"
   ]
  },
  {
   "cell_type": "raw",
   "metadata": {},
   "source": [
    "!git add 2017-05-12_using_op*\n",
    "!git status\n",
    "!git add 2017-05-12_using_openretina.py"
   ]
  },
  {
   "cell_type": "code",
   "execution_count": 3,
   "metadata": {},
   "outputs": [],
   "source": [
    "!git diff 2017-05-12_using_openretina.py"
   ]
  },
  {
   "cell_type": "code",
   "execution_count": 4,
   "metadata": {},
   "outputs": [
    {
     "name": "stdout",
     "output_type": "stream",
     "text": [
      "[master 31785d4]  updating 2017-05-12_using_openretina.py\n",
      " 1 file changed, 23 insertions(+), 55 deletions(-)\n",
      "Counting objects: 3, done.\n",
      "Delta compression using up to 8 threads.\n",
      "Compressing objects: 100% (3/3), done.\n",
      "Writing objects: 100% (3/3), 619 bytes | 0 bytes/s, done.\n",
      "Total 3 (delta 2), reused 0 (delta 0)\n",
      "remote: Resolving deltas: 100% (2/2), completed with 2 local objects.\u001b[K\n",
      "To https://github.com/pierrealbiges/INT-internship.git\n",
      "   b3ef815..31785d4  master -> master\n"
     ]
    }
   ],
   "source": [
    "!git commit -am' updating 2017-05-12_using_openretina.py '; git push"
   ]
  },
  {
   "cell_type": "code",
   "execution_count": 5,
   "metadata": {},
   "outputs": [
    {
     "name": "stdout",
     "output_type": "stream",
     "text": [
      "From https://github.com/laurentperrinet/openRetina\n",
      "   add70f6..fb5cdcc  master     -> origin/master\n",
      "Updating add70f6..fb5cdcc\n",
      "Fast-forward\n",
      " dev/noise_display.py     |  2 +-\n",
      " dev/photoreceptors.py    |  2 +-\n",
      " dev/retina.py            |  2 +-\n",
      " dev/thalamus.py          |  2 +-\n",
      " dev/thalamus_receiver.py |  2 +-\n",
      " src/GCB.py               |  2 +-\n",
      " src/__init__.py          | 12 ++++++------\n",
      " src/old/GCB_old.py       |  2 +-\n",
      " src/openRetina.py        |  5 ++---\n",
      " 9 files changed, 15 insertions(+), 16 deletions(-)\n",
      "From https://github.com/pierrealbiges/INT-internship\n",
      "   90b11df..31785d4  master     -> origin/master\n",
      "Updating 90b11df..31785d4\n",
      "Fast-forward\n",
      " 2017-05-12_using_openretina.ipynb        | 169 +++++++++++++++++++++++++++++\n",
      " 2017-05-12_using_openretina_server.ipynb | 175 +++++++++++++++++++++++++++++++\n",
      " W3_Progress_and_notes.ipynb              |   2 +\n",
      " 3 files changed, 346 insertions(+)\n",
      " create mode 100644 2017-05-12_using_openretina.ipynb\n",
      " create mode 100644 2017-05-12_using_openretina_server.ipynb\n"
     ]
    }
   ],
   "source": [
    "!ssh pi@10.164.7.213 \"cd ~/openRetina ; git pull; cd ~/INT-internship ; git pull \""
   ]
  },
  {
   "cell_type": "code",
   "execution_count": 6,
   "metadata": {},
   "outputs": [
    {
     "name": "stdout",
     "output_type": "stream",
     "text": [
      "💀  Could not load visualisation\r\n",
      "1280\r\n",
      "720\r\n",
      "Running retina on port:  5566\r\n",
      "Traceback (most recent call last):\r\n",
      "  File \"2017-05-12_using_openretina.py\", line 15, in <module>\r\n",
      "    phrs.run()\r\n",
      "  File \"/home/pi/openRetina/src/openRetina.py\", line 167, in run\r\n",
      "    self.code(stream)#, connection)\r\n",
      "  File \"/home/pi/openRetina/src/openRetina.py\", line 259, in code\r\n",
      "    image = image.astype(np.float)\r\n",
      "AttributeError: '_io.BytesIO' object has no attribute 'astype'\r\n"
     ]
    }
   ],
   "source": [
    "!ssh pi@10.164.7.213 \"cd ~/INT-internship ; python3 2017-05-12_using_openretina.py \""
   ]
  },
  {
   "cell_type": "code",
   "execution_count": 7,
   "metadata": {},
   "outputs": [
    {
     "name": "stdout",
     "output_type": "stream",
     "text": [
      "python3: no process found\r\n"
     ]
    }
   ],
   "source": [
    "!ssh pi@10.164.7.213 \"killall python3\""
   ]
  }
 ],
 "metadata": {
  "kernelspec": {
   "display_name": "Python 3",
   "language": "python",
   "name": "python3"
  },
  "language_info": {
   "codemirror_mode": {
    "name": "ipython",
    "version": 3
   },
   "file_extension": ".py",
   "mimetype": "text/x-python",
   "name": "python",
   "nbconvert_exporter": "python",
   "pygments_lexer": "ipython3",
   "version": "3.6.1"
  }
 },
 "nbformat": 4,
 "nbformat_minor": 2
}
