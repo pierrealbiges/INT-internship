{
 "cells": [
  {
   "cell_type": "markdown",
   "metadata": {},
   "source": [
    "# 2017-05-28\n",
    "---\n",
    "I need find a way to bypass the *fl_image()* function limitations.\n",
    "It's easy with MoviePy to retrieve the video frame rate :\n",
    "\n",
    "    print(video.fps)\n",
    "    print(processed_video.fps)\n",
    "    ================\n",
    "    25.0\n",
    "    25.0\n",
    "    \n",
    "I'll try to build the script into a class, to save parameters between each frame iteration. Or use openCV again (but we try to use it as little as possible to avoid compiling as mush as possible).  \n",
    "I need to integrate : recording of a video file by the Pi, sending that file -frame by frame- to server upon request, that may (or may not) do some processing."
   ]
  },
  {
   "cell_type": "markdown",
   "metadata": {},
   "source": [
    "# Outline\n",
    "---\n",
    "- [ ] Introduce comparaisons between frames to only code moving pixels\n",
    "    - [X] Solve an issue : script correctly modifying only the first frame\n",
    "    - [X] Solve an issue : \"write file\" command don't contain modifications\n",
    "    - [ ] Solve an issue : badly processed frames\n",
    "        - [ ] Find a way to substract frame with the previous one\n",
    "- [X] Convert the video file to mp4 instead of avi\n",
    "- [X] Capture a video with a stable background and moving object\n",
    "- [ ] Implement the scripts into OpenRetina\n",
    "- [ ] Make the Pi do the GC layer work \n",
    "- [ ] [OPT] Add a way to delete the video file on the Pi after sending and processing are done.\n",
    "- [ ] [OPT] Try to find the optimal chunk size for a faster file transfer.\n",
    "- [ ] [OPT] Rewrite the scripts to introduce classes\n",
    "- [ ] [OPT] Dive into the video processing steps to find out when the sixth second (if the video is 5s long) is added\n",
    "\n",
    "Going further :\n",
    "- [ ] Study the program bottlenecks (Where does the program lose computing time?)\n",
    "    - [ ] Add flags to monitors each script\n",
    "- [ ] Switch from synchronous (phrs grabbing and sending frames when receiving other layers requests) to asynchronous (phrs grabbing continously and sending frames when requested) processes"
   ]
  }
 ],
 "metadata": {
  "kernelspec": {
   "display_name": "Python 3",
   "language": "python",
   "name": "python3"
  },
  "language_info": {
   "codemirror_mode": {
    "name": "ipython",
    "version": 3
   },
   "file_extension": ".py",
   "mimetype": "text/x-python",
   "name": "python",
   "nbconvert_exporter": "python",
   "pygments_lexer": "ipython3",
   "version": "3.5.2+"
  }
 },
 "nbformat": 4,
 "nbformat_minor": 2
}
