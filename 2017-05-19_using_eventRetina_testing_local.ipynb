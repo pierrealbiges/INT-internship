{
 "cells": [
  {
   "cell_type": "markdown",
   "metadata": {
    "deletable": true,
    "editable": true
   },
   "source": [
    "# testing locally without network\n",
    "\n",
    "\n",
    "Launching on the same computer \n",
    "- a client grabbing the display and sending it over the network (stays in the localhost),\n",
    "- a server displaying it on the host's display\n"
   ]
  },
  {
   "cell_type": "code",
   "execution_count": 1,
   "metadata": {
    "collapsed": false,
    "deletable": true,
    "editable": true
   },
   "outputs": [],
   "source": [
    "%load_ext autoreload\n",
    "%autoreload 2"
   ]
  },
  {
   "cell_type": "markdown",
   "metadata": {},
   "source": [
    "# transforming an array in a set of indices\n",
    "\n",
    "See http://blog.invibe.net/posts/2016-11-17-finding-extremal-values-in-a-nd-array.html"
   ]
  },
  {
   "cell_type": "code",
   "execution_count": 2,
   "metadata": {
    "collapsed": false
   },
   "outputs": [
    {
     "name": "stdout",
     "output_type": "stream",
     "text": [
      "[[ 1.38207536 -0.68108601 -0.09493096]\n",
      " [ 1.53986342  0.54282643  0.40831282]\n",
      " [-0.38489655 -0.90544795  0.58080305]\n",
      " [-0.88308875  0.71260655 -0.34829446]]\n"
     ]
    }
   ],
   "source": [
    "import numpy as np\n",
    "x = np.random.randn(4, 3)\n",
    "print (x)"
   ]
  },
  {
   "cell_type": "code",
   "execution_count": 3,
   "metadata": {
    "collapsed": false
   },
   "outputs": [
    {
     "data": {
      "text/plain": [
       "array([ 7,  9,  1,  6, 11,  2,  5,  4,  8, 10,  0,  3])"
      ]
     },
     "execution_count": 3,
     "metadata": {},
     "output_type": "execute_result"
    }
   ],
   "source": [
    "np.argsort(x.ravel())"
   ]
  },
  {
   "cell_type": "code",
   "execution_count": 4,
   "metadata": {
    "collapsed": false
   },
   "outputs": [
    {
     "name": "stdout",
     "output_type": "stream",
     "text": [
      "(array([2, 3, 0, 2, 3, 0, 1, 1, 2, 3, 0, 1]), array([1, 0, 1, 0, 2, 2, 2, 1, 2, 1, 0, 0]))\n"
     ]
    }
   ],
   "source": [
    "print (np.unravel_index(np.argsort(x.ravel()), x.shape))"
   ]
  },
  {
   "cell_type": "markdown",
   "metadata": {},
   "source": [
    "just coding the max and min:"
   ]
  },
  {
   "cell_type": "code",
   "execution_count": 5,
   "metadata": {
    "collapsed": false
   },
   "outputs": [
    {
     "name": "stdout",
     "output_type": "stream",
     "text": [
      "[7 9 0 3]\n"
     ]
    }
   ],
   "source": [
    "n_datapoints=2\n",
    "x_ = np.argsort(x.ravel())\n",
    "data_ = np.hstack((x_[:n_datapoints], x_[-n_datapoints:]))\n",
    "print(data_)"
   ]
  },
  {
   "cell_type": "code",
   "execution_count": 6,
   "metadata": {
    "collapsed": false
   },
   "outputs": [],
   "source": [
    "y = np.zeros_like(x)\n",
    "#print(y)"
   ]
  },
  {
   "cell_type": "code",
   "execution_count": 7,
   "metadata": {
    "collapsed": false
   },
   "outputs": [
    {
     "name": "stdout",
     "output_type": "stream",
     "text": [
      "[[ 1.  0.  0.]\n",
      " [ 1.  0.  0.]\n",
      " [ 0. -1.  0.]\n",
      " [-1.  0.  0.]]\n"
     ]
    }
   ],
   "source": [
    "y[np.unravel_index(data_[:n_datapoints], x.shape)] = -1\n",
    "y[np.unravel_index(data_[-n_datapoints:], x.shape)] = 1\n",
    "print(y)"
   ]
  },
  {
   "cell_type": "code",
   "execution_count": null,
   "metadata": {
    "collapsed": true
   },
   "outputs": [],
   "source": []
  },
  {
   "cell_type": "markdown",
   "metadata": {},
   "source": [
    "## applying the principle to the retina"
   ]
  },
  {
   "cell_type": "code",
   "execution_count": 8,
   "metadata": {
    "collapsed": false,
    "deletable": true,
    "editable": true
   },
   "outputs": [
    {
     "name": "stdout",
     "output_type": "stream",
     "text": [
      "Overwriting 2017-05-19_using_eventRetina_testing_local_camera.py\n"
     ]
    }
   ],
   "source": [
    "%%writefile 2017-05-19_using_eventRetina_testing_local_camera.py\n",
    "#! /usr/bin/env python3\n",
    "# -*- coding: utf8 -*-\n",
    "from __future__ import division, print_function\n",
    "\"\"\"\n",
    "openRetina : a photoreceptor layer\n",
    "See https://github.com/laurentperrinet/openRetina\n",
    "\"\"\"\n",
    "__author__ = \"(c) Pierre Albiges, Victor Boutin & Laurent Perrinet INT - CNRS\"\n",
    "\n",
    "from eventRetina import eventRetina\n",
    "phrs = eventRetina(model=dict(layer='phrs', # label for this layer\n",
    "                             input=['camera'], # input: can be the camera, noise, a movie (TODO)\n",
    "                             output=['stream'] # output: can be stream, display, ...\n",
    "                             ))\n",
    "phrs.run()"
   ]
  },
  {
   "cell_type": "raw",
   "metadata": {
    "deletable": true,
    "editable": true
   },
   "source": [
    "!ipython3 2017-05-15_using_openretina_testing_camera.py &"
   ]
  },
  {
   "cell_type": "code",
   "execution_count": 9,
   "metadata": {
    "collapsed": true,
    "deletable": true,
    "editable": true
   },
   "outputs": [],
   "source": [
    "!chmod +x 2017-05-19_using_eventRetina_testing_local_camera.py "
   ]
  },
  {
   "cell_type": "code",
   "execution_count": 10,
   "metadata": {
    "collapsed": false,
    "deletable": true,
    "editable": true
   },
   "outputs": [
    {
     "name": "stdout",
     "output_type": "stream",
     "text": [
      "Overwriting 2017-05-19_using_eventRetina_testing_local_srv.py\n"
     ]
    }
   ],
   "source": [
    "%%writefile 2017-05-19_using_eventRetina_testing_local_srv.py\n",
    "\"\"\"\n",
    "openRetina : a basic thalamic layer\n",
    "See https://github.com/laurentperrinet/openRetina\n",
    "\"\"\"\n",
    "__author__ = \"(c) Victor Boutin & Laurent Perrinet INT - CNRS\"\n",
    "\n",
    "import subprocess\n",
    "p = subprocess.Popen(['./2017-05-19_using_eventRetina_testing_local_camera.py'])\n",
    "\n",
    "from eventRetina import eventRetina\n",
    "camera = eventRetina(model=dict(layer='spikes directly from luminances', # label for this layer\n",
    "                                 input=['stream'], # input: can be the camera, noise, a movie (TODO)\n",
    "                                 output=['display'], # output: can be stream, display, capture,...\n",
    "                                 T_SIM=5, sparseness=0.01))\n",
    "camera.run()"
   ]
  },
  {
   "cell_type": "code",
   "execution_count": 11,
   "metadata": {
    "collapsed": true,
    "deletable": true,
    "editable": true
   },
   "outputs": [],
   "source": [
    "!chmod +x 2017-05-19_using_eventRetina_testing_local_srv.py"
   ]
  },
  {
   "cell_type": "code",
   "execution_count": 12,
   "metadata": {
    "collapsed": false,
    "deletable": true,
    "editable": true,
    "scrolled": false
   },
   "outputs": [
    {
     "name": "stdout",
     "output_type": "stream",
     "text": [
      "\u001b]0;IPython: research/PA_INT-internship\u0007Number of points sent at each frame= 922\n",
      "Connecting to retina with port 5566\n",
      "2017-05-19 20:19:14.688 Python[56825:37433066] ApplePersistenceIgnoreState: Existing state will not be touched. New state will be written to /var/folders/3p/m0g52j9j69z3gj8ktpgg1dm00000gn/T/org.python.python.savedState\n",
      "/usr/local/lib/python3.6/site-packages/IPython/config.py:13: ShimWarning: The `IPython.config` package has been deprecated since IPython 4.0. You should import from traitlets.config instead.\n",
      "  \"You should import from traitlets.config instead.\", ShimWarning)\n",
      "Duration:  0.05737805366516113\n",
      "Sending request\n",
      "Before a downscale of 1 dim1 : 720, dim2 : 1280\n",
      "Using OpenCV\n",
      "After a downscale of 1, dim1 : 720.0, dim2 : 1280.0\n",
      "Running out_socket on port:  5566\n",
      "Number of points sent at each frame= 922\n",
      "Camera client received request b'REQ'\n",
      "Capture grabbed\n",
      "Duration:  1.8668711185455322\n",
      "Sending request\n",
      "Camera client received request b'REQ'\n",
      "Capture grabbed\n",
      "Duration:  2.1325042247772217\n",
      "Sending request\n",
      "Camera client received request b'REQ'\n",
      "Capture grabbed\n",
      "Duration:  2.346379041671753\n",
      "Sending request\n",
      "Camera client received request b'REQ'\n",
      "Capture grabbed\n",
      "Duration:  2.4960262775421143\n",
      "Sending request\n",
      "Camera client received request b'REQ'\n",
      "Capture grabbed\n",
      "Duration:  2.641533374786377\n",
      "Sending request\n",
      "Camera client received request b'REQ'\n",
      "Capture grabbed\n",
      "Duration:  2.8103301525115967\n",
      "Sending request\n",
      "Camera client received request b'REQ'\n",
      "Capture grabbed\n",
      "Duration:  2.9698963165283203\n",
      "Sending request\n",
      "Camera client received request b'REQ'\n",
      "Capture grabbed\n",
      "Duration:  3.1375679969787598\n",
      "Sending request\n",
      "Camera client received request b'REQ'\n",
      "Capture grabbed\n",
      "Duration:  3.340423345565796\n",
      "Sending request\n",
      "Camera client received request b'REQ'\n",
      "Capture grabbed\n",
      "Duration:  3.5160892009735107\n",
      "Sending request\n",
      "Camera client received request b'REQ'\n",
      "Capture grabbed\n",
      "Duration:  3.6915831565856934\n",
      "Sending request\n",
      "Camera client received request b'REQ'\n",
      "Capture grabbed\n",
      "Duration:  3.8815972805023193\n",
      "Sending request\n",
      "Camera client received request b'REQ'\n",
      "Capture grabbed\n",
      "Duration:  4.042067050933838\n",
      "Sending request\n",
      "Camera client received request b'REQ'\n",
      "Capture grabbed\n",
      "Duration:  4.217950105667114\n",
      "Sending request\n",
      "Camera client received request b'REQ'\n",
      "Capture grabbed\n",
      "Duration:  4.394681215286255\n",
      "Sending request\n",
      "Camera client received request b'REQ'\n",
      "Capture grabbed\n",
      "Duration:  4.566155195236206\n",
      "Sending request\n",
      "Camera client received request b'REQ'\n",
      "Capture grabbed\n",
      "Duration:  4.75071120262146\n",
      "Sending request\n",
      "Camera client received request b'REQ'\n",
      "Capture grabbed\n",
      "Duration:  4.9199559688568115\n",
      "Sending request\n",
      "Camera client received request b'REQ'\n",
      "Capture grabbed\n",
      "Duration:  5.085626125335693\n",
      "Sending request\n",
      "Camera client received request b'REQ'\n",
      "Capture grabbed\n",
      "Duration:  5.28533935546875\n",
      "Sending request\n",
      "Camera client received request b'REQ'\n",
      "Capture grabbed\n",
      "Duration:  5.458344221115112\n",
      "Sending request\n",
      "Camera client received request b'REQ'\n",
      "Capture grabbed\n",
      "Duration:  5.632054090499878\n",
      "Sending request\n",
      "Camera client received request b'REQ'\n",
      "Capture grabbed\n",
      "Duration:  5.805243253707886\n",
      "Sending request\n",
      "Camera client received request b'REQ'\n",
      "Capture grabbed\n",
      "Duration:  5.983222007751465\n",
      "Sending request\n",
      "Camera client received request b'REQ'\n",
      "Capture grabbed\n",
      "Duration:  6.155001163482666\n",
      "Sending request\n",
      "Camera client received request b'REQ'\n",
      "Capture grabbed\n",
      "Duration:  6.360235214233398\n",
      "Sending request\n",
      "Camera client received request b'REQ'\n",
      "Capture grabbed\n",
      "Duration:  6.573806285858154\n",
      "Sending request\n",
      "Camera client received request b'REQ'\n",
      "Capture grabbed\n",
      "Duration:  6.749636173248291\n",
      "Sending request\n",
      "Camera client received request b'REQ'\n",
      "Capture grabbed\n",
      "Duration:  6.918819189071655\n",
      "Sending request\n",
      "Camera client received request b'REQ'\n",
      "Capture grabbed\n",
      "Duration:  7.092661142349243\n",
      "Sending request\n",
      "Camera client received request b'REQ'\n",
      "Capture grabbed\n",
      "Duration:  7.266175031661987\n",
      "Sending request\n",
      "Camera client received request b'REQ'\n",
      "Capture grabbed\n",
      "Duration:  7.443041086196899\n",
      "Sending request\n",
      "Camera client received request b'REQ'\n",
      "Capture grabbed\n",
      "Duration:  7.615143299102783\n",
      "Sending request\n",
      "Camera client received request b'REQ'\n",
      "Capture grabbed\n",
      "Duration:  7.7855870723724365\n",
      "Sending request\n",
      "Camera client received request b'REQ'\n",
      "Capture grabbed\n",
      "Duration:  7.982442140579224\n",
      "Sending request\n",
      "Camera client received request b'REQ'\n",
      "Capture grabbed\n",
      "Duration:  8.185439109802246\n",
      "Sending request\n",
      "Camera client received request b'REQ'\n",
      "Capture grabbed\n",
      "Duration:  8.398449182510376\n",
      "Sending request\n",
      "Camera client received request b'REQ'\n",
      "Capture grabbed\n",
      "Duration:  8.62147831916809\n",
      "Sending request\n",
      "Camera client received request b'REQ'\n",
      "Capture grabbed\n",
      "Duration:  8.816002130508423\n",
      "Sending request\n",
      "Camera client received request b'REQ'\n",
      "Capture grabbed\n",
      "Duration:  9.007920265197754\n",
      "Sent 0 images in 9 seconds at 0.00fps\n",
      "Camera client received request b'RIP'\n"
     ]
    }
   ],
   "source": [
    "!ipython3 2017-05-19_using_eventRetina_testing_local_srv.py"
   ]
  }
 ],
 "metadata": {
  "kernelspec": {
   "display_name": "Python 3",
   "language": "python",
   "name": "python3"
  },
  "language_info": {
   "codemirror_mode": {
    "name": "ipython",
    "version": 3
   },
   "file_extension": ".py",
   "mimetype": "text/x-python",
   "name": "python",
   "nbconvert_exporter": "python",
   "pygments_lexer": "ipython3",
   "version": "3.6.1"
  }
 },
 "nbformat": 4,
 "nbformat_minor": 2
}
