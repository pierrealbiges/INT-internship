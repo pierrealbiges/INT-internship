{
 "cells": [
  {
   "cell_type": "markdown",
   "metadata": {
    "deletable": true,
    "editable": true
   },
   "source": [
    "# Testing OpenRetina with noise\n",
    "\n",
    "\n",
    "Launching on the same computer \n",
    "- a client generating noise and sending it over the network,\n",
    "- a server displaying it on the host's display\n"
   ]
  },
  {
   "cell_type": "code",
   "execution_count": 1,
   "metadata": {
    "collapsed": true,
    "deletable": true,
    "editable": true
   },
   "outputs": [],
   "source": [
    "%load_ext autoreload\n",
    "%autoreload 2"
   ]
  },
  {
   "cell_type": "code",
   "execution_count": 2,
   "metadata": {
    "collapsed": false,
    "deletable": true,
    "editable": true
   },
   "outputs": [
    {
     "name": "stdout",
     "output_type": "stream",
     "text": [
      "Overwriting 2017-05-12_using_openretina_testing_noise.py\n"
     ]
    }
   ],
   "source": [
    "%%writefile 2017-05-12_using_openretina_testing_noise.py\n",
    "#! /usr/bin/env python3\n",
    "# -*- coding: utf8 -*-\n",
    "from __future__ import division, print_function\n",
    "\"\"\"\n",
    "openRetina : a photoreceptor layer\n",
    "See https://github.com/laurentperrinet/openRetina\n",
    "\"\"\"\n",
    "__author__ = \"(c) Pierre Albiges, Victor Boutin & Laurent Perrinet INT - CNRS\"\n",
    "\n",
    "from openRetina import openRetina\n",
    "\n",
    "phrs = openRetina(model=dict(layer='phrs', # label for this layer\n",
    "                             input=['noise'], # input: can be the camera, noise, a movie (TODO)\n",
    "                             output=['stream'] # output: can be stream, display, ...\n",
    "                             ))\n",
    "phrs.run()"
   ]
  },
  {
   "cell_type": "raw",
   "metadata": {
    "deletable": true,
    "editable": true
   },
   "source": [
    "!ipython3 2017-05-12_using_openretina_testing_noise.py"
   ]
  },
  {
   "cell_type": "code",
   "execution_count": 3,
   "metadata": {
    "collapsed": true,
    "deletable": true,
    "editable": true
   },
   "outputs": [],
   "source": [
    "!chmod +x 2017-05-12_using_openretina_testing_noise.py "
   ]
  },
  {
   "cell_type": "code",
   "execution_count": 4,
   "metadata": {
    "collapsed": false,
    "deletable": true,
    "editable": true
   },
   "outputs": [
    {
     "name": "stdout",
     "output_type": "stream",
     "text": [
      "Overwriting 2017-05-12_using_openretina_testing_noise_srv.py\n"
     ]
    }
   ],
   "source": [
    "%%writefile 2017-05-12_using_openretina_testing_noise_srv.py\n",
    "\"\"\"\n",
    "openRetina : a basic thalamic layer\n",
    "See https://github.com/laurentperrinet/openRetina\n",
    "\"\"\"\n",
    "__author__ = \"(c) Victor Boutin & Laurent Perrinet INT - CNRS\"\n",
    "\n",
    "import subprocess\n",
    "p = subprocess.Popen(['./2017-05-12_using_openretina_testing_noise.py'])\n",
    "\n",
    "from openRetina import openRetina\n",
    "noise = openRetina(model=dict(layer='displaying noise that we receive through the network', # label for this layer\n",
    "                                 input=['stream'], # input: can be the camera, noise, a movie (TODO)\n",
    "                                 output=['display'], # output: can be stream, display, capture,...\n",
    "                                 T_SIM=4))\n",
    "noise.run()"
   ]
  },
  {
   "cell_type": "code",
   "execution_count": 5,
   "metadata": {
    "collapsed": false,
    "deletable": true,
    "editable": true,
    "scrolled": false
   },
   "outputs": [
    {
     "name": "stdout",
     "output_type": "stream",
     "text": [
      "\u001b]0;IPython: research/PA_INT-internship\u0007displaying noise that we receive through the network Connecting to retina with port 5566\n",
      "Running out_socket on port:  5566\n",
      "2017-05-19 21:10:19.727 Python[57345:37459108] ApplePersistenceIgnoreState: Existing state will not be touched. New state will be written to /var/folders/3p/m0g52j9j69z3gj8ktpgg1dm00000gn/T/org.python.python.savedState\n",
      "/usr/local/lib/python3.6/site-packages/IPython/config.py:13: ShimWarning: The `IPython.config` package has been deprecated since IPython 4.0. You should import from traitlets.config instead.\n",
      "  \"You should import from traitlets.config instead.\", ShimWarning)\n",
      "displaying noise that we receive through the network is sending request\n",
      "phrs Noise input received request b'REQ'\n",
      "displaying noise that we receive through the network is sending request\n",
      "phrs Noise input received request b'REQ'\n",
      "displaying noise that we receive through the network is sending request\n",
      "phrs Noise input received request b'REQ'\n",
      "displaying noise that we receive through the network is sending request\n",
      "phrs Noise input received request b'REQ'\n",
      "displaying noise that we receive through the network is sending request\n",
      "phrs Noise input received request b'REQ'\n",
      "displaying noise that we receive through the network is sending request\n",
      "phrs Noise input received request b'REQ'\n",
      "displaying noise that we receive through the network is sending request\n",
      "phrs Noise input received request b'REQ'\n",
      "displaying noise that we receive through the network is sending request\n",
      "phrs Noise input received request b'REQ'\n",
      "displaying noise that we receive through the network is sending request\n",
      "phrs Noise input received request b'REQ'\n",
      "displaying noise that we receive through the network is sending request\n",
      "phrs Noise input received request b'REQ'\n",
      "displaying noise that we receive through the network is sending request\n",
      "phrs Noise input received request b'REQ'\n",
      "displaying noise that we receive through the network is sending request\n",
      "phrs Noise input received request b'REQ'\n",
      "displaying noise that we receive through the network is sending request\n",
      "phrs Noise input received request b'REQ'\n",
      "displaying noise that we receive through the network is sending request\n",
      "phrs Noise input received request b'REQ'\n",
      "displaying noise that we receive through the network is sending request\n",
      "phrs Noise input received request b'REQ'\n",
      "displaying noise that we receive through the network is sending request\n",
      "phrs Noise input received request b'REQ'\n",
      "displaying noise that we receive through the network is sending request\n",
      "phrs Noise input received request b'REQ'\n",
      "displaying noise that we receive through the network is sending request\n",
      "phrs Noise input received request b'REQ'\n",
      "displaying noise that we receive through the network is sending request\n",
      "phrs Noise input received request b'REQ'\n",
      "displaying noise that we receive through the network is sending request\n",
      "phrs Noise input received request b'REQ'\n",
      "displaying noise that we receive through the network is sending request\n",
      "phrs Noise input received request b'REQ'\n",
      "displaying noise that we receive through the network is sending request\n",
      "phrs Noise input received request b'REQ'\n",
      "displaying noise that we receive through the network is sending request\n",
      "phrs Noise input received request b'REQ'\n",
      "displaying noise that we receive through the network is sending request\n",
      "phrs Noise input received request b'REQ'\n",
      "displaying noise that we receive through the network is sending request\n",
      "phrs Noise input received request b'REQ'\n",
      "displaying noise that we receive through the network is sending request\n",
      "phrs Noise input received request b'REQ'\n",
      "displaying noise that we receive through the network is sending request\n",
      "phrs Noise input received request b'REQ'\n",
      "displaying noise that we receive through the network is sending request\n",
      "phrs Noise input received request b'REQ'\n",
      "displaying noise that we receive through the network is sending request\n",
      "phrs Noise input received request b'REQ'\n",
      "displaying noise that we receive through the network is sending request\n",
      "phrs Noise input received request b'REQ'\n",
      "displaying noise that we receive through the network is sending request\n",
      "phrs Noise input received request b'REQ'\n",
      "displaying noise that we receive through the network is sending request\n",
      "phrs Noise input received request b'REQ'\n",
      "displaying noise that we receive through the network is sending request\n",
      "phrs Noise input received request b'REQ'\n",
      "displaying noise that we receive through the network is sending request\n",
      "phrs Noise input received request b'REQ'\n",
      "displaying noise that we receive through the network is sending request\n",
      "phrs Noise input received request b'REQ'\n",
      "displaying noise that we receive through the network is sending request\n",
      "phrs Noise input received request b'REQ'\n",
      "displaying noise that we receive through the network is sending request\n",
      "phrs Noise input received request b'REQ'\n",
      "displaying noise that we receive through the network is sending request\n",
      "phrs Noise input received request b'REQ'\n",
      "displaying noise that we receive through the network is sending request\n",
      "phrs Noise input received request b'REQ'\n",
      "displaying noise that we receive through the network is sending request\n",
      "phrs Noise input received request b'REQ'\n",
      "displaying noise that we receive through the network is sending request\n",
      "phrs Noise input received request b'REQ'\n",
      "displaying noise that we receive through the network is sending request\n",
      "phrs Noise input received request b'REQ'\n",
      "displaying noise that we receive through the network is sending request\n",
      "phrs Noise input received request b'REQ'\n",
      "displaying noise that we receive through the network is sending request\n",
      "phrs Noise input received request b'REQ'\n",
      "displaying noise that we receive through the network is sending request\n",
      "phrs Noise input received request b'REQ'\n",
      "displaying noise that we receive through the network is sending request\n",
      "phrs Noise input received request b'REQ'\n",
      "displaying noise that we receive through the network is sending request\n",
      "phrs Noise input received request b'REQ'\n",
      "displaying noise that we receive through the network is sending request\n",
      "phrs Noise input received request b'REQ'\n",
      "displaying noise that we receive through the network is sending request\n",
      "phrs Noise input received request b'REQ'\n",
      "displaying noise that we receive through the network is sending request\n",
      "phrs Noise input received request b'REQ'\n",
      "displaying noise that we receive through the network is sending request\n",
      "phrs Noise input received request b'REQ'\n",
      "displaying noise that we receive through the network is sending request\n",
      "phrs Noise input received request b'REQ'\n",
      "displaying noise that we receive through the network is sending request\n",
      "phrs Noise input received request b'REQ'\n",
      "displaying noise that we receive through the network is sending request\n",
      "phrs Noise input received request b'REQ'\n",
      "displaying noise that we receive through the network is sending request\n",
      "phrs Noise input received request b'REQ'\n",
      "displaying noise that we receive through the network is sending request\n",
      "phrs Noise input received request b'REQ'\n",
      "displaying noise that we receive through the network is sending request\n",
      "phrs Noise input received request b'REQ'\n",
      "displaying noise that we receive through the network is sending request\n",
      "phrs Noise input received request b'REQ'\n",
      "displaying noise that we receive through the network is sending request\n",
      "phrs Noise input received request b'REQ'\n",
      "displaying noise that we receive through the network is sending request\n",
      "phrs Noise input received request b'REQ'\n",
      "displaying noise that we receive through the network is sending request\n",
      "phrs Noise input received request b'REQ'\n",
      "displaying noise that we receive through the network is sending request\n",
      "phrs Noise input received request b'REQ'\n",
      "displaying noise that we receive through the network is sending request\n",
      "phrs Noise input received request b'REQ'\n",
      "displaying noise that we receive through the network is sending request\n",
      "phrs Noise input received request b'REQ'\n",
      "displaying noise that we receive through the network is sending request\n",
      "phrs Noise input received request b'REQ'\n",
      "displaying noise that we receive through the network is sending request\n",
      "phrs Noise input received request b'REQ'\n",
      "displaying noise that we receive through the network is sending request\n",
      "phrs Noise input received request b'REQ'\n",
      "displaying noise that we receive through the network is sending request\n",
      "phrs Noise input received request b'REQ'\n",
      "displaying noise that we receive through the network is sending request\n",
      "phrs Noise input received request b'REQ'\n",
      "displaying noise that we receive through the network is sending request\n",
      "phrs Noise input received request b'REQ'\n",
      "displaying noise that we receive through the network is sending request\n",
      "phrs Noise input received request b'REQ'\n",
      "displaying noise that we receive through the network is sending request\n",
      "phrs Noise input received request b'REQ'\n",
      "displaying noise that we receive through the network is sending request\n",
      "phrs Noise input received request b'REQ'\n",
      "displaying noise that we receive through the network is sending request\n",
      "phrs Noise input received request b'REQ'\n",
      "displaying noise that we receive through the network is sending request\n",
      "phrs Noise input received request b'REQ'\n",
      "displaying noise that we receive through the network is sending request\n",
      "phrs Noise input received request b'REQ'\n",
      "displaying noise that we receive through the network is sending request\n",
      "phrs Noise input received request b'REQ'\n",
      "displaying noise that we receive through the network is sending request\n",
      "phrs Noise input received request b'REQ'\n",
      "displaying noise that we receive through the network is sending request\n",
      "phrs Noise input received request b'REQ'\n",
      "displaying noise that we receive through the network is sending request\n",
      "phrs Noise input received request b'REQ'\n",
      "displaying noise that we receive through the network is sending request\n",
      "phrs Noise input received request b'REQ'\n",
      "displaying noise that we receive through the network is sending request\n",
      "phrs Noise input received request b'REQ'\n",
      "displaying noise that we receive through the network is sending request\n",
      "phrs Noise input received request b'REQ'\n",
      "phrs Noise input received request b'RIP'\n",
      "Traceback (most recent call last):\n",
      "  File \"./2017-05-12_using_openretina_testing_noise.py\", line 16, in <module>\n",
      "    phrs.run()\n",
      "  File \"/Users/laurentperrinet/research/openRetina/src/openRetina.py\", line 257, in run\n",
      "    count, finish-start, count / (finish-start)))\n",
      "UnboundLocalError: local variable 'start' referenced before assignment\n"
     ]
    }
   ],
   "source": [
    "!ipython3 2017-05-12_using_openretina_testing_noise_srv.py"
   ]
  }
 ],
 "metadata": {
  "kernelspec": {
   "display_name": "Python 3",
   "language": "python",
   "name": "python3"
  },
  "language_info": {
   "codemirror_mode": {
    "name": "ipython",
    "version": 3
   },
   "file_extension": ".py",
   "mimetype": "text/x-python",
   "name": "python",
   "nbconvert_exporter": "python",
   "pygments_lexer": "ipython3",
   "version": "3.6.1"
  }
 },
 "nbformat": 4,
 "nbformat_minor": 2
}
